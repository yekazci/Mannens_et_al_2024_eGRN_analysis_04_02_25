{
 "cells": [
  {
   "cell_type": "markdown",
   "id": "03a7654f-f6f2-4942-b7f9-cfaea186af4d",
   "metadata": {},
   "source": [
    "In this notebook, I will preprocess the Mannens et al. dataset for the application\\\n",
    "of Epiregulon package to infer eGRNs using all of the genes."
   ]
  },
  {
   "cell_type": "code",
   "execution_count": 1,
   "id": "1528812d-e9ea-49fa-834f-8f3d6731822f",
   "metadata": {},
   "outputs": [
    {
     "data": {
      "text/html": [
       "'/fast/AG_Bunina/Yusuf/Project_Endothelial_and_Stroke/Datasets/Chromatin_and_Gene_Exp/2024_C_A_Mannens_C_et_al/04_02_25'"
      ],
      "text/latex": [
       "'/fast/AG\\_Bunina/Yusuf/Project\\_Endothelial\\_and\\_Stroke/Datasets/Chromatin\\_and\\_Gene\\_Exp/2024\\_C\\_A\\_Mannens\\_C\\_et\\_al/04\\_02\\_25'"
      ],
      "text/markdown": [
       "'/fast/AG_Bunina/Yusuf/Project_Endothelial_and_Stroke/Datasets/Chromatin_and_Gene_Exp/2024_C_A_Mannens_C_et_al/04_02_25'"
      ],
      "text/plain": [
       "[1] \"/fast/AG_Bunina/Yusuf/Project_Endothelial_and_Stroke/Datasets/Chromatin_and_Gene_Exp/2024_C_A_Mannens_C_et_al/04_02_25\""
      ]
     },
     "metadata": {},
     "output_type": "display_data"
    }
   ],
   "source": [
    "getwd()"
   ]
  },
  {
   "cell_type": "code",
   "execution_count": 2,
   "id": "ed1a52ba-7dad-4541-bd6e-d8ccee5397e1",
   "metadata": {},
   "outputs": [
    {
     "data": {
      "text/html": [
       "<style>\n",
       ".list-inline {list-style: none; margin:0; padding: 0}\n",
       ".list-inline>li {display: inline-block}\n",
       ".list-inline>li:not(:last-child)::after {content: \"\\00b7\"; padding: 0 .5ex}\n",
       "</style>\n",
       "<ol class=list-inline><li>'/fast/home/y/ykazci/R/x86_64-unknown-linux-gnu-library/4.3'</li><li>'/gnu/store/mj2kqa65bbqr3155zccvm01hq7wi7fng-profile/site-library'</li><li>'/gnu/store/29x2k7i71g9xq09xmbj1lk515cl7if63-r-minimal-4.4.2/lib/R/library'</li></ol>\n"
      ],
      "text/latex": [
       "\\begin{enumerate*}\n",
       "\\item '/fast/home/y/ykazci/R/x86\\_64-unknown-linux-gnu-library/4.3'\n",
       "\\item '/gnu/store/mj2kqa65bbqr3155zccvm01hq7wi7fng-profile/site-library'\n",
       "\\item '/gnu/store/29x2k7i71g9xq09xmbj1lk515cl7if63-r-minimal-4.4.2/lib/R/library'\n",
       "\\end{enumerate*}\n"
      ],
      "text/markdown": [
       "1. '/fast/home/y/ykazci/R/x86_64-unknown-linux-gnu-library/4.3'\n",
       "2. '/gnu/store/mj2kqa65bbqr3155zccvm01hq7wi7fng-profile/site-library'\n",
       "3. '/gnu/store/29x2k7i71g9xq09xmbj1lk515cl7if63-r-minimal-4.4.2/lib/R/library'\n",
       "\n",
       "\n"
      ],
      "text/plain": [
       "[1] \"/fast/home/y/ykazci/R/x86_64-unknown-linux-gnu-library/4.3\"               \n",
       "[2] \"/gnu/store/mj2kqa65bbqr3155zccvm01hq7wi7fng-profile/site-library\"         \n",
       "[3] \"/gnu/store/29x2k7i71g9xq09xmbj1lk515cl7if63-r-minimal-4.4.2/lib/R/library\""
      ]
     },
     "metadata": {},
     "output_type": "display_data"
    }
   ],
   "source": [
    ".libPaths()"
   ]
  },
  {
   "cell_type": "code",
   "execution_count": 3,
   "id": "bb3193e3-95e0-4e1c-a534-a48b9acdb9e9",
   "metadata": {},
   "outputs": [],
   "source": [
    "my_lib_paths <- .libPaths()"
   ]
  },
  {
   "cell_type": "code",
   "execution_count": 4,
   "id": "30814a76-cc61-4afb-8c6b-9b82b0467fcf",
   "metadata": {},
   "outputs": [
    {
     "name": "stdout",
     "output_type": "stream",
     "text": [
      "- The project is out-of-sync -- use `renv::status()` for details.\n"
     ]
    }
   ],
   "source": [
    "# load the R environment with the necessary packages:\n",
    "\n",
    "renv::load()"
   ]
  },
  {
   "cell_type": "code",
   "execution_count": 5,
   "id": "42fdf26a-03cb-459b-b6dc-4f06c2e20522",
   "metadata": {},
   "outputs": [
    {
     "name": "stdout",
     "output_type": "stream",
     "text": [
      "The following package(s) are in an inconsistent state:\n",
      "\n",
      " package          installed recorded used\n",
      " Deriv            y         n        y   \n",
      " Formula          y         n        y   \n",
      " MatrixModels     y         n        y   \n",
      " Rdpack           y         n        y   \n",
      " SeuratExtend     y         n        y   \n",
      " SeuratExtendData y         n        y   \n",
      " SparseM          y         n        y   \n",
      " boot             y         n        y   \n",
      " car              y         n        y   \n",
      " carData          y         n        y   \n",
      " corrplot         y         n        y   \n",
      " doBy             y         n        y   \n",
      " ggformula        y         n        y   \n",
      " ggpubr           y         n        y   \n",
      " ggsci            y         n        y   \n",
      " ggsignif         y         n        y   \n",
      " hdf5r            n         n        y   \n",
      " labelled         y         n        y   \n",
      " leiden           y         y        ?   \n",
      " leidenbase       y         n        y   \n",
      " lme4             y         n        y   \n",
      " microbenchmark   y         n        y   \n",
      " minqa            y         n        y   \n",
      " mosaic           y         n        y   \n",
      " mosaicCore       y         n        y   \n",
      " mosaicData       y         n        y   \n",
      " nloptr           y         n        y   \n",
      " nnet             y         n        y   \n",
      " numDeriv         y         n        y   \n",
      " pbkrtest         y         n        y   \n",
      " polynom          y         n        y   \n",
      " quantreg         y         n        y   \n",
      " rbibutils        y         n        y   \n",
      " reformulas       y         n        y   \n",
      " remotes          y         n        y   \n",
      " rlist            y         n        y   \n",
      " rstatix          y         n        y   \n",
      "\n",
      "The following package(s) are out of sync [lockfile != library]:\n",
      "\n",
      "# CRAN -----------------------------------------------------------------------\n",
      "- BH                 [1.84.0-0 != 1.87.0-1]\n",
      "- BiocManager        [1.30.24 != 1.30.25]\n",
      "- FNN                [1.1.4 != 1.1.4.1]\n",
      "- Rcpp               [1.0.13 != 1.0.14]\n",
      "- RcppArmadillo      [14.0.0-1 != 14.2.3-1]\n",
      "- Seurat             [5.1.0 != 5.2.1]\n",
      "- abind              [1.4-5 != 1.4-8]\n",
      "- askpass            [1.2.0 != 1.2.1]\n",
      "- bit                [4.0.5 != 4.5.0.1]\n",
      "- bit64              [4.0.5 != 4.6.0-1]\n",
      "- bitops             [1.0-8 != 1.0-9]\n",
      "- broom              [1.0.6 != 1.0.7]\n",
      "- bslib              [0.8.0 != 0.9.0]\n",
      "- caTools            [1.18.2 != 1.18.3]\n",
      "- commonmark         [1.9.1 != 1.9.2]\n",
      "- cpp11              [0.5.0 != 0.5.1]\n",
      "- data.table         [1.16.0 != 1.16.4]\n",
      "- dotCall64          [1.1-1 != 1.2]\n",
      "- evaluate           [0.24.0 != 1.0.3]\n",
      "- fastDummies        [1.7.4 != 1.7.5]\n",
      "- fitdistrplus       [1.2-1 != 1.2-2]\n",
      "- fontawesome        [0.5.2 != 0.5.3]\n",
      "- future.apply       [1.11.2 != 1.11.3]\n",
      "- ggrepel            [0.9.5 != 0.9.6]\n",
      "- glue               [1.7.0 != 1.8.0]\n",
      "- gplots             [3.1.3.1 != 3.2.0]\n",
      "- gtable             [0.3.5 != 0.3.6]\n",
      "- igraph             [2.0.3 != 2.1.4]\n",
      "- jsonlite           [1.8.8 != 1.8.9]\n",
      "- knitr              [1.48 != 1.49]\n",
      "- matrixStats        [1.3.0 != 1.5.0]\n",
      "- openssl            [2.2.1 != 2.3.2]\n",
      "- parallelly         [1.38.0 != 1.42.0]\n",
      "- patchwork          [1.2.0 != 1.3.0]\n",
      "- pillar             [1.9.0 != 1.10.1]\n",
      "- progressr          [0.14.0 != 0.15.1]\n",
      "- purrr              [1.0.2 != 1.0.4]\n",
      "- reticulate         [1.38.0 != 1.40.0]\n",
      "- rlang              [1.1.4 != 1.1.5]\n",
      "- rmarkdown          [2.28 != 2.29]\n",
      "- shiny              [1.9.1 != 1.10.0]\n",
      "- sp                 [2.1-4 != 2.2-0]\n",
      "- spam               [2.10-0 != 2.11-1]\n",
      "- spatstat.data      [3.1-2 != 3.1-4]\n",
      "- spatstat.explore   [3.3-2 != 3.3-4]\n",
      "- spatstat.geom      [3.3-2 != 3.3-5]\n",
      "- spatstat.random    [3.3-1 != 3.3-2]\n",
      "- spatstat.univar    [3.0-0 != 3.1-1]\n",
      "- spatstat.utils     [3.1-0 != 3.1-2]\n",
      "- sys                [3.4.2 != 3.4.3]\n",
      "- tinytex            [0.52 != 0.54]\n",
      "- withr              [3.0.1 != 3.0.2]\n",
      "- xfun               [0.47 != 0.50]\n",
      "\n",
      "See ?renv::status() for advice on resolving these issues.\n"
     ]
    }
   ],
   "source": [
    "renv::status()"
   ]
  },
  {
   "cell_type": "markdown",
   "id": "70e6148b-a4fc-46f9-942c-cd2413cda084",
   "metadata": {},
   "source": [
    "hdfr package requires access to some system level libraries. \\\n",
    "I installed this package using guix to my guix profile. Now use \\\n",
    "renv::hydrate() to link and install this package to my renv library."
   ]
  },
  {
   "cell_type": "code",
   "execution_count": 6,
   "id": "76dbc9cd-6705-4d7e-867a-c07798aca78f",
   "metadata": {},
   "outputs": [
    {
     "name": "stdout",
     "output_type": "stream",
     "text": [
      "The following packages were discovered:\n",
      "\n",
      "# /gnu/store/mj2kqa65bbqr3155zccvm01hq7wi7fng-profile/site-library -----------\n",
      "- hdf5r   1.3.11\n",
      "\n",
      "They will be linked into the project library.\n",
      "\n",
      "Done!king packages into the project library ... \n",
      "- Hydrated 1 packages in 3.3 seconds.\n",
      "- Resolving missing dependencies ... \n",
      "# Installing packages --------------------------------------------------------\n"
     ]
    }
   ],
   "source": [
    "renv::hydrate(packages = 'hdf5r', sources = my_lib_paths)"
   ]
  },
  {
   "cell_type": "code",
   "execution_count": 7,
   "id": "babece1b-8784-417b-b9d6-ed9f2320dbb3",
   "metadata": {},
   "outputs": [
    {
     "name": "stdout",
     "output_type": "stream",
     "text": [
      "The following package(s) will be updated in the lockfile:\n",
      "\n",
      "# CRAN -----------------------------------------------------------------------\n",
      "- BH                 [1.84.0-0 -> 1.87.0-1]\n",
      "- BiocManager        [1.30.24 -> 1.30.25]\n",
      "- FNN                [1.1.4 -> 1.1.4.1]\n",
      "- Rcpp               [1.0.13 -> 1.0.14]\n",
      "- RcppArmadillo      [14.0.0-1 -> 14.2.3-1]\n",
      "- Seurat             [5.1.0 -> 5.2.1]\n",
      "- abind              [1.4-5 -> 1.4-8]\n",
      "- askpass            [1.2.0 -> 1.2.1]\n",
      "- bit                [4.0.5 -> 4.5.0.1]\n",
      "- bit64              [4.0.5 -> 4.6.0-1]\n",
      "- bitops             [1.0-8 -> 1.0-9]\n",
      "- broom              [1.0.6 -> 1.0.7]\n",
      "- bslib              [0.8.0 -> 0.9.0]\n",
      "- caTools            [1.18.2 -> 1.18.3]\n",
      "- commonmark         [1.9.1 -> 1.9.2]\n",
      "- cpp11              [0.5.0 -> 0.5.1]\n",
      "- data.table         [1.16.0 -> 1.16.4]\n",
      "- dotCall64          [1.1-1 -> 1.2]\n",
      "- evaluate           [0.24.0 -> 1.0.3]\n",
      "- fastDummies        [1.7.4 -> 1.7.5]\n",
      "- fitdistrplus       [1.2-1 -> 1.2-2]\n",
      "- fontawesome        [0.5.2 -> 0.5.3]\n",
      "- future.apply       [1.11.2 -> 1.11.3]\n",
      "- ggrepel            [0.9.5 -> 0.9.6]\n",
      "- glue               [1.7.0 -> 1.8.0]\n",
      "- gplots             [3.1.3.1 -> 3.2.0]\n",
      "- gtable             [0.3.5 -> 0.3.6]\n",
      "- igraph             [2.0.3 -> 2.1.4]\n",
      "- jsonlite           [1.8.8 -> 1.8.9]\n",
      "- knitr              [1.48 -> 1.49]\n",
      "- leiden             [0.4.3.1 -> *]\n",
      "- matrixStats        [1.3.0 -> 1.5.0]\n",
      "- openssl            [2.2.1 -> 2.3.2]\n",
      "- parallelly         [1.38.0 -> 1.42.0]\n",
      "- patchwork          [1.2.0 -> 1.3.0]\n",
      "- pillar             [1.9.0 -> 1.10.1]\n",
      "- progressr          [0.14.0 -> 0.15.1]\n",
      "- purrr              [1.0.2 -> 1.0.4]\n",
      "- reticulate         [1.38.0 -> 1.40.0]\n",
      "- rlang              [1.1.4 -> 1.1.5]\n",
      "- rmarkdown          [2.28 -> 2.29]\n",
      "- shiny              [1.9.1 -> 1.10.0]\n",
      "- sp                 [2.1-4 -> 2.2-0]\n",
      "- spam               [2.10-0 -> 2.11-1]\n",
      "- spatstat.data      [3.1-2 -> 3.1-4]\n",
      "- spatstat.explore   [3.3-2 -> 3.3-4]\n",
      "- spatstat.geom      [3.3-2 -> 3.3-5]\n",
      "- spatstat.random    [3.3-1 -> 3.3-2]\n",
      "- spatstat.univar    [3.0-0 -> 3.1-1]\n",
      "- spatstat.utils     [3.1-0 -> 3.1-2]\n",
      "- sys                [3.4.2 -> 3.4.3]\n",
      "- tinytex            [0.52 -> 0.54]\n",
      "- withr              [3.0.1 -> 3.0.2]\n",
      "- xfun               [0.47 -> 0.50]\n",
      "- Deriv              [* -> 4.1.6]\n",
      "- Formula            [* -> 1.2-5]\n",
      "- MatrixModels       [* -> 0.5-3]\n",
      "- Rdpack             [* -> 2.6.2]\n",
      "- SparseM            [* -> 1.84-2]\n",
      "- boot               [* -> 1.3-31]\n",
      "- car                [* -> 3.1-3]\n",
      "- carData            [* -> 3.0-5]\n",
      "- corrplot           [* -> 0.95]\n",
      "- doBy               [* -> 4.6.25]\n",
      "- ggformula          [* -> 0.12.0]\n",
      "- ggpubr             [* -> 0.6.0]\n",
      "- ggsci              [* -> 3.2.0]\n",
      "- ggsignif           [* -> 0.6.4]\n",
      "- hdf5r              [* -> 1.3.11]\n",
      "- labelled           [* -> 2.14.0]\n",
      "- leidenbase         [* -> 0.1.32]\n",
      "- lme4               [* -> 1.1-36]\n",
      "- microbenchmark     [* -> 1.5.0]\n",
      "- minqa              [* -> 1.2.8]\n",
      "- mosaic             [* -> 1.9.1]\n",
      "- mosaicCore         [* -> 0.9.4.0]\n",
      "- mosaicData         [* -> 0.20.4]\n",
      "- nloptr             [* -> 2.1.1]\n",
      "- nnet               [* -> 7.3-19]\n",
      "- numDeriv           [* -> 2016.8-1.1]\n",
      "- pbkrtest           [* -> 0.5.3]\n",
      "- polynom            [* -> 1.4-1]\n",
      "- quantreg           [* -> 6.00]\n",
      "- rbibutils          [* -> 2.3]\n",
      "- reformulas         [* -> 0.4.0]\n",
      "- remotes            [* -> 2.5.0]\n",
      "- rlist              [* -> 0.4.6.2]\n",
      "- rstatix            [* -> 0.7.2]\n",
      "\n",
      "# GitHub ---------------------------------------------------------------------\n",
      "- SeuratExtend       [* -> huayc09/SeuratExtend@HEAD]\n",
      "- SeuratExtendData   [* -> huayc09/SeuratExtendData@HEAD]\n",
      "\n",
      "The version of R recorded in the lockfile will be updated:\n",
      "- R                  [4.4.1 -> 4.4.2]\n",
      "\n",
      "- Lockfile written to \"/fast/AG_Bunina/Yusuf/Project_Endothelial_and_Stroke/Datasets/Chromatin_and_Gene_Exp/2024_C_A_Mannens_C_et_al/04_02_25/renv.lock\".\n"
     ]
    }
   ],
   "source": [
    "renv::snapshot()"
   ]
  },
  {
   "cell_type": "code",
   "execution_count": 8,
   "id": "f05a10ff-b531-4204-b347-58832337eeb5",
   "metadata": {},
   "outputs": [
    {
     "name": "stdout",
     "output_type": "stream",
     "text": [
      "- The lockfile is already up to date.\n"
     ]
    }
   ],
   "source": [
    "renv::snapshot()"
   ]
  },
  {
   "cell_type": "markdown",
   "id": "d4243c1f-f549-45c0-a01f-740af6b80a78",
   "metadata": {},
   "source": [
    "This is the current renv.lock that contains both Mannens et al project\\\n",
    "relevant R packages and SeuratExtend package."
   ]
  },
  {
   "cell_type": "code",
   "execution_count": 9,
   "id": "8d632d3e-ded1-46b2-8dbc-a2766f768b6f",
   "metadata": {},
   "outputs": [
    {
     "name": "stdout",
     "output_type": "stream",
     "text": [
      "No issues found -- the project is in a consistent state.\n"
     ]
    }
   ],
   "source": [
    "renv::status()"
   ]
  },
  {
   "cell_type": "code",
   "execution_count": 10,
   "id": "47d57320-4db9-4aaf-a37a-4288dc04168d",
   "metadata": {},
   "outputs": [
    {
     "name": "stderr",
     "output_type": "stream",
     "text": [
      "Loading required package: SeuratExtendData\n",
      "\n",
      "Loading required package: SeuratObject\n",
      "\n",
      "Loading required package: sp\n",
      "\n",
      "‘SeuratObject’ was built under R 4.4.1 but the current version is\n",
      "4.4.2; it is recomended that you reinstall ‘SeuratObject’ as the ABI\n",
      "for R may have changed\n",
      "\n",
      "\n",
      "Attaching package: ‘SeuratObject’\n",
      "\n",
      "\n",
      "The following objects are masked from ‘package:base’:\n",
      "\n",
      "    intersect, t\n",
      "\n",
      "\n"
     ]
    }
   ],
   "source": [
    "library(SeuratExtend)"
   ]
  },
  {
   "cell_type": "code",
   "execution_count": 11,
   "id": "df109757-edb1-4dd2-90a0-609c4b5c03bc",
   "metadata": {},
   "outputs": [],
   "source": [
    "detach(package:SeuratExtend)"
   ]
  },
  {
   "cell_type": "code",
   "execution_count": 12,
   "id": "a2adc43c-4639-4625-8df4-e368be27247f",
   "metadata": {},
   "outputs": [],
   "source": [
    "library(Seurat)"
   ]
  },
  {
   "cell_type": "code",
   "execution_count": 13,
   "id": "21e66c95-089b-4d88-a695-a6285301c5a3",
   "metadata": {},
   "outputs": [],
   "source": [
    "library(Signac)"
   ]
  },
  {
   "cell_type": "code",
   "execution_count": 14,
   "id": "66f90e96-61de-45c3-9a97-c11ef24d16e3",
   "metadata": {},
   "outputs": [],
   "source": [
    "mannens_et_al_seurat <- readRDS(here::here('r_objects', 'mannens_et_al_seurat_obj.RDS'))"
   ]
  },
  {
   "cell_type": "code",
   "execution_count": 15,
   "id": "e56ff446-5685-4572-bced-d78f4abb01ed",
   "metadata": {},
   "outputs": [
    {
     "data": {
      "text/plain": [
       "An object of class Seurat \n",
       "430192 features across 49470 samples within 2 assays \n",
       "Active assay: RNA (25071 features, 5000 variable features)\n",
       " 3 layers present: counts, data, scale.data\n",
       " 1 other assay present: peaks"
      ]
     },
     "metadata": {},
     "output_type": "display_data"
    }
   ],
   "source": [
    "mannens_et_al_seurat"
   ]
  },
  {
   "cell_type": "code",
   "execution_count": 17,
   "id": "aefdd153-d30b-4d50-969b-9bbbe116544b",
   "metadata": {},
   "outputs": [],
   "source": [
    "GeneExpressionMatrix <- as.SingleCellExperiment(mannens_et_al_seurat, assay=\"RNA\")"
   ]
  },
  {
   "cell_type": "code",
   "execution_count": 18,
   "id": "a988343a-8021-43bc-bd36-626acf2a9a2d",
   "metadata": {},
   "outputs": [
    {
     "data": {
      "text/plain": [
       "class: SingleCellExperiment \n",
       "dim: 25071 49470 \n",
       "metadata(0):\n",
       "assays(3): counts logcounts scaledata\n",
       "rownames(25071): MALAT1 AUTS2 ... APOL5 SLURP1\n",
       "rowData names(0):\n",
       "colnames(49470): 10X280_1:CAGATTCAGCAGCTCA 10X365_2:ACCAATATCAATGACC\n",
       "  ... 10X346_4:CGCTGTGCACGTAATT 10X406_4:GAGAAACGTGGTGAGA\n",
       "colData names(89): orig.ident nCount_RNA ... main_cell_types ident\n",
       "reducedDimNames(0):\n",
       "mainExpName: RNA\n",
       "altExpNames(0):"
      ]
     },
     "metadata": {},
     "output_type": "display_data"
    }
   ],
   "source": [
    "GeneExpressionMatrix"
   ]
  },
  {
   "cell_type": "code",
   "execution_count": 19,
   "id": "a049ced9-4456-433d-bc8f-ee65b8833a4d",
   "metadata": {
    "collapsed": true,
    "jupyter": {
     "outputs_hidden": true
    }
   },
   "outputs": [
    {
     "name": "stderr",
     "output_type": "stream",
     "text": [
      "Loading required package: SummarizedExperiment\n",
      "\n",
      "Loading required package: MatrixGenerics\n",
      "\n",
      "Loading required package: matrixStats\n",
      "\n",
      "\n",
      "Attaching package: ‘MatrixGenerics’\n",
      "\n",
      "\n",
      "The following objects are masked from ‘package:matrixStats’:\n",
      "\n",
      "    colAlls, colAnyNAs, colAnys, colAvgsPerRowSet, colCollapse,\n",
      "    colCounts, colCummaxs, colCummins, colCumprods, colCumsums,\n",
      "    colDiffs, colIQRDiffs, colIQRs, colLogSumExps, colMadDiffs,\n",
      "    colMads, colMaxs, colMeans2, colMedians, colMins, colOrderStats,\n",
      "    colProds, colQuantiles, colRanges, colRanks, colSdDiffs, colSds,\n",
      "    colSums2, colTabulates, colVarDiffs, colVars, colWeightedMads,\n",
      "    colWeightedMeans, colWeightedMedians, colWeightedSds,\n",
      "    colWeightedVars, rowAlls, rowAnyNAs, rowAnys, rowAvgsPerColSet,\n",
      "    rowCollapse, rowCounts, rowCummaxs, rowCummins, rowCumprods,\n",
      "    rowCumsums, rowDiffs, rowIQRDiffs, rowIQRs, rowLogSumExps,\n",
      "    rowMadDiffs, rowMads, rowMaxs, rowMeans2, rowMedians, rowMins,\n",
      "    rowOrderStats, rowProds, rowQuantiles, rowRanges, rowRanks,\n",
      "    rowSdDiffs, rowSds, rowSums2, rowTabulates, rowVarDiffs, rowVars,\n",
      "    rowWeightedMads, rowWeightedMeans, rowWeightedMedians,\n",
      "    rowWeightedSds, rowWeightedVars\n",
      "\n",
      "\n",
      "Loading required package: GenomicRanges\n",
      "\n",
      "Loading required package: stats4\n",
      "\n",
      "Loading required package: BiocGenerics\n",
      "\n",
      "\n",
      "Attaching package: ‘BiocGenerics’\n",
      "\n",
      "\n",
      "The following object is masked from ‘package:SeuratObject’:\n",
      "\n",
      "    intersect\n",
      "\n",
      "\n",
      "The following objects are masked from ‘package:stats’:\n",
      "\n",
      "    IQR, mad, sd, var, xtabs\n",
      "\n",
      "\n",
      "The following objects are masked from ‘package:base’:\n",
      "\n",
      "    Filter, Find, Map, Position, Reduce, anyDuplicated, aperm, append,\n",
      "    as.data.frame, basename, cbind, colnames, dirname, do.call,\n",
      "    duplicated, eval, evalq, get, grep, grepl, intersect, is.unsorted,\n",
      "    lapply, mapply, match, mget, order, paste, pmax, pmax.int, pmin,\n",
      "    pmin.int, rank, rbind, rownames, sapply, setdiff, table, tapply,\n",
      "    union, unique, unsplit, which.max, which.min\n",
      "\n",
      "\n",
      "Loading required package: S4Vectors\n",
      "\n",
      "\n",
      "Attaching package: ‘S4Vectors’\n",
      "\n",
      "\n",
      "The following object is masked from ‘package:utils’:\n",
      "\n",
      "    findMatches\n",
      "\n",
      "\n",
      "The following objects are masked from ‘package:base’:\n",
      "\n",
      "    I, expand.grid, unname\n",
      "\n",
      "\n",
      "Loading required package: IRanges\n",
      "\n",
      "\n",
      "Attaching package: ‘IRanges’\n",
      "\n",
      "\n",
      "The following object is masked from ‘package:sp’:\n",
      "\n",
      "    %over%\n",
      "\n",
      "\n",
      "Loading required package: GenomeInfoDb\n",
      "\n",
      "Loading required package: Biobase\n",
      "\n",
      "Welcome to Bioconductor\n",
      "\n",
      "    Vignettes contain introductory material; view with\n",
      "    'browseVignettes()'. To cite Bioconductor, see\n",
      "    'citation(\"Biobase\")', and for packages 'citation(\"pkgname\")'.\n",
      "\n",
      "\n",
      "\n",
      "Attaching package: ‘Biobase’\n",
      "\n",
      "\n",
      "The following object is masked from ‘package:MatrixGenerics’:\n",
      "\n",
      "    rowMedians\n",
      "\n",
      "\n",
      "The following objects are masked from ‘package:matrixStats’:\n",
      "\n",
      "    anyMissing, rowMedians\n",
      "\n",
      "\n",
      "\n",
      "Attaching package: ‘SummarizedExperiment’\n",
      "\n",
      "\n",
      "The following object is masked from ‘package:Seurat’:\n",
      "\n",
      "    Assays\n",
      "\n",
      "\n",
      "The following object is masked from ‘package:SeuratObject’:\n",
      "\n",
      "    Assays\n",
      "\n",
      "\n"
     ]
    }
   ],
   "source": [
    "library(SingleCellExperiment)"
   ]
  },
  {
   "cell_type": "code",
   "execution_count": 20,
   "id": "c289fd34-6fd0-41c8-a926-d6ec636fd45d",
   "metadata": {},
   "outputs": [
    {
     "data": {
      "text/plain": [
       "GRangesList object of length 25071:\n",
       "$MALAT1\n",
       "GRanges object with 0 ranges and 0 metadata columns:\n",
       "   seqnames    ranges strand\n",
       "      <Rle> <IRanges>  <Rle>\n",
       "  -------\n",
       "  seqinfo: no sequences\n",
       "\n",
       "$AUTS2\n",
       "GRanges object with 0 ranges and 0 metadata columns:\n",
       "   seqnames    ranges strand\n",
       "      <Rle> <IRanges>  <Rle>\n",
       "  -------\n",
       "  seqinfo: no sequences\n",
       "\n",
       "$NRXN1\n",
       "GRanges object with 0 ranges and 0 metadata columns:\n",
       "   seqnames    ranges strand\n",
       "      <Rle> <IRanges>  <Rle>\n",
       "  -------\n",
       "  seqinfo: no sequences\n",
       "\n",
       "...\n",
       "<25068 more elements>"
      ]
     },
     "metadata": {},
     "output_type": "display_data"
    }
   ],
   "source": [
    "GeneExpressionMatrix |> rowRanges()"
   ]
  },
  {
   "cell_type": "code",
   "execution_count": 21,
   "id": "8f486208-b767-4d1e-90f0-e061d60f8dce",
   "metadata": {},
   "outputs": [
    {
     "name": "stderr",
     "output_type": "stream",
     "text": [
      "Loading required package: BiocFileCache\n",
      "\n",
      "Loading required package: dbplyr\n",
      "\n",
      "\n",
      "Attaching package: ‘AnnotationHub’\n",
      "\n",
      "\n",
      "The following object is masked from ‘package:Biobase’:\n",
      "\n",
      "    cache\n",
      "\n",
      "\n"
     ]
    }
   ],
   "source": [
    "library(AnnotationHub)"
   ]
  },
  {
   "cell_type": "code",
   "execution_count": null,
   "id": "6c607898-b4db-4911-8c4b-ed27b64aa66d",
   "metadata": {},
   "outputs": [],
   "source": [
    "se"
   ]
  },
  {
   "cell_type": "code",
   "execution_count": null,
   "id": "fb3cc327-2eb2-4236-b426-6c97ad241ac8",
   "metadata": {},
   "outputs": [],
   "source": [
    "mannens_et_al_seurat@assays$RNA"
   ]
  },
  {
   "cell_type": "code",
   "execution_count": null,
   "id": "7b6c504f-67a2-4b8b-b8bf-e1a2a0b7305e",
   "metadata": {},
   "outputs": [],
   "source": []
  },
  {
   "cell_type": "code",
   "execution_count": null,
   "id": "743c3328-c498-4f28-851f-e2693f139f67",
   "metadata": {},
   "outputs": [],
   "source": []
  },
  {
   "cell_type": "code",
   "execution_count": null,
   "id": "5f4b1271-0004-4037-9245-e24325432c5e",
   "metadata": {},
   "outputs": [],
   "source": []
  },
  {
   "cell_type": "code",
   "execution_count": null,
   "id": "e6d64561-a098-411b-b536-351862cc61b1",
   "metadata": {},
   "outputs": [],
   "source": []
  },
  {
   "cell_type": "code",
   "execution_count": null,
   "id": "3d28a2c7-5f24-4437-9ac5-218cf066d21f",
   "metadata": {},
   "outputs": [],
   "source": []
  },
  {
   "cell_type": "code",
   "execution_count": null,
   "id": "abd8cf30-cdd8-467c-88f0-29b5a95c4ab6",
   "metadata": {},
   "outputs": [],
   "source": []
  }
 ],
 "metadata": {
  "kernelspec": {
   "display_name": "R",
   "language": "R",
   "name": "ir"
  },
  "language_info": {
   "codemirror_mode": "r",
   "file_extension": ".r",
   "mimetype": "text/x-r-source",
   "name": "R",
   "pygments_lexer": "r",
   "version": "4.4.2"
  }
 },
 "nbformat": 4,
 "nbformat_minor": 5
}
