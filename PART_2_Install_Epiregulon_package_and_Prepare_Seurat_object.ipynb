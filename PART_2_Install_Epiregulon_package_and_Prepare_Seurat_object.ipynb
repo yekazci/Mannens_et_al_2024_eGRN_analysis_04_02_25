{
 "cells": [
  {
   "cell_type": "markdown",
   "id": "7f566c04-cad5-4373-bd7c-5a8fd274d20f",
   "metadata": {},
   "source": [
    "I will install Epiregulon package form Bioconductor:"
   ]
  },
  {
   "cell_type": "code",
   "execution_count": 1,
   "id": "8a895042-41d5-4882-bdf1-6208c8c44399",
   "metadata": {},
   "outputs": [
    {
     "data": {
      "text/html": [
       "'/fast/AG_Bunina/Yusuf/Project_Endothelial_and_Stroke/Datasets/Chromatin_and_Gene_Exp/2024_C_A_Mannens_C_et_al/04_02_25'"
      ],
      "text/latex": [
       "'/fast/AG\\_Bunina/Yusuf/Project\\_Endothelial\\_and\\_Stroke/Datasets/Chromatin\\_and\\_Gene\\_Exp/2024\\_C\\_A\\_Mannens\\_C\\_et\\_al/04\\_02\\_25'"
      ],
      "text/markdown": [
       "'/fast/AG_Bunina/Yusuf/Project_Endothelial_and_Stroke/Datasets/Chromatin_and_Gene_Exp/2024_C_A_Mannens_C_et_al/04_02_25'"
      ],
      "text/plain": [
       "[1] \"/fast/AG_Bunina/Yusuf/Project_Endothelial_and_Stroke/Datasets/Chromatin_and_Gene_Exp/2024_C_A_Mannens_C_et_al/04_02_25\""
      ]
     },
     "metadata": {},
     "output_type": "display_data"
    }
   ],
   "source": [
    "getwd()"
   ]
  },
  {
   "cell_type": "code",
   "execution_count": 2,
   "id": "1c269866-d9c3-4a79-82cc-5f95e225b52f",
   "metadata": {},
   "outputs": [],
   "source": [
    "# load the specific R environment:\n",
    "\n",
    "renv::load()"
   ]
  },
  {
   "cell_type": "code",
   "execution_count": 3,
   "id": "89405831-e194-42e6-b4a2-b62ddb536c4e",
   "metadata": {},
   "outputs": [
    {
     "name": "stdout",
     "output_type": "stream",
     "text": [
      "No issues found -- the project is in a consistent state.\n"
     ]
    }
   ],
   "source": [
    "renv::status()"
   ]
  },
  {
   "cell_type": "code",
   "execution_count": 4,
   "id": "623d30f9-6b54-455f-9b0d-666eb75a5b66",
   "metadata": {},
   "outputs": [
    {
     "data": {
      "text/html": [
       "<style>\n",
       ".list-inline {list-style: none; margin:0; padding: 0}\n",
       ".list-inline>li {display: inline-block}\n",
       ".list-inline>li:not(:last-child)::after {content: \"\\00b7\"; padding: 0 .5ex}\n",
       "</style>\n",
       "<ol class=list-inline><li>'/fast/AG_Bunina/Yusuf/Project_Endothelial_and_Stroke/Datasets/Chromatin_and_Gene_Exp/2024_C_A_Mannens_C_et_al/04_02_25/renv/library/linux-rhel-9.4/R-4.4/x86_64-unknown-linux-gnu'</li><li>'/fast/home/y/ykazci/.cache/R/renv/sandbox/linux-rhel-9.4/R-4.4/x86_64-unknown-linux-gnu/694a7db3'</li></ol>\n"
      ],
      "text/latex": [
       "\\begin{enumerate*}\n",
       "\\item '/fast/AG\\_Bunina/Yusuf/Project\\_Endothelial\\_and\\_Stroke/Datasets/Chromatin\\_and\\_Gene\\_Exp/2024\\_C\\_A\\_Mannens\\_C\\_et\\_al/04\\_02\\_25/renv/library/linux-rhel-9.4/R-4.4/x86\\_64-unknown-linux-gnu'\n",
       "\\item '/fast/home/y/ykazci/.cache/R/renv/sandbox/linux-rhel-9.4/R-4.4/x86\\_64-unknown-linux-gnu/694a7db3'\n",
       "\\end{enumerate*}\n"
      ],
      "text/markdown": [
       "1. '/fast/AG_Bunina/Yusuf/Project_Endothelial_and_Stroke/Datasets/Chromatin_and_Gene_Exp/2024_C_A_Mannens_C_et_al/04_02_25/renv/library/linux-rhel-9.4/R-4.4/x86_64-unknown-linux-gnu'\n",
       "2. '/fast/home/y/ykazci/.cache/R/renv/sandbox/linux-rhel-9.4/R-4.4/x86_64-unknown-linux-gnu/694a7db3'\n",
       "\n",
       "\n"
      ],
      "text/plain": [
       "[1] \"/fast/AG_Bunina/Yusuf/Project_Endothelial_and_Stroke/Datasets/Chromatin_and_Gene_Exp/2024_C_A_Mannens_C_et_al/04_02_25/renv/library/linux-rhel-9.4/R-4.4/x86_64-unknown-linux-gnu\"\n",
       "[2] \"/fast/home/y/ykazci/.cache/R/renv/sandbox/linux-rhel-9.4/R-4.4/x86_64-unknown-linux-gnu/694a7db3\"                                                                                 "
      ]
     },
     "metadata": {},
     "output_type": "display_data"
    }
   ],
   "source": [
    ".libPaths()"
   ]
  },
  {
   "cell_type": "code",
   "execution_count": 5,
   "id": "021d3ea2-e768-4677-9e36-49a1ad5998ce",
   "metadata": {},
   "outputs": [
    {
     "name": "stderr",
     "output_type": "stream",
     "text": [
      "'getOption(\"repos\")' replaces Bioconductor standard repositories, see\n",
      "'help(\"repositories\", package = \"BiocManager\")' for details.\n",
      "Replacement repositories:\n",
      "    BioCsoft: https://bioconductor.org/packages/3.19/bioc\n",
      "    BioCann: https://bioconductor.org/packages/3.19/data/annotation\n",
      "    BioCexp: https://bioconductor.org/packages/3.19/data/experiment\n",
      "    BioCworkflows: https://bioconductor.org/packages/3.19/workflows\n",
      "    BioCbooks: https://bioconductor.org/packages/3.19/books\n",
      "    CRAN: https://cran.r-project.org\n",
      "\n",
      "Bioconductor version 3.19 (BiocManager 1.30.24), R 4.4.1 (2024-06-14)\n",
      "\n",
      "Installing package(s) 'epiregulon'\n",
      "\n",
      "also installing the dependencies ‘jose’, ‘AzureGraph’, ‘AzureAuth’, ‘filelock’, ‘locfit’, ‘BiocBaseUtils’, ‘AzureRMR’, ‘graph’, ‘kernlab’, ‘segmented’, ‘BiocFileCache’, ‘BiocNeighbors’, ‘edgeR’, ‘limma’, ‘statmod’, ‘metapod’, ‘MultiAssayExperiment’, ‘AzureStor’, ‘HDF5Array’, ‘GSEABase’, ‘mixtools’, ‘AnnotationHub’, ‘ExperimentHub’, ‘bluster’, ‘checkmate’, ‘entropy’, ‘scran’, ‘scuttle’, ‘scMultiome’, ‘AUCell’, ‘BSgenome.Mmusculus.UCSC.mm10’\n",
      "\n",
      "\n",
      "Old packages: 'abind', 'ape', 'aplot', 'askpass', 'bayestestR', 'BH',\n",
      "  'BiocManager', 'bit', 'bit64', 'bitops', 'broom', 'broom.helpers', 'bslib',\n",
      "  'cards', 'caret', 'caTools', 'class', 'clock', 'cluster', 'commonmark',\n",
      "  'cpp11', 'data.table', 'datawizard', 'DOSE', 'dotCall64', 'e1071',\n",
      "  'enrichplot', 'evaluate', 'fastDummies', 'fastmatch', 'fitdistrplus', 'FNN',\n",
      "  'fontawesome', 'future.apply', 'gdsfmt', 'GenomicRanges', 'ggfun', 'ggrepel',\n",
      "  'ggstats', 'glue', 'gower', 'gplots', 'graphlayouts', 'gtable', 'hardhat',\n",
      "  'igraph', 'insight', 'janitor', 'jsonlite', 'KernSmooth', 'knitr',\n",
      "  'labelled', 'lava', 'lubridate', 'maps', 'MASS', 'Matrix', 'matrixStats',\n",
      "  'network', 'nlme', 'nnet', 'openssl', 'parallelly', 'patchwork', 'pbdZMQ',\n",
      "  'pillar', 'poweRlaw', 'processx', 'progressr', 'ps', 'R.oo', 'ragg',\n",
      "  'ranger', 'Rcpp', 'RcppArmadillo', 'renv', 'reticulate', 'rjson', 'rlang',\n",
      "  'rmarkdown', 'rpart', 'RSQLite', 'rstudioapi', 'scatterpie', 'Seurat',\n",
      "  'shiny', 'sna', 'sp', 'spam', 'spatstat.data', 'spatstat.explore',\n",
      "  'spatstat.geom', 'spatstat.random', 'spatstat.univar', 'spatstat.utils',\n",
      "  'statnet.common', 'survival', 'sys', 'systemfonts', 'textshaping',\n",
      "  'timeDate', 'tinytex', 'withr', 'xfun', 'XML', 'yulab.utils'\n",
      "\n"
     ]
    }
   ],
   "source": [
    "BiocManager::install(\"epiregulon\")"
   ]
  },
  {
   "cell_type": "code",
   "execution_count": 7,
   "id": "28f5c525-221b-4ade-a745-e2be06b36e60",
   "metadata": {},
   "outputs": [
    {
     "name": "stdout",
     "output_type": "stream",
     "text": [
      "The following package(s) are in an inconsistent state:\n",
      "\n",
      " package     installed recorded used\n",
      " BiocManager y         n        y   \n",
      "\n",
      "See ?renv::status() for advice on resolving these issues.\n"
     ]
    }
   ],
   "source": [
    "renv::status()"
   ]
  },
  {
   "cell_type": "code",
   "execution_count": 8,
   "id": "7f2fa75f-7a3f-4b65-80e7-430af29c2cd1",
   "metadata": {},
   "outputs": [
    {
     "name": "stdout",
     "output_type": "stream",
     "text": [
      "The following package(s) will be updated in the lockfile:\n",
      "\n",
      "# CRAN -----------------------------------------------------------------------\n",
      "- BiocManager   [* -> 1.30.24]\n",
      "\n",
      "- Lockfile written to \"/fast/AG_Bunina/Yusuf/Project_Endothelial_and_Stroke/Datasets/Chromatin_and_Gene_Exp/2024_C_A_Mannens_C_et_al/04_02_25/renv.lock\".\n"
     ]
    }
   ],
   "source": [
    "renv::snapshot()"
   ]
  },
  {
   "cell_type": "code",
   "execution_count": 9,
   "id": "90fec223-23e4-4177-a776-7165b094fabc",
   "metadata": {},
   "outputs": [
    {
     "name": "stdout",
     "output_type": "stream",
     "text": [
      "No issues found -- the project is in a consistent state.\n"
     ]
    }
   ],
   "source": [
    "renv::status()"
   ]
  },
  {
   "cell_type": "code",
   "execution_count": 10,
   "id": "d6d58c2f-1b4d-4857-911e-2a2d735254c1",
   "metadata": {
    "scrolled": true,
    "tags": []
   },
   "outputs": [
    {
     "name": "stderr",
     "output_type": "stream",
     "text": [
      "Loading required package: SingleCellExperiment\n",
      "\n",
      "Loading required package: SummarizedExperiment\n",
      "\n",
      "Loading required package: MatrixGenerics\n",
      "\n",
      "Loading required package: matrixStats\n",
      "\n",
      "\n",
      "Attaching package: ‘MatrixGenerics’\n",
      "\n",
      "\n",
      "The following objects are masked from ‘package:matrixStats’:\n",
      "\n",
      "    colAlls, colAnyNAs, colAnys, colAvgsPerRowSet, colCollapse,\n",
      "    colCounts, colCummaxs, colCummins, colCumprods, colCumsums,\n",
      "    colDiffs, colIQRDiffs, colIQRs, colLogSumExps, colMadDiffs,\n",
      "    colMads, colMaxs, colMeans2, colMedians, colMins, colOrderStats,\n",
      "    colProds, colQuantiles, colRanges, colRanks, colSdDiffs, colSds,\n",
      "    colSums2, colTabulates, colVarDiffs, colVars, colWeightedMads,\n",
      "    colWeightedMeans, colWeightedMedians, colWeightedSds,\n",
      "    colWeightedVars, rowAlls, rowAnyNAs, rowAnys, rowAvgsPerColSet,\n",
      "    rowCollapse, rowCounts, rowCummaxs, rowCummins, rowCumprods,\n",
      "    rowCumsums, rowDiffs, rowIQRDiffs, rowIQRs, rowLogSumExps,\n",
      "    rowMadDiffs, rowMads, rowMaxs, rowMeans2, rowMedians, rowMins,\n",
      "    rowOrderStats, rowProds, rowQuantiles, rowRanges, rowRanks,\n",
      "    rowSdDiffs, rowSds, rowSums2, rowTabulates, rowVarDiffs, rowVars,\n",
      "    rowWeightedMads, rowWeightedMeans, rowWeightedMedians,\n",
      "    rowWeightedSds, rowWeightedVars\n",
      "\n",
      "\n",
      "Loading required package: GenomicRanges\n",
      "\n",
      "Loading required package: stats4\n",
      "\n",
      "Loading required package: BiocGenerics\n",
      "\n",
      "\n",
      "Attaching package: ‘BiocGenerics’\n",
      "\n",
      "\n",
      "The following objects are masked from ‘package:stats’:\n",
      "\n",
      "    IQR, mad, sd, var, xtabs\n",
      "\n",
      "\n",
      "The following objects are masked from ‘package:base’:\n",
      "\n",
      "    anyDuplicated, aperm, append, as.data.frame, basename, cbind,\n",
      "    colnames, dirname, do.call, duplicated, eval, evalq, Filter, Find,\n",
      "    get, grep, grepl, intersect, is.unsorted, lapply, Map, mapply,\n",
      "    match, mget, order, paste, pmax, pmax.int, pmin, pmin.int,\n",
      "    Position, rank, rbind, Reduce, rownames, sapply, setdiff, table,\n",
      "    tapply, union, unique, unsplit, which.max, which.min\n",
      "\n",
      "\n",
      "Loading required package: S4Vectors\n",
      "\n",
      "\n",
      "Attaching package: ‘S4Vectors’\n",
      "\n",
      "\n",
      "The following object is masked from ‘package:utils’:\n",
      "\n",
      "    findMatches\n",
      "\n",
      "\n",
      "The following objects are masked from ‘package:base’:\n",
      "\n",
      "    expand.grid, I, unname\n",
      "\n",
      "\n",
      "Loading required package: IRanges\n",
      "\n",
      "Loading required package: GenomeInfoDb\n",
      "\n",
      "Loading required package: Biobase\n",
      "\n",
      "Welcome to Bioconductor\n",
      "\n",
      "    Vignettes contain introductory material; view with\n",
      "    'browseVignettes()'. To cite Bioconductor, see\n",
      "    'citation(\"Biobase\")', and for packages 'citation(\"pkgname\")'.\n",
      "\n",
      "\n",
      "\n",
      "Attaching package: ‘Biobase’\n",
      "\n",
      "\n",
      "The following object is masked from ‘package:MatrixGenerics’:\n",
      "\n",
      "    rowMedians\n",
      "\n",
      "\n",
      "The following objects are masked from ‘package:matrixStats’:\n",
      "\n",
      "    anyMissing, rowMedians\n",
      "\n",
      "\n"
     ]
    }
   ],
   "source": [
    "library(epiregulon)"
   ]
  },
  {
   "cell_type": "code",
   "execution_count": 11,
   "id": "a6834f0d-3bae-4d54-aef0-ffc3aad93b75",
   "metadata": {
    "scrolled": true,
    "tags": []
   },
   "outputs": [
    {
     "name": "stderr",
     "output_type": "stream",
     "text": [
      "'getOption(\"repos\")' replaces Bioconductor standard repositories, see\n",
      "'help(\"repositories\", package = \"BiocManager\")' for details.\n",
      "Replacement repositories:\n",
      "    BioCsoft: https://bioconductor.org/packages/3.19/bioc\n",
      "    BioCann: https://bioconductor.org/packages/3.19/data/annotation\n",
      "    BioCexp: https://bioconductor.org/packages/3.19/data/experiment\n",
      "    BioCworkflows: https://bioconductor.org/packages/3.19/workflows\n",
      "    BioCbooks: https://bioconductor.org/packages/3.19/books\n",
      "    CRAN: https://cran.r-project.org\n",
      "\n",
      "Bioconductor version 3.19 (BiocManager 1.30.24), R 4.4.1 (2024-06-14)\n",
      "\n",
      "Installing package(s) 'epiregulon.extra'\n",
      "\n",
      "also installing the dependencies ‘GetoptLong’, ‘clue’, ‘RcppML’, ‘pheatmap’, ‘ComplexHeatmap’, ‘scater’\n",
      "\n",
      "\n",
      "Old packages: 'abind', 'ape', 'aplot', 'askpass', 'bayestestR', 'BH',\n",
      "  'BiocManager', 'bit', 'bit64', 'bitops', 'broom', 'broom.helpers', 'bslib',\n",
      "  'cards', 'caret', 'caTools', 'class', 'clock', 'cluster', 'commonmark',\n",
      "  'cpp11', 'data.table', 'datawizard', 'DOSE', 'dotCall64', 'e1071',\n",
      "  'enrichplot', 'evaluate', 'fastDummies', 'fastmatch', 'fitdistrplus', 'FNN',\n",
      "  'fontawesome', 'future.apply', 'gdsfmt', 'GenomicRanges', 'ggfun', 'ggrepel',\n",
      "  'ggstats', 'glue', 'gower', 'gplots', 'graphlayouts', 'gtable', 'hardhat',\n",
      "  'igraph', 'insight', 'janitor', 'jsonlite', 'KernSmooth', 'knitr',\n",
      "  'labelled', 'lava', 'lubridate', 'maps', 'MASS', 'Matrix', 'matrixStats',\n",
      "  'network', 'nlme', 'nnet', 'openssl', 'parallelly', 'patchwork', 'pbdZMQ',\n",
      "  'pillar', 'poweRlaw', 'processx', 'progressr', 'ps', 'R.oo', 'ragg',\n",
      "  'ranger', 'Rcpp', 'RcppArmadillo', 'renv', 'reticulate', 'rjson', 'rlang',\n",
      "  'rmarkdown', 'rpart', 'RSQLite', 'rstudioapi', 'scatterpie', 'Seurat',\n",
      "  'shiny', 'sna', 'sp', 'spam', 'spatstat.data', 'spatstat.explore',\n",
      "  'spatstat.geom', 'spatstat.random', 'spatstat.univar', 'spatstat.utils',\n",
      "  'statnet.common', 'survival', 'sys', 'systemfonts', 'textshaping',\n",
      "  'timeDate', 'tinytex', 'withr', 'xfun', 'XML', 'yulab.utils'\n",
      "\n"
     ]
    }
   ],
   "source": [
    "# install epiregulon.extra to later use downstream analysis functions:\n",
    "\n",
    "BiocManager::install(\"epiregulon.extra\")"
   ]
  },
  {
   "cell_type": "code",
   "execution_count": 12,
   "id": "cb058c93-7bc6-4493-a30b-9e5c529e8c5b",
   "metadata": {
    "collapsed": true,
    "jupyter": {
     "outputs_hidden": true
    },
    "tags": []
   },
   "outputs": [
    {
     "name": "stdout",
     "output_type": "stream",
     "text": [
      "The following package(s) are in an inconsistent state:\n",
      "\n",
      " package                      installed recorded used\n",
      " abind                        y         n        y   \n",
      " annotate                     y         n        y   \n",
      " AnnotationDbi                y         n        y   \n",
      " AnnotationHub                y         n        y   \n",
      " AUCell                       y         n        y   \n",
      " AzureAuth                    y         n        y   \n",
      " AzureGraph                   y         n        y   \n",
      " AzureRMR                     y         n        y   \n",
      " AzureStor                    y         n        y   \n",
      " backports                    y         n        y   \n",
      " beachmat                     y         n        y   \n",
      " BH                           y         n        y   \n",
      " Biobase                      y         n        y   \n",
      " BiocBaseUtils                y         n        y   \n",
      " BiocFileCache                y         n        y   \n",
      " BiocGenerics                 y         n        y   \n",
      " BiocIO                       y         n        y   \n",
      " BiocNeighbors                y         n        y   \n",
      " BiocParallel                 y         n        y   \n",
      " BiocSingular                 y         n        y   \n",
      " BiocVersion                  y         n        y   \n",
      " Biostrings                   y         n        y   \n",
      " bit                          y         n        y   \n",
      " bit64                        y         n        y   \n",
      " bitops                       y         n        y   \n",
      " blob                         y         n        y   \n",
      " bluster                      y         n        y   \n",
      " BSgenome                     y         n        y   \n",
      " BSgenome.Hsapiens.UCSC.hg19  y         n        y   \n",
      " BSgenome.Hsapiens.UCSC.hg38  y         n        y   \n",
      " BSgenome.Mmusculus.UCSC.mm10 y         n        y   \n",
      " bslib                        y         n        y   \n",
      " cachem                       y         n        y   \n",
      " caTools                      y         n        y   \n",
      " checkmate                    y         n        y   \n",
      " clipr                        y         n        y   \n",
      " cluster                      y         n        y   \n",
      " CNEr                         y         n        y   \n",
      " codetools                    y         n        y   \n",
      " colorspace                   y         n        y   \n",
      " cpp11                        y         n        y   \n",
      " crosstalk                    y         n        y   \n",
      " data.table                   y         n        y   \n",
      " DBI                          y         n        y   \n",
      " dbplyr                       y         n        y   \n",
      " DelayedArray                 y         n        y   \n",
      " DelayedMatrixStats           y         n        y   \n",
      " DirichletMultinomial         y         n        y   \n",
      " dplyr                        y         n        y   \n",
      " dqrng                        y         n        y   \n",
      " edgeR                        y         n        y   \n",
      " entropy                      y         n        y   \n",
      " epiregulon                   y         n        y   \n",
      " ExperimentHub                y         n        y   \n",
      " farver                       y         n        y   \n",
      " filelock                     y         n        y   \n",
      " fontawesome                  y         n        y   \n",
      " formatR                      y         n        y   \n",
      " fs                           y         n        y   \n",
      " futile.logger                y         n        y   \n",
      " futile.options               y         n        y   \n",
      " generics                     y         n        y   \n",
      " GenomeInfoDb                 y         n        y   \n",
      " GenomeInfoDbData             y         n        y   \n",
      " GenomicAlignments            y         n        y   \n",
      " GenomicRanges                y         n        y   \n",
      " ggplot2                      y         n        y   \n",
      " GO.db                        y         n        y   \n",
      " graph                        y         n        y   \n",
      " GSEABase                     y         n        y   \n",
      " gtable                       y         n        y   \n",
      " gtools                       y         n        y   \n",
      " HDF5Array                    y         n        y   \n",
      " highr                        y         n        y   \n",
      " hms                          y         n        y   \n",
      " htmlwidgets                  y         n        y   \n",
      " igraph                       y         n        y   \n",
      " IRanges                      y         n        y   \n",
      " irlba                        y         n        y   \n",
      " isoband                      y         n        y   \n",
      " jose                         y         n        y   \n",
      " jquerylib                    y         n        y   \n",
      " KEGGREST                     y         n        y   \n",
      " kernlab                      y         n        y   \n",
      " knitr                        y         n        y   \n",
      " labeling                     y         n        y   \n",
      " lambda.r                     y         n        y   \n",
      " lattice                      y         n        y   \n",
      " lazyeval                     y         n        y   \n",
      " limma                        y         n        y   \n",
      " locfit                       y         n        y   \n",
      " MASS                         y         n        y   \n",
      " Matrix                       y         n        y   \n",
      " MatrixGenerics               y         n        y   \n",
      " matrixStats                  y         n        y   \n",
      " memoise                      y         n        y   \n",
      " metapod                      y         n        y   \n",
      " mgcv                         y         n        y   \n",
      " mixtools                     y         n        y   \n",
      " motifmatchr                  y         n        y   \n",
      " MultiAssayExperiment         y         n        y   \n",
      " munsell                      y         n        y   \n",
      " nlme                         y         n        y   \n",
      " pkgconfig                    y         n        y   \n",
      " plogr                        y         n        y   \n",
      " plotly                       y         n        y   \n",
      " plyr                         y         n        y   \n",
      " png                          y         n        y   \n",
      " poweRlaw                     y         n        y   \n",
      " pracma                       y         n        y   \n",
      " prettyunits                  y         n        y   \n",
      " progress                     y         n        y   \n",
      " purrr                        y         n        y   \n",
      " pwalign                      y         n        y   \n",
      " R.methodsS3                  y         n        y   \n",
      " R.oo                         y         n        y   \n",
      " R.utils                      y         n        y   \n",
      " RColorBrewer                 y         n        y   \n",
      " RcppArmadillo                y         n        y   \n",
      " RcppHNSW                     y         n        y   \n",
      " RCurl                        y         n        y   \n",
      " readr                        y         n        y   \n",
      " reshape2                     y         n        y   \n",
      " restfulr                     y         n        y   \n",
      " rhdf5                        y         n        y   \n",
      " rhdf5filters                 y         n        y   \n",
      " Rhdf5lib                     y         n        y   \n",
      " Rhtslib                      y         n        y   \n",
      " rjson                        y         n        y   \n",
      " rmarkdown                    y         n        y   \n",
      " Rsamtools                    y         n        y   \n",
      " RSQLite                      y         n        y   \n",
      " rsvd                         y         n        y   \n",
      " rtracklayer                  y         n        y   \n",
      " S4Arrays                     y         n        y   \n",
      " S4Vectors                    y         n        y   \n",
      " sass                         y         n        y   \n",
      " ScaledMatrix                 y         n        y   \n",
      " scales                       y         n        y   \n",
      " scMultiome                   y         n        y   \n",
      " scran                        y         n        y   \n",
      " scuttle                      y         n        y   \n",
      " segmented                    y         n        y   \n",
      " seqLogo                      y         n        y   \n",
      " SingleCellExperiment         y         n        y   \n",
      " sitmo                        y         n        y   \n",
      " snow                         y         n        y   \n",
      " SparseArray                  y         n        y   \n",
      " sparseMatrixStats            y         n        y   \n",
      " statmod                      y         n        y   \n",
      " stringi                      y         n        y   \n",
      " stringr                      y         n        y   \n",
      " SummarizedExperiment         y         n        y   \n",
      " survival                     y         n        y   \n",
      " TFBSTools                    y         n        y   \n",
      " TFMPvalue                    y         n        y   \n",
      " tibble                       y         n        y   \n",
      " tidyr                        y         n        y   \n",
      " tidyselect                   y         n        y   \n",
      " tinytex                      y         n        y   \n",
      " tzdb                         y         n        y   \n",
      " UCSC.utils                   y         n        y   \n",
      " viridisLite                  y         n        y   \n",
      " vroom                        y         n        y   \n",
      " xfun                         y         n        y   \n",
      " XML                          y         n        y   \n",
      " xml2                         y         n        y   \n",
      " xtable                       y         n        y   \n",
      " XVector                      y         n        y   \n",
      " yaml                         y         n        y   \n",
      " zlibbioc                     y         n        y   \n",
      "\n",
      "See ?renv::status() for advice on resolving these issues.\n"
     ]
    }
   ],
   "source": [
    "renv::status()"
   ]
  },
  {
   "cell_type": "code",
   "execution_count": 13,
   "id": "1122b95e-8754-44d9-9f3e-5349a793479e",
   "metadata": {
    "collapsed": true,
    "jupyter": {
     "outputs_hidden": true
    },
    "tags": []
   },
   "outputs": [
    {
     "name": "stdout",
     "output_type": "stream",
     "text": [
      "The following package(s) will be updated in the lockfile:\n",
      "\n",
      "# Bioconductor ---------------------------------------------------------------\n",
      "- BSgenome.Hsapiens.UCSC.hg19    [* -> 1.4.3]\n",
      "- BSgenome.Hsapiens.UCSC.hg38    [* -> 1.4.5]\n",
      "- BSgenome.Mmusculus.UCSC.mm10   [* -> 1.4.3]\n",
      "- GenomeInfoDbData               [* -> 1.2.12]\n",
      "- GO.db                          [* -> 3.19.1]\n",
      "\n",
      "# Bioconductor 3.19 ----------------------------------------------------------\n",
      "- annotate                       [* -> 1.82.0]\n",
      "- AnnotationDbi                  [* -> 1.66.0]\n",
      "- AnnotationHub                  [* -> 3.12.0]\n",
      "- AUCell                         [* -> 1.26.0]\n",
      "- beachmat                       [* -> 2.20.0]\n",
      "- Biobase                        [* -> 2.64.0]\n",
      "- BiocBaseUtils                  [* -> 1.6.0]\n",
      "- BiocFileCache                  [* -> 2.12.0]\n",
      "- BiocGenerics                   [* -> 0.50.0]\n",
      "- BiocIO                         [* -> 1.14.0]\n",
      "- BiocNeighbors                  [* -> 1.22.0]\n",
      "- BiocParallel                   [* -> 1.38.0]\n",
      "- BiocSingular                   [* -> 1.20.0]\n",
      "- BiocVersion                    [* -> 3.19.1]\n",
      "- Biostrings                     [* -> 2.72.1]\n",
      "- bluster                        [* -> 1.14.0]\n",
      "- BSgenome                       [* -> 1.72.0]\n",
      "- CNEr                           [* -> 1.40.0]\n",
      "- DelayedArray                   [* -> 0.30.1]\n",
      "- DelayedMatrixStats             [* -> 1.26.0]\n",
      "- DirichletMultinomial           [* -> 1.46.0]\n",
      "- edgeR                          [* -> 4.2.2]\n",
      "- epiregulon                     [* -> 1.0.1]\n",
      "- ExperimentHub                  [* -> 2.12.0]\n",
      "- GenomeInfoDb                   [* -> 1.40.1]\n",
      "- GenomicAlignments              [* -> 1.40.0]\n",
      "- GenomicRanges                  [* -> 1.56.1]\n",
      "- graph                          [* -> 1.82.0]\n",
      "- GSEABase                       [* -> 1.66.0]\n",
      "- HDF5Array                      [* -> 1.32.1]\n",
      "- IRanges                        [* -> 2.38.1]\n",
      "- KEGGREST                       [* -> 1.44.1]\n",
      "- limma                          [* -> 3.60.6]\n",
      "- MatrixGenerics                 [* -> 1.16.0]\n",
      "- metapod                        [* -> 1.12.0]\n",
      "- motifmatchr                    [* -> 1.26.0]\n",
      "- MultiAssayExperiment           [* -> 1.30.3]\n",
      "- pwalign                        [* -> 1.0.0]\n",
      "- rhdf5                          [* -> 2.48.0]\n",
      "- rhdf5filters                   [* -> 1.16.0]\n",
      "- Rhdf5lib                       [* -> 1.26.0]\n",
      "- Rhtslib                        [* -> 3.0.0]\n",
      "- Rsamtools                      [* -> 2.20.0]\n",
      "- rtracklayer                    [* -> 1.64.0]\n",
      "- S4Arrays                       [* -> 1.4.1]\n",
      "- S4Vectors                      [* -> 0.42.1]\n",
      "- ScaledMatrix                   [* -> 1.12.0]\n",
      "- scMultiome                     [* -> 1.4.2]\n",
      "- scran                          [* -> 1.32.0]\n",
      "- scuttle                        [* -> 1.14.0]\n",
      "- seqLogo                        [* -> 1.70.0]\n",
      "- SingleCellExperiment           [* -> 1.26.0]\n",
      "- SparseArray                    [* -> 1.4.8]\n",
      "- sparseMatrixStats              [* -> 1.16.0]\n",
      "- SummarizedExperiment           [* -> 1.34.0]\n",
      "- TFBSTools                      [* -> 1.42.0]\n",
      "- UCSC.utils                     [* -> 1.0.0]\n",
      "- XVector                        [* -> 0.44.0]\n",
      "- zlibbioc                       [* -> 1.50.0]\n",
      "\n",
      "# CRAN -----------------------------------------------------------------------\n",
      "- abind                          [* -> 1.4-5]\n",
      "- AzureAuth                      [* -> 1.3.3]\n",
      "- AzureGraph                     [* -> 1.3.4]\n",
      "- AzureRMR                       [* -> 2.4.4]\n",
      "- AzureStor                      [* -> 3.7.0]\n",
      "- backports                      [* -> 1.5.0]\n",
      "- BH                             [* -> 1.84.0-0]\n",
      "- bit                            [* -> 4.0.5]\n",
      "- bit64                          [* -> 4.0.5]\n",
      "- bitops                         [* -> 1.0-8]\n",
      "- blob                           [* -> 1.2.4]\n",
      "- bslib                          [* -> 0.8.0]\n",
      "- cachem                         [* -> 1.1.0]\n",
      "- caTools                        [* -> 1.18.2]\n",
      "- checkmate                      [* -> 2.3.2]\n",
      "- clipr                          [* -> 0.8.0]\n",
      "- cluster                        [* -> 2.1.6]\n",
      "- codetools                      [* -> 0.2-20]\n",
      "- colorspace                     [* -> 2.1-1]\n",
      "- cpp11                          [* -> 0.5.0]\n",
      "- crosstalk                      [* -> 1.2.1]\n",
      "- data.table                     [* -> 1.16.0]\n",
      "- DBI                            [* -> 1.2.3]\n",
      "- dbplyr                         [* -> 2.5.0]\n",
      "- dplyr                          [* -> 1.1.4]\n",
      "- dqrng                          [* -> 0.4.1]\n",
      "- entropy                        [* -> 1.3.1]\n",
      "- farver                         [* -> 2.1.2]\n",
      "- filelock                       [* -> 1.0.3]\n",
      "- fontawesome                    [* -> 0.5.2]\n",
      "- formatR                        [* -> 1.14]\n",
      "- fs                             [* -> 1.6.5]\n",
      "- futile.logger                  [* -> 1.4.3]\n",
      "- futile.options                 [* -> 1.0.1]\n",
      "- generics                       [* -> 0.1.3]\n",
      "- ggplot2                        [* -> 3.5.1]\n",
      "- gtable                         [* -> 0.3.5]\n",
      "- gtools                         [* -> 3.9.5]\n",
      "- highr                          [* -> 0.11]\n",
      "- hms                            [* -> 1.1.3]\n",
      "- htmlwidgets                    [* -> 1.6.4]\n",
      "- igraph                         [* -> 2.0.3]\n",
      "- irlba                          [* -> 2.3.5.1]\n",
      "- isoband                        [* -> 0.2.7]\n",
      "- jose                           [* -> 1.2.1]\n",
      "- jquerylib                      [* -> 0.1.4]\n",
      "- kernlab                        [* -> 0.9-33]\n",
      "- knitr                          [* -> 1.48]\n",
      "- labeling                       [* -> 0.4.3]\n",
      "- lambda.r                       [* -> 1.2.4]\n",
      "- lattice                        [* -> 0.22-6]\n",
      "- lazyeval                       [* -> 0.2.2]\n",
      "- locfit                         [* -> 1.5-9.11]\n",
      "- MASS                           [* -> 7.3-61]\n",
      "- Matrix                         [* -> 1.7-0]\n",
      "- matrixStats                    [* -> 1.3.0]\n",
      "- memoise                        [* -> 2.0.1]\n",
      "- mgcv                           [* -> 1.9-1]\n",
      "- mixtools                       [* -> 2.0.0]\n",
      "- munsell                        [* -> 0.5.1]\n",
      "- nlme                           [* -> 3.1-166]\n",
      "- pkgconfig                      [* -> 2.0.3]\n",
      "- plogr                          [* -> 0.2.0]\n",
      "- plotly                         [* -> 4.10.4]\n",
      "- plyr                           [* -> 1.8.9]\n",
      "- png                            [* -> 0.1-8]\n",
      "- poweRlaw                       [* -> 0.80.0]\n",
      "- pracma                         [* -> 2.4.4]\n",
      "- prettyunits                    [* -> 1.2.0]\n",
      "- progress                       [* -> 1.2.3]\n",
      "- purrr                          [* -> 1.0.2]\n",
      "- R.methodsS3                    [* -> 1.8.2]\n",
      "- R.oo                           [* -> 1.26.0]\n",
      "- R.utils                        [* -> 2.12.3]\n",
      "- RColorBrewer                   [* -> 1.1-3]\n",
      "- RcppArmadillo                  [* -> 14.0.0-1]\n",
      "- RcppHNSW                       [* -> 0.6.0]\n",
      "- RCurl                          [* -> 1.98-1.16]\n",
      "- readr                          [* -> 2.1.5]\n",
      "- reshape2                       [* -> 1.4.4]\n",
      "- restfulr                       [* -> 0.0.15]\n",
      "- rjson                          [* -> 0.2.22]\n",
      "- rmarkdown                      [* -> 2.28]\n",
      "- RSQLite                        [* -> 2.3.7]\n",
      "- rsvd                           [* -> 1.0.5]\n",
      "- sass                           [* -> 0.4.9]\n",
      "- scales                         [* -> 1.3.0]\n",
      "- segmented                      [* -> 2.1-3]\n",
      "- sitmo                          [* -> 2.0.2]\n",
      "- snow                           [* -> 0.4-4]\n",
      "- statmod                        [* -> 1.5.0]\n",
      "- stringi                        [* -> 1.8.4]\n",
      "- stringr                        [* -> 1.5.1]\n",
      "- survival                       [* -> 3.7-0]\n",
      "- TFMPvalue                      [* -> 0.0.9]\n",
      "- tibble                         [* -> 3.2.1]\n",
      "- tidyr                          [* -> 1.3.1]\n",
      "- tidyselect                     [* -> 1.2.1]\n",
      "- tinytex                        [* -> 0.52]\n",
      "- tzdb                           [* -> 0.4.0]\n",
      "- viridisLite                    [* -> 0.4.2]\n",
      "- vroom                          [* -> 1.6.5]\n",
      "- xfun                           [* -> 0.47]\n",
      "- XML                            [* -> 3.99-0.17]\n",
      "- xml2                           [* -> 1.3.6]\n",
      "- xtable                         [* -> 1.8-4]\n",
      "- yaml                           [* -> 2.3.10]\n",
      "\n",
      "- Lockfile written to \"/fast/AG_Bunina/Yusuf/Project_Endothelial_and_Stroke/Datasets/Chromatin_and_Gene_Exp/2024_C_A_Mannens_C_et_al/04_02_25/renv.lock\".\n"
     ]
    }
   ],
   "source": [
    "renv::snapshot()"
   ]
  },
  {
   "cell_type": "code",
   "execution_count": 14,
   "id": "6af15a21-b307-408a-ab0a-e8bdcc301901",
   "metadata": {},
   "outputs": [
    {
     "name": "stdout",
     "output_type": "stream",
     "text": [
      "No issues found -- the project is in a consistent state.\n"
     ]
    }
   ],
   "source": [
    "renv::status()"
   ]
  },
  {
   "cell_type": "code",
   "execution_count": 15,
   "id": "1ef3bc56-b0f2-471f-a2d6-06d678b91a37",
   "metadata": {},
   "outputs": [],
   "source": [
    "library(epiregulon.extra)"
   ]
  },
  {
   "cell_type": "code",
   "execution_count": 16,
   "id": "9745b4cc-36a6-4eae-87c5-da2fbb7dccd9",
   "metadata": {},
   "outputs": [
    {
     "data": {
      "text/html": [
       "'/fast/AG_Bunina/Yusuf/Project_Endothelial_and_Stroke/Datasets/Chromatin_and_Gene_Exp/2024_C_A_Mannens_C_et_al/04_02_25'"
      ],
      "text/latex": [
       "'/fast/AG\\_Bunina/Yusuf/Project\\_Endothelial\\_and\\_Stroke/Datasets/Chromatin\\_and\\_Gene\\_Exp/2024\\_C\\_A\\_Mannens\\_C\\_et\\_al/04\\_02\\_25'"
      ],
      "text/markdown": [
       "'/fast/AG_Bunina/Yusuf/Project_Endothelial_and_Stroke/Datasets/Chromatin_and_Gene_Exp/2024_C_A_Mannens_C_et_al/04_02_25'"
      ],
      "text/plain": [
       "[1] \"/fast/AG_Bunina/Yusuf/Project_Endothelial_and_Stroke/Datasets/Chromatin_and_Gene_Exp/2024_C_A_Mannens_C_et_al/04_02_25\""
      ]
     },
     "metadata": {},
     "output_type": "display_data"
    }
   ],
   "source": [
    "here::here()"
   ]
  },
  {
   "cell_type": "code",
   "execution_count": 17,
   "id": "9dbdc065-1b6b-4772-9deb-5c83a76ebe42",
   "metadata": {},
   "outputs": [
    {
     "name": "stderr",
     "output_type": "stream",
     "text": [
      "── \u001b[1mAttaching core tidyverse packages\u001b[22m ──────────────────────── tidyverse 2.0.0 ──\n",
      "\u001b[32m✔\u001b[39m \u001b[34mdplyr    \u001b[39m 1.1.4     \u001b[32m✔\u001b[39m \u001b[34mreadr    \u001b[39m 2.1.5\n",
      "\u001b[32m✔\u001b[39m \u001b[34mforcats  \u001b[39m 1.0.0     \u001b[32m✔\u001b[39m \u001b[34mstringr  \u001b[39m 1.5.1\n",
      "\u001b[32m✔\u001b[39m \u001b[34mggplot2  \u001b[39m 3.5.1     \u001b[32m✔\u001b[39m \u001b[34mtibble   \u001b[39m 3.2.1\n",
      "\u001b[32m✔\u001b[39m \u001b[34mlubridate\u001b[39m 1.9.3     \u001b[32m✔\u001b[39m \u001b[34mtidyr    \u001b[39m 1.3.1\n",
      "\u001b[32m✔\u001b[39m \u001b[34mpurrr    \u001b[39m 1.0.2     \n",
      "── \u001b[1mConflicts\u001b[22m ────────────────────────────────────────── tidyverse_conflicts() ──\n",
      "\u001b[31m✖\u001b[39m \u001b[34mlubridate\u001b[39m::\u001b[32m%within%()\u001b[39m masks \u001b[34mIRanges\u001b[39m::%within%()\n",
      "\u001b[31m✖\u001b[39m \u001b[34mdplyr\u001b[39m::\u001b[32mcollapse()\u001b[39m     masks \u001b[34mIRanges\u001b[39m::collapse()\n",
      "\u001b[31m✖\u001b[39m \u001b[34mdplyr\u001b[39m::\u001b[32mcombine()\u001b[39m      masks \u001b[34mBiobase\u001b[39m::combine(), \u001b[34mBiocGenerics\u001b[39m::combine()\n",
      "\u001b[31m✖\u001b[39m \u001b[34mdplyr\u001b[39m::\u001b[32mcount()\u001b[39m        masks \u001b[34mmatrixStats\u001b[39m::count()\n",
      "\u001b[31m✖\u001b[39m \u001b[34mdplyr\u001b[39m::\u001b[32mdesc()\u001b[39m         masks \u001b[34mIRanges\u001b[39m::desc()\n",
      "\u001b[31m✖\u001b[39m \u001b[34mtidyr\u001b[39m::\u001b[32mexpand()\u001b[39m       masks \u001b[34mS4Vectors\u001b[39m::expand()\n",
      "\u001b[31m✖\u001b[39m \u001b[34mdplyr\u001b[39m::\u001b[32mfilter()\u001b[39m       masks \u001b[34mstats\u001b[39m::filter()\n",
      "\u001b[31m✖\u001b[39m \u001b[34mdplyr\u001b[39m::\u001b[32mfirst()\u001b[39m        masks \u001b[34mS4Vectors\u001b[39m::first()\n",
      "\u001b[31m✖\u001b[39m \u001b[34mdplyr\u001b[39m::\u001b[32mlag()\u001b[39m          masks \u001b[34mstats\u001b[39m::lag()\n",
      "\u001b[31m✖\u001b[39m \u001b[34mggplot2\u001b[39m::\u001b[32mPosition()\u001b[39m   masks \u001b[34mBiocGenerics\u001b[39m::Position(), \u001b[34mbase\u001b[39m::Position()\n",
      "\u001b[31m✖\u001b[39m \u001b[34mpurrr\u001b[39m::\u001b[32mreduce()\u001b[39m       masks \u001b[34mGenomicRanges\u001b[39m::reduce(), \u001b[34mIRanges\u001b[39m::reduce()\n",
      "\u001b[31m✖\u001b[39m \u001b[34mdplyr\u001b[39m::\u001b[32mrename()\u001b[39m       masks \u001b[34mS4Vectors\u001b[39m::rename()\n",
      "\u001b[31m✖\u001b[39m \u001b[34mlubridate\u001b[39m::\u001b[32msecond()\u001b[39m   masks \u001b[34mS4Vectors\u001b[39m::second()\n",
      "\u001b[31m✖\u001b[39m \u001b[34mlubridate\u001b[39m::\u001b[32msecond<-()\u001b[39m masks \u001b[34mS4Vectors\u001b[39m::second<-()\n",
      "\u001b[31m✖\u001b[39m \u001b[34mdplyr\u001b[39m::\u001b[32mslice()\u001b[39m        masks \u001b[34mIRanges\u001b[39m::slice()\n",
      "\u001b[36mℹ\u001b[39m Use the conflicted package (\u001b[3m\u001b[34m<http://conflicted.r-lib.org/>\u001b[39m\u001b[23m) to force all conflicts to become errors\n"
     ]
    }
   ],
   "source": [
    "library(tidyverse)"
   ]
  },
  {
   "cell_type": "code",
   "execution_count": 18,
   "id": "b0cba41e-ae75-481c-a506-ee2dcd70fe35",
   "metadata": {
    "collapsed": true,
    "jupyter": {
     "outputs_hidden": true
    },
    "tags": []
   },
   "outputs": [
    {
     "name": "stderr",
     "output_type": "stream",
     "text": [
      "Loading required package: SeuratObject\n",
      "\n",
      "Loading required package: sp\n",
      "\n",
      "\n",
      "Attaching package: ‘sp’\n",
      "\n",
      "\n",
      "The following object is masked from ‘package:IRanges’:\n",
      "\n",
      "    %over%\n",
      "\n",
      "\n",
      "\n",
      "Attaching package: ‘SeuratObject’\n",
      "\n",
      "\n",
      "The following object is masked from ‘package:SummarizedExperiment’:\n",
      "\n",
      "    Assays\n",
      "\n",
      "\n",
      "The following object is masked from ‘package:GenomicRanges’:\n",
      "\n",
      "    intersect\n",
      "\n",
      "\n",
      "The following object is masked from ‘package:GenomeInfoDb’:\n",
      "\n",
      "    intersect\n",
      "\n",
      "\n",
      "The following object is masked from ‘package:IRanges’:\n",
      "\n",
      "    intersect\n",
      "\n",
      "\n",
      "The following object is masked from ‘package:S4Vectors’:\n",
      "\n",
      "    intersect\n",
      "\n",
      "\n",
      "The following object is masked from ‘package:BiocGenerics’:\n",
      "\n",
      "    intersect\n",
      "\n",
      "\n",
      "The following objects are masked from ‘package:base’:\n",
      "\n",
      "    intersect, t\n",
      "\n",
      "\n",
      "\n",
      "Attaching package: ‘Seurat’\n",
      "\n",
      "\n",
      "The following object is masked from ‘package:SummarizedExperiment’:\n",
      "\n",
      "    Assays\n",
      "\n",
      "\n"
     ]
    }
   ],
   "source": [
    "library(Seurat)"
   ]
  },
  {
   "cell_type": "code",
   "execution_count": 19,
   "id": "889221ac-c4c2-44bf-9e3f-ae4c158b1494",
   "metadata": {},
   "outputs": [],
   "source": [
    "library(Signac)"
   ]
  },
  {
   "cell_type": "code",
   "execution_count": 20,
   "id": "15435410-6169-4a6a-b4f6-bca71c7807b5",
   "metadata": {},
   "outputs": [
    {
     "name": "stderr",
     "output_type": "stream",
     "text": [
      "\n",
      "Attaching package: ‘Pando’\n",
      "\n",
      "\n",
      "The following objects are masked from ‘package:Seurat’:\n",
      "\n",
      "    GetAssay, VariableFeatures\n",
      "\n",
      "\n",
      "The following objects are masked from ‘package:SeuratObject’:\n",
      "\n",
      "    LayerData, VariableFeatures\n",
      "\n",
      "\n"
     ]
    }
   ],
   "source": [
    "library(Pando)"
   ]
  },
  {
   "cell_type": "code",
   "execution_count": 21,
   "id": "ab8ef292-0cb1-4199-bc71-284b04638992",
   "metadata": {},
   "outputs": [],
   "source": [
    "mannens_et_al_Pando_w_eGRNs <- readRDS(here::here('..', '05_09_24', 'R_Objects', 'mannens_et_al_Pando_w_eGRNs_w_SGE.RDS'))"
   ]
  },
  {
   "cell_type": "code",
   "execution_count": 22,
   "id": "8d11ea85-fbcf-4af2-a250-33c5011843fd",
   "metadata": {},
   "outputs": [
    {
     "data": {
      "text/plain": [
       "An object of class \"GRNData\"\n",
       "Slot \"grn\":\n",
       "A RegulatoryNetwork object based on 1122 transcription factors\n",
       "\n",
       "1 inferred network: glm_network\n",
       "\n",
       "Slot \"data\":\n",
       "An object of class Seurat \n",
       "430192 features across 49470 samples within 2 assays \n",
       "Active assay: RNA (25071 features, 5000 variable features)\n",
       " 3 layers present: counts, data, scale.data\n",
       " 1 other assay present: peaks\n"
      ]
     },
     "metadata": {},
     "output_type": "display_data"
    }
   ],
   "source": [
    "mannens_et_al_Pando_w_eGRNs"
   ]
  },
  {
   "cell_type": "code",
   "execution_count": 24,
   "id": "fe8c16cc-1660-41f5-8657-c5325b06d550",
   "metadata": {},
   "outputs": [
    {
     "data": {
      "text/plain": [
       "An object of class Seurat \n",
       "430192 features across 49470 samples within 2 assays \n",
       "Active assay: RNA (25071 features, 5000 variable features)\n",
       " 3 layers present: counts, data, scale.data\n",
       " 1 other assay present: peaks"
      ]
     },
     "metadata": {},
     "output_type": "display_data"
    }
   ],
   "source": [
    "mannens_et_al_Pando_w_eGRNs |> _@data"
   ]
  },
  {
   "cell_type": "code",
   "execution_count": 31,
   "id": "b4ce48f6-acfc-4d47-b3b2-5b2b9a337943",
   "metadata": {},
   "outputs": [
    {
     "data": {
      "text/html": [
       "<style>\n",
       ".list-inline {list-style: none; margin:0; padding: 0}\n",
       ".list-inline>li {display: inline-block}\n",
       ".list-inline>li:not(:last-child)::after {content: \"\\00b7\"; padding: 0 .5ex}\n",
       "</style>\n",
       "<ol class=list-inline><li>'assays'</li><li>'meta.data'</li><li>'active.assay'</li><li>'active.ident'</li><li>'graphs'</li><li>'neighbors'</li><li>'reductions'</li><li>'images'</li><li>'project.name'</li><li>'misc'</li><li>'version'</li><li>'commands'</li><li>'tools'</li></ol>\n"
      ],
      "text/latex": [
       "\\begin{enumerate*}\n",
       "\\item 'assays'\n",
       "\\item 'meta.data'\n",
       "\\item 'active.assay'\n",
       "\\item 'active.ident'\n",
       "\\item 'graphs'\n",
       "\\item 'neighbors'\n",
       "\\item 'reductions'\n",
       "\\item 'images'\n",
       "\\item 'project.name'\n",
       "\\item 'misc'\n",
       "\\item 'version'\n",
       "\\item 'commands'\n",
       "\\item 'tools'\n",
       "\\end{enumerate*}\n"
      ],
      "text/markdown": [
       "1. 'assays'\n",
       "2. 'meta.data'\n",
       "3. 'active.assay'\n",
       "4. 'active.ident'\n",
       "5. 'graphs'\n",
       "6. 'neighbors'\n",
       "7. 'reductions'\n",
       "8. 'images'\n",
       "9. 'project.name'\n",
       "10. 'misc'\n",
       "11. 'version'\n",
       "12. 'commands'\n",
       "13. 'tools'\n",
       "\n",
       "\n"
      ],
      "text/plain": [
       " [1] \"assays\"       \"meta.data\"    \"active.assay\" \"active.ident\" \"graphs\"      \n",
       " [6] \"neighbors\"    \"reductions\"   \"images\"       \"project.name\" \"misc\"        \n",
       "[11] \"version\"      \"commands\"     \"tools\"       "
      ]
     },
     "metadata": {},
     "output_type": "display_data"
    }
   ],
   "source": [
    "mannens_et_al_Pando_w_eGRNs |> _@data |> slotNames()"
   ]
  },
  {
   "cell_type": "code",
   "execution_count": 33,
   "id": "7fda2705-44bd-43b2-9d91-bc7037b6b7bf",
   "metadata": {},
   "outputs": [
    {
     "data": {
      "text/html": [
       "<table class=\"dataframe\">\n",
       "<caption>A data.frame: 6 × 88</caption>\n",
       "<thead>\n",
       "\t<tr><th></th><th scope=col>orig.ident</th><th scope=col>nCount_RNA</th><th scope=col>nFeature_RNA</th><th scope=col>before_filtering_orig.ident</th><th scope=col>before_filtering_nCount_RNA</th><th scope=col>before_filtering_nFeature_RNA</th><th scope=col>_index</th><th scope=col>Age</th><th scope=col>Agetext</th><th scope=col>Ageunit</th><th scope=col>⋯</th><th scope=col>total</th><th scope=col>unmapped</th><th scope=col>before_filtering_percent.mt</th><th scope=col>UMAP_1</th><th scope=col>UMAP_2</th><th scope=col>PC_1</th><th scope=col>PC_2</th><th scope=col>PC_3</th><th scope=col>PC_4</th><th scope=col>main_cell_types</th></tr>\n",
       "\t<tr><th></th><th scope=col>&lt;fct&gt;</th><th scope=col>&lt;dbl&gt;</th><th scope=col>&lt;int&gt;</th><th scope=col>&lt;fct&gt;</th><th scope=col>&lt;dbl&gt;</th><th scope=col>&lt;int&gt;</th><th scope=col>&lt;chr&gt;</th><th scope=col>&lt;dbl&gt;</th><th scope=col>&lt;chr&gt;</th><th scope=col>&lt;chr&gt;</th><th scope=col>⋯</th><th scope=col>&lt;int&gt;</th><th scope=col>&lt;int&gt;</th><th scope=col>&lt;dbl&gt;</th><th scope=col>&lt;dbl&gt;</th><th scope=col>&lt;dbl&gt;</th><th scope=col>&lt;dbl&gt;</th><th scope=col>&lt;dbl&gt;</th><th scope=col>&lt;dbl&gt;</th><th scope=col>&lt;dbl&gt;</th><th scope=col>&lt;chr&gt;</th></tr>\n",
       "</thead>\n",
       "<tbody>\n",
       "\t<tr><th scope=row>10X280_1:CAGATTCAGCAGCTCA</th><td>10X280</td><td>4735</td><td>2198</td><td>10X280</td><td>4936</td><td>2346</td><td>10X280_1:CAGATTCAGCAGCTCA</td><td>7.6</td><td>7.6w</td><td>pcw</td><td>⋯</td><td>49770</td><td>277</td><td>0</td><td>-6.222241</td><td>13.43640</td><td>-4.106550</td><td>-3.268812</td><td>-6.732936</td><td>-3.938670</td><td>Neurons</td></tr>\n",
       "\t<tr><th scope=row>10X365_2:ACCAATATCAATGACC</th><td>10X365</td><td>4031</td><td>1628</td><td>10X365</td><td>4243</td><td>1759</td><td>10X365_2:ACCAATATCAATGACC</td><td>9.5</td><td>9.5w</td><td>pcw</td><td>⋯</td><td>45068</td><td>500</td><td>0</td><td>-4.132537</td><td>11.84413</td><td>-4.832493</td><td>-3.687770</td><td>-7.308814</td><td>-4.725655</td><td>Neurons</td></tr>\n",
       "\t<tr><th scope=row>10X365_2:ATGGTGCGTCACCTAT</th><td>10X365</td><td>4454</td><td>1277</td><td>10X365</td><td>4677</td><td>1368</td><td>10X365_2:ATGGTGCGTCACCTAT</td><td>9.5</td><td>9.5w</td><td>pcw</td><td>⋯</td><td>36716</td><td>385</td><td>0</td><td>-4.506521</td><td>11.84385</td><td>-3.591811</td><td>-3.051787</td><td>-5.394616</td><td>-3.315939</td><td>Neurons</td></tr>\n",
       "\t<tr><th scope=row>10X280_1:ACACCTTGTCATTAGG</th><td>10X280</td><td>3976</td><td>1850</td><td>10X280</td><td>4173</td><td>1982</td><td>10X280_1:ACACCTTGTCATTAGG</td><td>7.6</td><td>7.6w</td><td>pcw</td><td>⋯</td><td>45041</td><td>360</td><td>0</td><td>-6.333588</td><td>12.94526</td><td>-4.587127</td><td>-3.315104</td><td>-6.001663</td><td>-3.448300</td><td>Neurons</td></tr>\n",
       "\t<tr><th scope=row>10X406_1:TATCGCGAGGCTTAAC</th><td>10X406</td><td>3896</td><td>1631</td><td>10X406</td><td>4125</td><td>1780</td><td>10X406_1:TATCGCGAGGCTTAAC</td><td>9.5</td><td>9.5w</td><td>pcw</td><td>⋯</td><td>44799</td><td>248</td><td>0</td><td>-4.288225</td><td>12.16204</td><td>-5.145256</td><td>-2.662943</td><td>-6.679519</td><td>-5.007179</td><td>Neurons</td></tr>\n",
       "\t<tr><th scope=row>10X280_1:ACCTTGCTCCGTAAAC</th><td>10X280</td><td>3794</td><td>1556</td><td>10X280</td><td>3973</td><td>1664</td><td>10X280_1:ACCTTGCTCCGTAAAC</td><td>7.6</td><td>7.6w</td><td>pcw</td><td>⋯</td><td>40078</td><td>349</td><td>0</td><td>-6.127756</td><td>13.72135</td><td>-4.534543</td><td>-3.120566</td><td>-5.102031</td><td>-3.038839</td><td>Neurons</td></tr>\n",
       "</tbody>\n",
       "</table>\n"
      ],
      "text/latex": [
       "A data.frame: 6 × 88\n",
       "\\begin{tabular}{r|lllllllllllllllllllll}\n",
       "  & orig.ident & nCount\\_RNA & nFeature\\_RNA & before\\_filtering\\_orig.ident & before\\_filtering\\_nCount\\_RNA & before\\_filtering\\_nFeature\\_RNA & \\_index & Age & Agetext & Ageunit & ⋯ & total & unmapped & before\\_filtering\\_percent.mt & UMAP\\_1 & UMAP\\_2 & PC\\_1 & PC\\_2 & PC\\_3 & PC\\_4 & main\\_cell\\_types\\\\\n",
       "  & <fct> & <dbl> & <int> & <fct> & <dbl> & <int> & <chr> & <dbl> & <chr> & <chr> & ⋯ & <int> & <int> & <dbl> & <dbl> & <dbl> & <dbl> & <dbl> & <dbl> & <dbl> & <chr>\\\\\n",
       "\\hline\n",
       "\t10X280\\_1:CAGATTCAGCAGCTCA & 10X280 & 4735 & 2198 & 10X280 & 4936 & 2346 & 10X280\\_1:CAGATTCAGCAGCTCA & 7.6 & 7.6w & pcw & ⋯ & 49770 & 277 & 0 & -6.222241 & 13.43640 & -4.106550 & -3.268812 & -6.732936 & -3.938670 & Neurons\\\\\n",
       "\t10X365\\_2:ACCAATATCAATGACC & 10X365 & 4031 & 1628 & 10X365 & 4243 & 1759 & 10X365\\_2:ACCAATATCAATGACC & 9.5 & 9.5w & pcw & ⋯ & 45068 & 500 & 0 & -4.132537 & 11.84413 & -4.832493 & -3.687770 & -7.308814 & -4.725655 & Neurons\\\\\n",
       "\t10X365\\_2:ATGGTGCGTCACCTAT & 10X365 & 4454 & 1277 & 10X365 & 4677 & 1368 & 10X365\\_2:ATGGTGCGTCACCTAT & 9.5 & 9.5w & pcw & ⋯ & 36716 & 385 & 0 & -4.506521 & 11.84385 & -3.591811 & -3.051787 & -5.394616 & -3.315939 & Neurons\\\\\n",
       "\t10X280\\_1:ACACCTTGTCATTAGG & 10X280 & 3976 & 1850 & 10X280 & 4173 & 1982 & 10X280\\_1:ACACCTTGTCATTAGG & 7.6 & 7.6w & pcw & ⋯ & 45041 & 360 & 0 & -6.333588 & 12.94526 & -4.587127 & -3.315104 & -6.001663 & -3.448300 & Neurons\\\\\n",
       "\t10X406\\_1:TATCGCGAGGCTTAAC & 10X406 & 3896 & 1631 & 10X406 & 4125 & 1780 & 10X406\\_1:TATCGCGAGGCTTAAC & 9.5 & 9.5w & pcw & ⋯ & 44799 & 248 & 0 & -4.288225 & 12.16204 & -5.145256 & -2.662943 & -6.679519 & -5.007179 & Neurons\\\\\n",
       "\t10X280\\_1:ACCTTGCTCCGTAAAC & 10X280 & 3794 & 1556 & 10X280 & 3973 & 1664 & 10X280\\_1:ACCTTGCTCCGTAAAC & 7.6 & 7.6w & pcw & ⋯ & 40078 & 349 & 0 & -6.127756 & 13.72135 & -4.534543 & -3.120566 & -5.102031 & -3.038839 & Neurons\\\\\n",
       "\\end{tabular}\n"
      ],
      "text/markdown": [
       "\n",
       "A data.frame: 6 × 88\n",
       "\n",
       "| <!--/--> | orig.ident &lt;fct&gt; | nCount_RNA &lt;dbl&gt; | nFeature_RNA &lt;int&gt; | before_filtering_orig.ident &lt;fct&gt; | before_filtering_nCount_RNA &lt;dbl&gt; | before_filtering_nFeature_RNA &lt;int&gt; | _index &lt;chr&gt; | Age &lt;dbl&gt; | Agetext &lt;chr&gt; | Ageunit &lt;chr&gt; | ⋯ ⋯ | total &lt;int&gt; | unmapped &lt;int&gt; | before_filtering_percent.mt &lt;dbl&gt; | UMAP_1 &lt;dbl&gt; | UMAP_2 &lt;dbl&gt; | PC_1 &lt;dbl&gt; | PC_2 &lt;dbl&gt; | PC_3 &lt;dbl&gt; | PC_4 &lt;dbl&gt; | main_cell_types &lt;chr&gt; |\n",
       "|---|---|---|---|---|---|---|---|---|---|---|---|---|---|---|---|---|---|---|---|---|---|\n",
       "| 10X280_1:CAGATTCAGCAGCTCA | 10X280 | 4735 | 2198 | 10X280 | 4936 | 2346 | 10X280_1:CAGATTCAGCAGCTCA | 7.6 | 7.6w | pcw | ⋯ | 49770 | 277 | 0 | -6.222241 | 13.43640 | -4.106550 | -3.268812 | -6.732936 | -3.938670 | Neurons |\n",
       "| 10X365_2:ACCAATATCAATGACC | 10X365 | 4031 | 1628 | 10X365 | 4243 | 1759 | 10X365_2:ACCAATATCAATGACC | 9.5 | 9.5w | pcw | ⋯ | 45068 | 500 | 0 | -4.132537 | 11.84413 | -4.832493 | -3.687770 | -7.308814 | -4.725655 | Neurons |\n",
       "| 10X365_2:ATGGTGCGTCACCTAT | 10X365 | 4454 | 1277 | 10X365 | 4677 | 1368 | 10X365_2:ATGGTGCGTCACCTAT | 9.5 | 9.5w | pcw | ⋯ | 36716 | 385 | 0 | -4.506521 | 11.84385 | -3.591811 | -3.051787 | -5.394616 | -3.315939 | Neurons |\n",
       "| 10X280_1:ACACCTTGTCATTAGG | 10X280 | 3976 | 1850 | 10X280 | 4173 | 1982 | 10X280_1:ACACCTTGTCATTAGG | 7.6 | 7.6w | pcw | ⋯ | 45041 | 360 | 0 | -6.333588 | 12.94526 | -4.587127 | -3.315104 | -6.001663 | -3.448300 | Neurons |\n",
       "| 10X406_1:TATCGCGAGGCTTAAC | 10X406 | 3896 | 1631 | 10X406 | 4125 | 1780 | 10X406_1:TATCGCGAGGCTTAAC | 9.5 | 9.5w | pcw | ⋯ | 44799 | 248 | 0 | -4.288225 | 12.16204 | -5.145256 | -2.662943 | -6.679519 | -5.007179 | Neurons |\n",
       "| 10X280_1:ACCTTGCTCCGTAAAC | 10X280 | 3794 | 1556 | 10X280 | 3973 | 1664 | 10X280_1:ACCTTGCTCCGTAAAC | 7.6 | 7.6w | pcw | ⋯ | 40078 | 349 | 0 | -6.127756 | 13.72135 | -4.534543 | -3.120566 | -5.102031 | -3.038839 | Neurons |\n",
       "\n"
      ],
      "text/plain": [
       "                          orig.ident nCount_RNA nFeature_RNA\n",
       "10X280_1:CAGATTCAGCAGCTCA 10X280     4735       2198        \n",
       "10X365_2:ACCAATATCAATGACC 10X365     4031       1628        \n",
       "10X365_2:ATGGTGCGTCACCTAT 10X365     4454       1277        \n",
       "10X280_1:ACACCTTGTCATTAGG 10X280     3976       1850        \n",
       "10X406_1:TATCGCGAGGCTTAAC 10X406     3896       1631        \n",
       "10X280_1:ACCTTGCTCCGTAAAC 10X280     3794       1556        \n",
       "                          before_filtering_orig.ident\n",
       "10X280_1:CAGATTCAGCAGCTCA 10X280                     \n",
       "10X365_2:ACCAATATCAATGACC 10X365                     \n",
       "10X365_2:ATGGTGCGTCACCTAT 10X365                     \n",
       "10X280_1:ACACCTTGTCATTAGG 10X280                     \n",
       "10X406_1:TATCGCGAGGCTTAAC 10X406                     \n",
       "10X280_1:ACCTTGCTCCGTAAAC 10X280                     \n",
       "                          before_filtering_nCount_RNA\n",
       "10X280_1:CAGATTCAGCAGCTCA 4936                       \n",
       "10X365_2:ACCAATATCAATGACC 4243                       \n",
       "10X365_2:ATGGTGCGTCACCTAT 4677                       \n",
       "10X280_1:ACACCTTGTCATTAGG 4173                       \n",
       "10X406_1:TATCGCGAGGCTTAAC 4125                       \n",
       "10X280_1:ACCTTGCTCCGTAAAC 3973                       \n",
       "                          before_filtering_nFeature_RNA\n",
       "10X280_1:CAGATTCAGCAGCTCA 2346                         \n",
       "10X365_2:ACCAATATCAATGACC 1759                         \n",
       "10X365_2:ATGGTGCGTCACCTAT 1368                         \n",
       "10X280_1:ACACCTTGTCATTAGG 1982                         \n",
       "10X406_1:TATCGCGAGGCTTAAC 1780                         \n",
       "10X280_1:ACCTTGCTCCGTAAAC 1664                         \n",
       "                          _index                    Age Agetext Ageunit ⋯ total\n",
       "10X280_1:CAGATTCAGCAGCTCA 10X280_1:CAGATTCAGCAGCTCA 7.6 7.6w    pcw     ⋯ 49770\n",
       "10X365_2:ACCAATATCAATGACC 10X365_2:ACCAATATCAATGACC 9.5 9.5w    pcw     ⋯ 45068\n",
       "10X365_2:ATGGTGCGTCACCTAT 10X365_2:ATGGTGCGTCACCTAT 9.5 9.5w    pcw     ⋯ 36716\n",
       "10X280_1:ACACCTTGTCATTAGG 10X280_1:ACACCTTGTCATTAGG 7.6 7.6w    pcw     ⋯ 45041\n",
       "10X406_1:TATCGCGAGGCTTAAC 10X406_1:TATCGCGAGGCTTAAC 9.5 9.5w    pcw     ⋯ 44799\n",
       "10X280_1:ACCTTGCTCCGTAAAC 10X280_1:ACCTTGCTCCGTAAAC 7.6 7.6w    pcw     ⋯ 40078\n",
       "                          unmapped before_filtering_percent.mt UMAP_1   \n",
       "10X280_1:CAGATTCAGCAGCTCA 277      0                           -6.222241\n",
       "10X365_2:ACCAATATCAATGACC 500      0                           -4.132537\n",
       "10X365_2:ATGGTGCGTCACCTAT 385      0                           -4.506521\n",
       "10X280_1:ACACCTTGTCATTAGG 360      0                           -6.333588\n",
       "10X406_1:TATCGCGAGGCTTAAC 248      0                           -4.288225\n",
       "10X280_1:ACCTTGCTCCGTAAAC 349      0                           -6.127756\n",
       "                          UMAP_2   PC_1      PC_2      PC_3      PC_4     \n",
       "10X280_1:CAGATTCAGCAGCTCA 13.43640 -4.106550 -3.268812 -6.732936 -3.938670\n",
       "10X365_2:ACCAATATCAATGACC 11.84413 -4.832493 -3.687770 -7.308814 -4.725655\n",
       "10X365_2:ATGGTGCGTCACCTAT 11.84385 -3.591811 -3.051787 -5.394616 -3.315939\n",
       "10X280_1:ACACCTTGTCATTAGG 12.94526 -4.587127 -3.315104 -6.001663 -3.448300\n",
       "10X406_1:TATCGCGAGGCTTAAC 12.16204 -5.145256 -2.662943 -6.679519 -5.007179\n",
       "10X280_1:ACCTTGCTCCGTAAAC 13.72135 -4.534543 -3.120566 -5.102031 -3.038839\n",
       "                          main_cell_types\n",
       "10X280_1:CAGATTCAGCAGCTCA Neurons        \n",
       "10X365_2:ACCAATATCAATGACC Neurons        \n",
       "10X365_2:ATGGTGCGTCACCTAT Neurons        \n",
       "10X280_1:ACACCTTGTCATTAGG Neurons        \n",
       "10X406_1:TATCGCGAGGCTTAAC Neurons        \n",
       "10X280_1:ACCTTGCTCCGTAAAC Neurons        "
      ]
     },
     "metadata": {},
     "output_type": "display_data"
    }
   ],
   "source": [
    "mannens_et_al_Pando_w_eGRNs |> _@data |> slot(name = 'meta.data') |> head()"
   ]
  },
  {
   "cell_type": "code",
   "execution_count": 34,
   "id": "454f95b7-7112-411b-a1b8-7c78d6724a98",
   "metadata": {},
   "outputs": [],
   "source": [
    "# Note: Because of large size of the dataset, I performed RNA data's PCA annd UMAP using on-disk storage format and then added\n",
    "# as columns to meta.data df. "
   ]
  },
  {
   "cell_type": "code",
   "execution_count": 36,
   "id": "30a50427-fef4-4f8a-82dc-0c8621ea9dc1",
   "metadata": {},
   "outputs": [
    {
     "name": "stdout",
     "output_type": "stream",
     "text": [
      " [1] \"orig.ident\"                    \"nCount_RNA\"                   \n",
      " [3] \"nFeature_RNA\"                  \"before_filtering_orig.ident\"  \n",
      " [5] \"before_filtering_nCount_RNA\"   \"before_filtering_nFeature_RNA\"\n",
      " [7] \"_index\"                        \"Age\"                          \n",
      " [9] \"Agetext\"                       \"Ageunit\"                      \n",
      "[11] \"All_fc_analysis_id\"            \"Analysis\"                     \n",
      "[13] \"CellCycle\"                     \"CellCycle_G1\"                 \n",
      "[15] \"CellCycle_G2M\"                 \"CellCycle_S\"                  \n",
      "[17] \"CellID\"                        \"Chemistry\"                    \n",
      "[19] \"Class\"                         \"ClusterName\"                  \n",
      "[21] \"Clusters\"                      \"Clusters_main\"                \n",
      "[23] \"Clusters_peaks\"                \"Clusters_renumbered\"          \n",
      "[25] \"Cmobarcodes\"                   \"Comment\"                      \n",
      "[27] \"Datecaptured\"                  \"Donor\"                        \n",
      "[29] \"DoubletFinderFlag\"             \"DoubletFinderScore\"           \n",
      "[31] \"Editat\"                        \"Editby\"                       \n",
      "[33] \"FRIP\"                          \"FRtss\"                        \n",
      "[35] \"GA_colsum\"                     \"GA_pooled_colsum\"             \n",
      "[37] \"Id\"                            \"IsCycling\"                    \n",
      "[39] \"Label\"                         \"Method\"                       \n",
      "[41] \"NBins\"                         \"NGenes\"                       \n",
      "[43] \"NPeaks\"                        \"Name\"                         \n",
      "[45] \"Neuronprop\"                    \"Numpooledanimals\"             \n",
      "[47] \"Outliers\"                      \"Plugdate\"                     \n",
      "[49] \"Project\"                       \"PseudoAge\"                    \n",
      "[51] \"Roi\"                           \"SEX\"                          \n",
      "[53] \"Sampleok\"                      \"Sex\"                          \n",
      "[55] \"Shortname\"                     \"Species\"                      \n",
      "[57] \"Split\"                         \"Splits\"                       \n",
      "[59] \"Strain\"                        \"SubClusters\"                  \n",
      "[61] \"TSS_fragments\"                 \"Tissue\"                       \n",
      "[63] \"TotalUMI\"                      \"Transcriptome\"                \n",
      "[65] \"Y\"                             \"barcode\"                      \n",
      "[67] \"chimeric\"                      \"duplicate\"                    \n",
      "[69] \"excluded_reason\"               \"is__cell_barcode\"             \n",
      "[71] \"lowmapq\"                       \"mitochondrial\"                \n",
      "[73] \"passed_filters\"                \"peak_region_cutsites\"         \n",
      "[75] \"peak_region_fragments\"         \"preClusters\"                  \n",
      "[77] \"regions\"                       \"subregions\"                   \n",
      "[79] \"total\"                         \"unmapped\"                     \n",
      "[81] \"before_filtering_percent.mt\"   \"UMAP_1\"                       \n",
      "[83] \"UMAP_2\"                        \"PC_1\"                         \n",
      "[85] \"PC_2\"                          \"PC_3\"                         \n",
      "[87] \"PC_4\"                          \"main_cell_types\"              \n"
     ]
    }
   ],
   "source": [
    "mannens_et_al_Pando_w_eGRNs |> _@data |> slot(name = 'meta.data') |> colnames() |> print()"
   ]
  },
  {
   "cell_type": "code",
   "execution_count": 38,
   "id": "c0e12caa-5567-4067-a343-56f5544502cb",
   "metadata": {},
   "outputs": [],
   "source": [
    "mannens_et_al_seurat_obj  <- mannens_et_al_Pando_w_eGRNs |> _@data"
   ]
  },
  {
   "cell_type": "code",
   "execution_count": 39,
   "id": "ee4f137a-2c5c-47bb-bcce-d95a79863d54",
   "metadata": {},
   "outputs": [
    {
     "data": {
      "text/plain": [
       "An object of class Seurat \n",
       "430192 features across 49470 samples within 2 assays \n",
       "Active assay: RNA (25071 features, 5000 variable features)\n",
       " 3 layers present: counts, data, scale.data\n",
       " 1 other assay present: peaks"
      ]
     },
     "metadata": {},
     "output_type": "display_data"
    }
   ],
   "source": [
    "mannens_et_al_seurat_obj"
   ]
  },
  {
   "cell_type": "code",
   "execution_count": 40,
   "id": "199cda22-1a90-4786-8c4f-49f86ec4c209",
   "metadata": {},
   "outputs": [],
   "source": [
    "mannens_et_al_seurat_obj |> saveRDS(here::here('r_objects', 'mannens_et_al_seurat_obj.RDS'))"
   ]
  },
  {
   "cell_type": "code",
   "execution_count": 41,
   "id": "a4f3b959-b2fa-4fe8-96d2-32b6867ad96d",
   "metadata": {},
   "outputs": [
    {
     "data": {
      "text/plain": [
       "An object of class Seurat \n",
       "430192 features across 49470 samples within 2 assays \n",
       "Active assay: RNA (25071 features, 5000 variable features)\n",
       " 3 layers present: counts, data, scale.data\n",
       " 1 other assay present: peaks"
      ]
     },
     "metadata": {},
     "output_type": "display_data"
    }
   ],
   "source": [
    "mannens_et_al_seurat_obj"
   ]
  },
  {
   "cell_type": "code",
   "execution_count": 42,
   "id": "a3008617-5969-4871-ae2d-9c9d29b802f7",
   "metadata": {},
   "outputs": [],
   "source": [
    "rm(mannens_et_al_Pando_w_eGRNs)"
   ]
  },
  {
   "cell_type": "code",
   "execution_count": 44,
   "id": "90666d2c-6976-4695-9199-7156b03d298e",
   "metadata": {},
   "outputs": [
    {
     "data": {
      "text/plain": [
       "An object of class Seurat \n",
       "430192 features across 49470 samples within 2 assays \n",
       "Active assay: RNA (25071 features, 5000 variable features)\n",
       " 3 layers present: counts, data, scale.data\n",
       " 1 other assay present: peaks"
      ]
     },
     "metadata": {},
     "output_type": "display_data"
    }
   ],
   "source": [
    "mannens_et_al_seurat_obj"
   ]
  },
  {
   "cell_type": "markdown",
   "id": "c0e07466-8e24-484a-985f-928f3736b398",
   "metadata": {},
   "source": [
    "============================================================\n",
    "\n",
    "This object contains the final number of cells per each cell type \\\n",
    "after some subsetting of the specific cell types to increase\\\n",
    "the computational efficiency for some Pando eGRN inference \\\n",
    "tools.\n",
    "\n",
    "This seurat object does not have any dimensional reduction assays. \\\n",
    "However, it has PC1 to PC4 embedings and UMAP embeddings in the \\\n",
    "metadata dataframe. The reason is that the full version of PCA \\\n",
    "matrix could not be added due to large data size induced crash.\\\n",
    "However, it is available as an individual R object.\n",
    "\n",
    "For ATAC, not any low dimensional representation exists in this object.\n",
    "\n",
    "============================================================="
   ]
  },
  {
   "cell_type": "code",
   "execution_count": 48,
   "id": "8980b863-939a-42c7-b01e-04128b9bfb37",
   "metadata": {},
   "outputs": [
    {
     "name": "stdout",
     "output_type": "stream",
     "text": [
      "The following package(s) will be updated in the lockfile:\n",
      "\n",
      "# Bioconductor 3.19 ----------------------------------------------------------\n",
      "- clusterProfiler    [* -> 4.12.6]\n",
      "- ComplexHeatmap     [* -> 2.20.0]\n",
      "- DOSE               [* -> 3.30.4]\n",
      "- enrichplot         [* -> 1.24.2]\n",
      "- epiregulon.extra   [* -> 1.0.1]\n",
      "- fgsea              [* -> 1.30.0]\n",
      "- ggtree             [* -> 3.12.0]\n",
      "- GOSemSim           [* -> 2.30.2]\n",
      "- qvalue             [* -> 2.36.0]\n",
      "- scater             [* -> 1.32.1]\n",
      "- treeio             [* -> 1.28.0]\n",
      "\n",
      "# CRAN -----------------------------------------------------------------------\n",
      "- ape                [* -> 5.8]\n",
      "- aplot              [* -> 0.2.3]\n",
      "- bayestestR         [* -> 0.14.0]\n",
      "- beeswarm           [* -> 0.4.0]\n",
      "- broom              [* -> 1.0.6]\n",
      "- Cairo              [* -> 1.6-2]\n",
      "- callr              [* -> 3.7.6]\n",
      "- cellranger         [* -> 1.1.0]\n",
      "- circlize           [* -> 0.4.16]\n",
      "- clue               [* -> 0.3-66]\n",
      "- commonmark         [* -> 1.9.1]\n",
      "- conflicted         [* -> 1.2.0]\n",
      "- cowplot            [* -> 1.1.3]\n",
      "- datawizard         [* -> 0.12.2]\n",
      "- deldir             [* -> 2.0-4]\n",
      "- dichromat          [* -> 2.0-0.1]\n",
      "- doParallel         [* -> 1.0.17]\n",
      "- dotCall64          [* -> 1.1-1]\n",
      "- downloader         [* -> 0.4]\n",
      "- dtplyr             [* -> 1.3.1]\n",
      "- fastDummies        [* -> 1.7.4]\n",
      "- fastmatch          [* -> 1.1-4]\n",
      "- fitdistrplus       [* -> 1.2-1]\n",
      "- FNN                [* -> 1.1.4]\n",
      "- forcats            [* -> 1.0.0]\n",
      "- foreach            [* -> 1.5.2]\n",
      "- future             [* -> 1.34.0]\n",
      "- future.apply       [* -> 1.11.2]\n",
      "- gargle             [* -> 1.5.2]\n",
      "- GetoptLong         [* -> 1.0.5]\n",
      "- ggbeeswarm         [* -> 0.7.2]\n",
      "- ggforce            [* -> 0.4.2]\n",
      "- ggfun              [* -> 0.1.5]\n",
      "- ggnewscale         [* -> 0.5.0]\n",
      "- ggplotify          [* -> 0.1.2]\n",
      "- ggpointdensity     [* -> 0.1.0]\n",
      "- ggraph             [* -> 2.2.1]\n",
      "- ggrastr            [* -> 1.0.2]\n",
      "- ggrepel            [* -> 0.9.5]\n",
      "- ggridges           [* -> 0.5.6]\n",
      "- glmnet             [* -> 4.1-8]\n",
      "- glmnetUtils        [* -> 1.1.9]\n",
      "- GlobalOptions      [* -> 0.1.2]\n",
      "- globals            [* -> 0.16.3]\n",
      "- goftest            [* -> 1.2-3]\n",
      "- googledrive        [* -> 2.1.1]\n",
      "- googlesheets4      [* -> 1.1.1]\n",
      "- gplots             [* -> 3.1.3.1]\n",
      "- graphlayouts       [* -> 1.1.1]\n",
      "- gridExtra          [* -> 2.3]\n",
      "- gridGraphics       [* -> 0.5-1]\n",
      "- grr                [* -> 0.9.5]\n",
      "- gson               [* -> 0.1.0]\n",
      "- haven              [* -> 2.5.4]\n",
      "- here               [* -> 1.0.1]\n",
      "- httpuv             [* -> 1.6.15]\n",
      "- ica                [* -> 1.0-3]\n",
      "- ids                [* -> 1.0.1]\n",
      "- insight            [* -> 0.20.3]\n",
      "- iterators          [* -> 1.0.14]\n",
      "- KernSmooth         [* -> 2.23-24]\n",
      "- leiden             [* -> 0.4.3.1]\n",
      "- listenv            [* -> 0.9.1]\n",
      "- lmtest             [* -> 0.9-40]\n",
      "- lubridate          [* -> 1.9.3]\n",
      "- mapproj            [* -> 1.2.11]\n",
      "- maps               [* -> 3.4.2]\n",
      "- miniUI             [* -> 0.1.1.1]\n",
      "- modelr             [* -> 0.1.11]\n",
      "- pals               [* -> 1.9]\n",
      "- parallelly         [* -> 1.38.0]\n",
      "- patchwork          [* -> 1.2.0]\n",
      "- pbapply            [* -> 1.7-2]\n",
      "- pheatmap           [* -> 1.0.12]\n",
      "- polyclip           [* -> 1.10-7]\n",
      "- processx           [* -> 3.8.4]\n",
      "- progressr          [* -> 0.14.0]\n",
      "- ps                 [* -> 1.7.7]\n",
      "- ragg               [* -> 1.3.2]\n",
      "- RANN               [* -> 2.6.2]\n",
      "- RcppAnnoy          [* -> 0.0.22]\n",
      "- RcppEigen          [* -> 0.3.4.0.2]\n",
      "- RcppML             [* -> 0.3.7]\n",
      "- RcppProgress       [* -> 0.4.2]\n",
      "- RcppRoll           [* -> 0.3.1]\n",
      "- RcppTOML           [* -> 0.2.2]\n",
      "- readxl             [* -> 1.4.3]\n",
      "- rematch            [* -> 2.0.0]\n",
      "- rematch2           [* -> 2.1.2]\n",
      "- reprex             [* -> 2.1.1]\n",
      "- reticulate         [* -> 1.38.0]\n",
      "- ROCR               [* -> 1.0-11]\n",
      "- rprojroot          [* -> 2.0.4]\n",
      "- RSpectra           [* -> 0.16-2]\n",
      "- rstudioapi         [* -> 0.16.0]\n",
      "- Rtsne              [* -> 0.17]\n",
      "- rvest              [* -> 1.0.4]\n",
      "- scattermore        [* -> 1.2]\n",
      "- scatterpie         [* -> 0.2.3]\n",
      "- sctransform        [* -> 0.4.1]\n",
      "- selectr            [* -> 0.4-2]\n",
      "- Seurat             [* -> 5.1.0]\n",
      "- SeuratObject       [* -> 5.0.2]\n",
      "- shadowtext         [* -> 0.1.4]\n",
      "- shape              [* -> 1.4.6.1]\n",
      "- shiny              [* -> 1.9.1]\n",
      "- Signac             [* -> 1.14.0]\n",
      "- sourcetools        [* -> 0.1.7-1]\n",
      "- sp                 [* -> 2.1-4]\n",
      "- spam               [* -> 2.10-0]\n",
      "- spatstat.data      [* -> 3.1-2]\n",
      "- spatstat.explore   [* -> 3.3-2]\n",
      "- spatstat.geom      [* -> 3.3-2]\n",
      "- spatstat.random    [* -> 3.3-1]\n",
      "- spatstat.sparse    [* -> 3.1-0]\n",
      "- spatstat.univar    [* -> 3.0-0]\n",
      "- spatstat.utils     [* -> 3.1-0]\n",
      "- systemfonts        [* -> 1.1.0]\n",
      "- tensor             [* -> 1.5]\n",
      "- textshaping        [* -> 0.4.0]\n",
      "- tidygraph          [* -> 1.3.1]\n",
      "- tidytree           [* -> 0.4.6]\n",
      "- tidyverse          [* -> 2.0.0]\n",
      "- timechange         [* -> 0.3.0]\n",
      "- tweenr             [* -> 2.0.3]\n",
      "- uwot               [* -> 0.2.2]\n",
      "- vipor              [* -> 0.4.7]\n",
      "- viridis            [* -> 0.6.5]\n",
      "- yulab.utils        [* -> 0.1.7]\n",
      "- zoo                [* -> 1.8-12]\n",
      "\n",
      "# GitHub ---------------------------------------------------------------------\n",
      "- Pando              [* -> quadbio/Pando@HEAD]\n",
      "\n",
      "- Lockfile written to \"/fast/AG_Bunina/Yusuf/Project_Endothelial_and_Stroke/Datasets/Chromatin_and_Gene_Exp/2024_C_A_Mannens_C_et_al/04_02_25/renv.lock\".\n"
     ]
    }
   ],
   "source": [
    "renv::snapshot()"
   ]
  },
  {
   "cell_type": "code",
   "execution_count": 50,
   "id": "fe584b3c-b32c-46b8-bb92-031ac02957ca",
   "metadata": {},
   "outputs": [
    {
     "name": "stdout",
     "output_type": "stream",
     "text": [
      "No issues found -- the project is in a consistent state.\n"
     ]
    }
   ],
   "source": [
    "renv::status()"
   ]
  },
  {
   "cell_type": "code",
   "execution_count": 51,
   "id": "2f9cd81b-82eb-4c9c-82d5-99aeb1eb8225",
   "metadata": {},
   "outputs": [
    {
     "data": {
      "text/plain": [
       "R version 4.4.1 (2024-06-14)\n",
       "Platform: x86_64-unknown-linux-gnu\n",
       "Running under: Red Hat Enterprise Linux 9.4 (Plow)\n",
       "\n",
       "Matrix products: default\n",
       "BLAS/LAPACK: /gnu/store/mvbj21lcf387dgs04d29n0sxrydq03a6-openblas-0.3.20/lib/libopenblasp-r0.3.20.so;  LAPACK version 3.9.0\n",
       "\n",
       "locale:\n",
       " [1] LC_CTYPE=en_GB.UTF-8       LC_NUMERIC=C              \n",
       " [3] LC_TIME=en_GB.UTF-8        LC_COLLATE=en_GB.UTF-8    \n",
       " [5] LC_MONETARY=en_GB.UTF-8    LC_MESSAGES=en_GB.UTF-8   \n",
       " [7] LC_PAPER=en_GB.UTF-8       LC_NAME=C                 \n",
       " [9] LC_ADDRESS=C               LC_TELEPHONE=C            \n",
       "[11] LC_MEASUREMENT=en_GB.UTF-8 LC_IDENTIFICATION=C       \n",
       "\n",
       "time zone: Europe/Berlin\n",
       "tzcode source: system (glibc)\n",
       "\n",
       "attached base packages:\n",
       "[1] stats4    stats     graphics  grDevices utils     datasets  methods  \n",
       "[8] base     \n",
       "\n",
       "other attached packages:\n",
       " [1] Pando_1.1.1                 Signac_1.14.0              \n",
       " [3] Seurat_5.1.0                SeuratObject_5.0.2         \n",
       " [5] sp_2.1-4                    lubridate_1.9.3            \n",
       " [7] forcats_1.0.0               stringr_1.5.1              \n",
       " [9] dplyr_1.1.4                 purrr_1.0.2                \n",
       "[11] readr_2.1.5                 tidyr_1.3.1                \n",
       "[13] tibble_3.2.1                ggplot2_3.5.1              \n",
       "[15] tidyverse_2.0.0             epiregulon.extra_1.0.1     \n",
       "[17] epiregulon_1.0.1            SingleCellExperiment_1.26.0\n",
       "[19] SummarizedExperiment_1.34.0 Biobase_2.64.0             \n",
       "[21] GenomicRanges_1.56.1        GenomeInfoDb_1.40.1        \n",
       "[23] IRanges_2.38.1              S4Vectors_0.42.1           \n",
       "[25] BiocGenerics_0.50.0         MatrixGenerics_1.16.0      \n",
       "[27] matrixStats_1.3.0          \n",
       "\n",
       "loaded via a namespace (and not attached):\n",
       "  [1] RcppAnnoy_0.0.22         splines_4.4.1            later_1.4.1             \n",
       "  [4] pbdZMQ_0.3-11            bitops_1.0-8             polyclip_1.10-7         \n",
       "  [7] fastDummies_1.7.4        lifecycle_1.0.4          rprojroot_2.0.4         \n",
       " [10] pals_1.9                 globals_0.16.3           lattice_0.22-6          \n",
       " [13] MASS_7.3-61              magrittr_2.0.3           plotly_4.10.4           \n",
       " [16] httpuv_1.6.15            sctransform_0.4.1        spam_2.10-0             \n",
       " [19] spatstat.sparse_3.1-0    reticulate_1.38.0        mapproj_1.2.11          \n",
       " [22] cowplot_1.1.3            pbapply_1.7-2            RColorBrewer_1.1-3      \n",
       " [25] maps_3.4.2               abind_1.4-5              Rtsne_0.17              \n",
       " [28] RCurl_1.98-1.16          ggraph_2.2.1             tweenr_2.0.3            \n",
       " [31] GenomeInfoDbData_1.2.12  ggrepel_0.9.5            irlba_2.3.5.1           \n",
       " [34] listenv_0.9.1            spatstat.utils_3.1-0     goftest_1.2-3           \n",
       " [37] RSpectra_0.16-2          spatstat.random_3.3-1    fitdistrplus_1.2-1      \n",
       " [40] parallelly_1.38.0        RcppRoll_0.3.1           leiden_0.4.3.1          \n",
       " [43] codetools_0.2-20         DelayedArray_0.30.1      ggforce_0.4.2           \n",
       " [46] tidyselect_1.2.1         UCSC.utils_1.0.0         farver_2.1.2            \n",
       " [49] viridis_0.6.5            base64enc_0.1-3          spatstat.explore_3.3-2  \n",
       " [52] jsonlite_1.8.8           tidygraph_1.3.1          progressr_0.14.0        \n",
       " [55] ggridges_0.5.6           survival_3.7-0           tools_4.4.1             \n",
       " [58] ica_1.0-3                Rcpp_1.0.13              glue_1.7.0              \n",
       " [61] gridExtra_2.3            SparseArray_1.4.8        here_1.0.1              \n",
       " [64] IRdisplay_1.1            withr_3.0.1              BiocManager_1.30.24     \n",
       " [67] fastmap_1.2.0            ggpointdensity_0.1.0     fansi_1.0.6             \n",
       " [70] digest_0.6.37            timechange_0.3.0         R6_2.5.1                \n",
       " [73] mime_0.12                colorspace_2.1-1         scattermore_1.2         \n",
       " [76] tensor_1.5               dichromat_2.0-0.1        spatstat.data_3.1-2     \n",
       " [79] utf8_1.2.4               generics_0.1.3           renv_1.0.7              \n",
       " [82] data.table_1.16.0        graphlayouts_1.1.1       httr_1.4.7              \n",
       " [85] htmlwidgets_1.6.4        S4Arrays_1.4.1           uwot_0.2.2              \n",
       " [88] pkgconfig_2.0.3          gtable_0.3.5             lmtest_0.9-40           \n",
       " [91] XVector_0.44.0           htmltools_0.5.8.1        dotCall64_1.1-1         \n",
       " [94] scales_1.3.0             png_0.1-8                spatstat.univar_3.0-0   \n",
       " [97] tzdb_0.4.0               reshape2_1.4.4           uuid_1.2-1              \n",
       "[100] nlme_3.1-166             repr_1.1.7               cachem_1.1.0            \n",
       "[103] zoo_1.8-12               KernSmooth_2.23-24       parallel_4.4.1          \n",
       "[106] miniUI_0.1.1.1           pillar_1.9.0             grid_4.4.1              \n",
       "[109] vctrs_0.6.5              RANN_2.6.2               promises_1.3.2          \n",
       "[112] xtable_1.8-4             cluster_2.1.6            evaluate_0.24.0         \n",
       "[115] Rsamtools_2.20.0         cli_3.6.3                compiler_4.4.1          \n",
       "[118] rlang_1.1.4              crayon_1.5.3             future.apply_1.11.2     \n",
       "[121] plyr_1.8.9               stringi_1.8.4            BiocParallel_1.38.0     \n",
       "[124] viridisLite_0.4.2        deldir_2.0-4             Biostrings_2.72.1       \n",
       "[127] munsell_0.5.1            lazyeval_0.2.2           spatstat.geom_3.3-2     \n",
       "[130] Matrix_1.7-0             IRkernel_1.3.2           RcppHNSW_0.6.0          \n",
       "[133] hms_1.1.3                patchwork_1.2.0          sparseMatrixStats_1.16.0\n",
       "[136] future_1.34.0            shiny_1.9.1              ROCR_1.0-11             \n",
       "[139] igraph_2.0.3             memoise_2.0.1            fastmatch_1.1-4         "
      ]
     },
     "metadata": {},
     "output_type": "display_data"
    }
   ],
   "source": [
    "sessionInfo()"
   ]
  },
  {
   "cell_type": "code",
   "execution_count": null,
   "id": "4fb8e4d5-e70b-49f6-9f6d-99f26ec7e2e9",
   "metadata": {},
   "outputs": [],
   "source": []
  }
 ],
 "metadata": {
  "kernelspec": {
   "display_name": "R",
   "language": "R",
   "name": "ir"
  },
  "language_info": {
   "codemirror_mode": "r",
   "file_extension": ".r",
   "mimetype": "text/x-r-source",
   "name": "R",
   "pygments_lexer": "r",
   "version": "4.4.1"
  }
 },
 "nbformat": 4,
 "nbformat_minor": 5
}
