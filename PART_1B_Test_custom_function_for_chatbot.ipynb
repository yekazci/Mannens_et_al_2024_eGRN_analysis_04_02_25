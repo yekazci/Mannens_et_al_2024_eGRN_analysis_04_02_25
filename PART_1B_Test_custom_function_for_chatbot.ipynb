{
 "cells": [
  {
   "cell_type": "markdown",
   "id": "f7610829-bb2b-4abd-89a5-835371c05151",
   "metadata": {},
   "source": [
    "In this notebook, I will explore the chatbots using ellmer package.\\\n",
    "Moreover, I will test my custom R script to access GEMINI and\\\n",
    "OPENAI. I previously added my API keys for both models to my\\\n",
    "global .Renviron file in my home directory."
   ]
  },
  {
   "cell_type": "code",
   "execution_count": 1,
   "id": "7faf91a5-cb38-4f8f-b19c-53dbb08a6fcf",
   "metadata": {},
   "outputs": [
    {
     "data": {
      "text/html": [
       "'/fast/AG_Bunina/Yusuf/Project_Endothelial_and_Stroke/Datasets/Chromatin_and_Gene_Exp/2024_C_A_Mannens_C_et_al/04_02_25'"
      ],
      "text/latex": [
       "'/fast/AG\\_Bunina/Yusuf/Project\\_Endothelial\\_and\\_Stroke/Datasets/Chromatin\\_and\\_Gene\\_Exp/2024\\_C\\_A\\_Mannens\\_C\\_et\\_al/04\\_02\\_25'"
      ],
      "text/markdown": [
       "'/fast/AG_Bunina/Yusuf/Project_Endothelial_and_Stroke/Datasets/Chromatin_and_Gene_Exp/2024_C_A_Mannens_C_et_al/04_02_25'"
      ],
      "text/plain": [
       "[1] \"/fast/AG_Bunina/Yusuf/Project_Endothelial_and_Stroke/Datasets/Chromatin_and_Gene_Exp/2024_C_A_Mannens_C_et_al/04_02_25\""
      ]
     },
     "metadata": {},
     "output_type": "display_data"
    }
   ],
   "source": [
    "getwd()"
   ]
  },
  {
   "cell_type": "code",
   "execution_count": 2,
   "id": "e141f117-8b54-4b4f-a732-fd6561e985de",
   "metadata": {},
   "outputs": [
    {
     "data": {
      "text/html": [
       "<style>\n",
       ".list-inline {list-style: none; margin:0; padding: 0}\n",
       ".list-inline>li {display: inline-block}\n",
       ".list-inline>li:not(:last-child)::after {content: \"\\00b7\"; padding: 0 .5ex}\n",
       "</style>\n",
       "<ol class=list-inline><li>'/fast/home/y/ykazci/R/x86_64-unknown-linux-gnu-library/4.3'</li><li>'/gnu/store/rm46swxwc4dgpqxp8cmbhbln1glrzvff-profile/site-library'</li><li>'/gnu/store/4qhvxbif4dz0lpmyyj884c0f8rf5n4kv-r-minimal-4.4.1/lib/R/library'</li></ol>\n"
      ],
      "text/latex": [
       "\\begin{enumerate*}\n",
       "\\item '/fast/home/y/ykazci/R/x86\\_64-unknown-linux-gnu-library/4.3'\n",
       "\\item '/gnu/store/rm46swxwc4dgpqxp8cmbhbln1glrzvff-profile/site-library'\n",
       "\\item '/gnu/store/4qhvxbif4dz0lpmyyj884c0f8rf5n4kv-r-minimal-4.4.1/lib/R/library'\n",
       "\\end{enumerate*}\n"
      ],
      "text/markdown": [
       "1. '/fast/home/y/ykazci/R/x86_64-unknown-linux-gnu-library/4.3'\n",
       "2. '/gnu/store/rm46swxwc4dgpqxp8cmbhbln1glrzvff-profile/site-library'\n",
       "3. '/gnu/store/4qhvxbif4dz0lpmyyj884c0f8rf5n4kv-r-minimal-4.4.1/lib/R/library'\n",
       "\n",
       "\n"
      ],
      "text/plain": [
       "[1] \"/fast/home/y/ykazci/R/x86_64-unknown-linux-gnu-library/4.3\"               \n",
       "[2] \"/gnu/store/rm46swxwc4dgpqxp8cmbhbln1glrzvff-profile/site-library\"         \n",
       "[3] \"/gnu/store/4qhvxbif4dz0lpmyyj884c0f8rf5n4kv-r-minimal-4.4.1/lib/R/library\""
      ]
     },
     "metadata": {},
     "output_type": "display_data"
    }
   ],
   "source": [
    ".libPaths()"
   ]
  },
  {
   "cell_type": "code",
   "execution_count": 3,
   "id": "14be5cbf-8c63-482c-ab11-b78d0e2dca99",
   "metadata": {},
   "outputs": [
    {
     "name": "stdout",
     "output_type": "stream",
     "text": [
      "- The project is out-of-sync -- use `renv::status()` for details.\n"
     ]
    }
   ],
   "source": [
    "renv::load()"
   ]
  },
  {
   "cell_type": "code",
   "execution_count": 4,
   "id": "b8821635-8898-4e9d-a5ed-4ba0d8b22797",
   "metadata": {
    "scrolled": true,
    "tags": []
   },
   "outputs": [
    {
     "name": "stdout",
     "output_type": "stream",
     "text": [
      "The following package(s) are in an inconsistent state:\n",
      "\n",
      " package installed recorded used\n",
      " httr    y         n        y   \n",
      " mime    y         n        y   \n",
      "\n",
      "See ?renv::status() for advice on resolving these issues.\n"
     ]
    }
   ],
   "source": [
    "renv::status()"
   ]
  },
  {
   "cell_type": "code",
   "execution_count": 5,
   "id": "3388a753-9417-4938-9dd1-6b43fe24db72",
   "metadata": {},
   "outputs": [
    {
     "name": "stdout",
     "output_type": "stream",
     "text": [
      "The following package(s) will be updated in the lockfile:\n",
      "\n",
      "# CRAN -----------------------------------------------------------------------\n",
      "- httr   [* -> 1.4.7]\n",
      "- mime   [* -> 0.12]\n",
      "\n",
      "- Lockfile written to \"/fast/AG_Bunina/Yusuf/Project_Endothelial_and_Stroke/Datasets/Chromatin_and_Gene_Exp/2024_C_A_Mannens_C_et_al/04_02_25/renv.lock\".\n"
     ]
    }
   ],
   "source": [
    "renv::snapshot()"
   ]
  },
  {
   "cell_type": "code",
   "execution_count": 6,
   "id": "1a3ab093-8f89-4903-9c80-0ef51caf6dae",
   "metadata": {},
   "outputs": [
    {
     "name": "stdout",
     "output_type": "stream",
     "text": [
      "No issues found -- the project is in a consistent state.\n"
     ]
    }
   ],
   "source": [
    "renv::status()"
   ]
  },
  {
   "cell_type": "code",
   "execution_count": 7,
   "id": "9978621c-1fbd-4c5b-9f7b-1683d35212b1",
   "metadata": {},
   "outputs": [],
   "source": [
    "library(ellmer)"
   ]
  },
  {
   "cell_type": "code",
   "execution_count": 8,
   "id": "a815956d-9f38-4190-b078-bfdf55873031",
   "metadata": {},
   "outputs": [
    {
     "name": "stderr",
     "output_type": "stream",
     "text": [
      "\u001b[1m\u001b[22mUsing \u001b[32mmodel\u001b[39m = \u001b[34m\"gemini-1.5-flash\"\u001b[39m.\n"
     ]
    }
   ],
   "source": [
    "my_chatbot <- chat_gemini()"
   ]
  },
  {
   "cell_type": "code",
   "execution_count": 12,
   "id": "a0489c81-cc19-4ddf-85f3-82017b2bb261",
   "metadata": {
    "tags": []
   },
   "outputs": [
    {
     "name": "stdout",
     "output_type": "stream",
     "text": [
      "R is a programming language and software environment for statistical computing \n",
      "and graphics.  It's open-source, meaning it's free to use and distribute.  \n",
      "People use R for a wide range of tasks involving data, including:\n",
      "\n",
      "* **Data analysis:**  Cleaning, exploring, and summarizing data.\n",
      "* **Statistical modeling:**  Building and testing statistical models to \n",
      "understand relationships in data.\n",
      "* **Data visualization:**  Creating charts and graphs to communicate findings \n",
      "effectively.\n",
      "* **Machine learning:**  Developing algorithms that allow computers to learn \n",
      "from data.\n",
      "\n",
      "\n",
      "Essentially, if you work with data and need to do more than just simple \n",
      "spreadsheet calculations, R is a powerful tool to consider.  It's particularly \n",
      "popular in academic research, data science, and other fields where statistical \n",
      "analysis is crucial.\n",
      "\n"
     ]
    }
   ],
   "source": [
    "my_chatbot$chat(\"What is R\")"
   ]
  },
  {
   "cell_type": "code",
   "execution_count": 14,
   "id": "df809c95-9801-4ff9-8804-ee75d9f08722",
   "metadata": {},
   "outputs": [
    {
     "name": "stdout",
     "output_type": "stream",
     "text": [
      "Python is a high-level, general-purpose programming language known for its \n",
      "readability and ease of use.  It's designed to be relatively easy to learn, \n",
      "even for beginners, yet powerful enough for complex tasks.  Here's a breakdown \n",
      "of its key characteristics:\n",
      "\n",
      "* **Readability:**  Python emphasizes code readability with its clear syntax \n",
      "and consistent style.  This makes it easier to write, understand, and maintain \n",
      "code.\n",
      "\n",
      "* **Versatility:**  Python is not limited to a single domain. It's used in a \n",
      "wide variety of applications, including:\n",
      "\n",
      "    * **Web development:**  Building websites and web applications using \n",
      "frameworks like Django and Flask.\n",
      "    * **Data science and machine learning:**  Analyzing data, building \n",
      "predictive models, and performing statistical computations using libraries like\n",
      "NumPy, Pandas, and Scikit-learn.\n",
      "    * **Scripting and automation:**  Automating repetitive tasks, such as \n",
      "managing files or interacting with other software.\n",
      "    * **Desktop applications:**  Creating graphical user interfaces (GUIs) \n",
      "using libraries like Tkinter or PyQt.\n",
      "    * **Game development:**  Developing games using libraries like Pygame.\n",
      "    * **Embedded systems:**  Programming smaller devices like microcontrollers.\n",
      "\n",
      "* **Large and active community:**  A massive community of users and developers \n",
      "provides extensive support, resources, and libraries.\n",
      "\n",
      "* **Extensive libraries:**  Python boasts a vast collection of libraries \n",
      "(pre-written code modules) that extend its capabilities and simplify complex \n",
      "tasks.\n",
      "\n",
      "* **Interpreted language:**  Python code is executed line by line by an \n",
      "interpreter, making it easier to debug and test.  This contrasts with compiled \n",
      "languages where the entire code is translated into machine code before \n",
      "execution.\n",
      "\n",
      "* **Object-oriented programming (OOP):**  Python supports OOP principles, \n",
      "allowing for modular and reusable code.  However, it's also flexible enough to \n",
      "be used in a procedural style.\n",
      "\n",
      "In short, Python's combination of readability, versatility, extensive \n",
      "libraries, and a supportive community makes it a highly popular and widely used\n",
      "programming language for a broad range of applications.\n",
      "\n"
     ]
    }
   ],
   "source": [
    "my_chatbot$chat(\"What is Python\")"
   ]
  },
  {
   "cell_type": "code",
   "execution_count": 40,
   "id": "692de0f9-cfc7-4540-9628-f301a8036867",
   "metadata": {},
   "outputs": [
    {
     "name": "stdout",
     "output_type": "stream",
     "text": [
      "C++ is a powerful, general-purpose programming language that's an extension of \n",
      "the C programming language.  It's known for its performance, flexibility, and \n",
      "control over system hardware, making it a popular choice for system \n",
      "programming, game development, and high-performance computing.\n",
      "\n",
      "Here's a breakdown of its key features:\n",
      "\n",
      "* **Object-Oriented Programming (OOP):** C++ supports OOP principles like \n",
      "encapsulation, inheritance, and polymorphism, allowing for modular and reusable\n",
      "code.  However, it also allows procedural programming, giving developers \n",
      "flexibility in their approach.\n",
      "\n",
      "* **Compiled Language:** Unlike interpreted languages like Python, C++ code is \n",
      "compiled into machine code before execution, resulting in faster execution \n",
      "speeds.\n",
      "\n",
      "* **System Programming:** C++ provides low-level access to system hardware and \n",
      "memory management, making it suitable for developing operating systems, device \n",
      "drivers, and embedded systems.\n",
      "\n",
      "* **High Performance:** Its compiled nature and fine-grained control over \n",
      "hardware contribute to its high performance, which is crucial for applications \n",
      "like game development and high-frequency trading.\n",
      "\n",
      "* **Memory Management:** C++ gives programmers significant control over memory \n",
      "allocation and deallocation. This control can lead to performance gains but \n",
      "also requires careful management to avoid memory leaks and other errors.  \n",
      "(Smart pointers help mitigate some of these issues.)\n",
      "\n",
      "* **Standard Template Library (STL):** The STL provides a rich set of data \n",
      "structures and algorithms, simplifying common programming tasks.\n",
      "\n",
      "* **Extensive Libraries:**  A large collection of libraries supports various \n",
      "programming needs.\n",
      "\n",
      "\n",
      "C++ is used in a variety of applications including:\n",
      "\n",
      "* **Game Development:**  Many popular game engines (like Unreal Engine) are \n",
      "written in C++.\n",
      "* **Operating Systems:**  Parts of operating systems like Windows, macOS, and \n",
      "Linux are written in C++.\n",
      "* **High-Performance Computing:**  Used in scientific simulations, financial \n",
      "modeling, and other computationally intensive tasks.\n",
      "* **Embedded Systems:**  Programming embedded systems in devices like cars and \n",
      "appliances.\n",
      "* **Desktop Applications:** Creating high-performance desktop applications.\n",
      "\n",
      "\n",
      "While C++ is exceptionally powerful, it has a steeper learning curve than some \n",
      "other languages due to its complexity and the responsibility it places on the \n",
      "programmer for memory management.  However, mastering C++ grants access to a \n",
      "high level of control and performance.\n",
      "\n"
     ]
    }
   ],
   "source": [
    "my_chatbot$chat(\"What is C++\")"
   ]
  },
  {
   "cell_type": "code",
   "execution_count": 43,
   "id": "ed4ea5af-f05c-42bc-9ce9-40754c10e202",
   "metadata": {},
   "outputs": [],
   "source": [
    "my_chatbot <- chat_openai(model = 'gpt-4o-mini')"
   ]
  },
  {
   "cell_type": "code",
   "execution_count": 44,
   "id": "559f367e-e4a8-43c8-9b4b-5bbe454f1c04",
   "metadata": {},
   "outputs": [
    {
     "name": "stdout",
     "output_type": "stream",
     "text": [
      "C++ is a general-purpose programming language that was developed by Bjarne \n",
      "Stroustrup at Bell Labs starting in the late 1970s. It is an extension of the C\n",
      "programming language and includes features that support object-oriented \n",
      "programming, such as classes, inheritance, and polymorphism.\n",
      "\n",
      "### Key Characteristics of C++:\n",
      "\n",
      "1. **Object-Oriented**: C++ supports object-oriented programming (OOP) \n",
      "principles, which allow developers to create objects that encapsulate data and \n",
      "behavior.\n",
      "\n",
      "2. **Performance**: C++ is known for its performance and efficiency, which \n",
      "makes it suitable for system/software development, game development, and \n",
      "applications requiring real-time processing.\n",
      "\n",
      "3. **Rich Standard Library**: C++ provides a rich set of libraries, including \n",
      "the Standard Template Library (STL), which provides a collection of algorithms \n",
      "and data structures.\n",
      "\n",
      "4. **Low-Level Manipulation**: C++ allows for low-level manipulation of data, \n",
      "making it possible to interact with hardware and perform system-level \n",
      "programming.\n",
      "\n",
      "5. **Multi-Paradigm**: Beyond OOP, C++ supports procedural and functional \n",
      "programming styles, making it versatile for various programming approaches.\n",
      "\n",
      "6. **Compatibility**: C++ maintains compatibility with C, which means that most\n",
      "C programs can be compiled in a C++ environment without modification.\n",
      "\n",
      "7. **Memory Management**: C++ provides developers with direct control over \n",
      "memory management through pointers and dynamic memory allocation, allowing for \n",
      "optimization but also requiring careful management to avoid memory leaks.\n",
      "\n",
      "### Applications of C++:\n",
      "\n",
      "C++ is used in a variety of fields, including:\n",
      "- System Programming (operating systems, drivers)\n",
      "- Game Development (game engines, graphics)\n",
      "- Application Software (desktop applications)\n",
      "- Embedded Systems\n",
      "- High-Performance Applications (financial simulations, scientific \n",
      "computations)\n",
      "\n",
      "Overall, C++ is a powerful language that offers a combination of efficiency, \n",
      "performance, and flexibility, making it a popular choice among developers for \n",
      "complex software development tasks.\n"
     ]
    }
   ],
   "source": [
    "my_chatbot$chat(\"What is C++\")"
   ]
  },
  {
   "cell_type": "code",
   "execution_count": 45,
   "id": "8b064158-7b89-46b3-909f-d7bc5a6fb7e5",
   "metadata": {},
   "outputs": [
    {
     "name": "stdout",
     "output_type": "stream",
     "text": [
      "R is a programming language and software environment specifically designed for \n",
      "statistical computing, data analysis, and graphical representation of data. It \n",
      "was developed by Ross Ihaka and Robert Gentleman at the University of Auckland,\n",
      "New Zealand, and it is widely used among statisticians, data scientists, and \n",
      "researchers for data analysis tasks.\n",
      "\n",
      "### Key Characteristics of R:\n",
      "\n",
      "1. **Statistical Analysis**: R provides a wide array of statistical tests, \n",
      "models, and methods, making it particularly strong in statistical computing and\n",
      "data analysis.\n",
      "\n",
      "2. **Data Visualization**: R includes powerful tools for creating a variety of \n",
      "data visualizations, from simple charts to complex graphical representations. \n",
      "The `ggplot2` package, for instance, is widely praised for its flexibility and \n",
      "ease of use.\n",
      "\n",
      "3. **Extensibility**: R has a comprehensive ecosystem of packages that extend \n",
      "its capabilities. The Comprehensive R Archive Network (CRAN) hosts thousands of\n",
      "packages that add functionality for different statistical techniques, graphical\n",
      "methods, and specialized data analyses.\n",
      "\n",
      "4. **Open Source**: R is free and open-source software, which means that anyone\n",
      "can use, modify, and distribute it. This has led to a large and active \n",
      "community that contributes to the development and sharing of tools and \n",
      "packages.\n",
      "\n",
      "5. **Data Handling**: R contains various data structures (like vectors, lists, \n",
      "data frames, and matrices) designed for effective handling and manipulation of \n",
      "large datasets.\n",
      "\n",
      "6. **Reproducible Research**: R supports reproducible research through \n",
      "integration with tools like R Markdown, which allows users to create dynamic \n",
      "reports that combine code, output, and narrative text.\n",
      "\n",
      "7. **Cross-Platform**: R is available on various platforms, including Windows, \n",
      "macOS, and Linux, making it versatile for diverse computing environments.\n",
      "\n",
      "### Applications of R:\n",
      "\n",
      "R is employed in various fields, including:\n",
      "- **Statistics and Analytics**: Data analysis and statistical modeling, \n",
      "including hypothesis testing and regression.\n",
      "- **Bioinformatics**: Analyzing large datasets from genetic research, drug \n",
      "discovery, and clinical trials.\n",
      "- **Social Sciences**: Survey analysis and report generation.\n",
      "- **Finance**: Statistical modeling, risk assessment, and quantitative trading \n",
      "strategies.\n",
      "- **Machine Learning**: R supports a range of machine learning techniques and \n",
      "implementations.\n",
      "\n",
      "Overall, R is a powerful tool for anyone working with data who needs to perform\n",
      "statistical analyses, and it is particularly favored in academia and among \n",
      "researchers in various disciplines.\n"
     ]
    }
   ],
   "source": [
    "my_chatbot$chat(\"What is R\")"
   ]
  },
  {
   "cell_type": "code",
   "execution_count": 47,
   "id": "0a6fe737-dac1-490e-9318-130b9cb79e3a",
   "metadata": {},
   "outputs": [
    {
     "name": "stdout",
     "output_type": "stream",
     "text": [
      "R is a programming language and software environment primarily used for \n",
      "statistical computing, data analysis, and data visualization. It was developed \n",
      "by Ross Ihaka and Robert Gentleman at the University of Auckland, New Zealand, \n",
      "and it has become a popular choice among statisticians, data scientists, and \n",
      "researchers for its powerful statistical capabilities and extensive libraries.\n",
      "\n",
      "### Key Features of R:\n",
      "\n",
      "1. **Statistical Analysis**: R includes a wide array of statistical methods and\n",
      "tests, making it suitable for various types of analysis, from basic statistics \n",
      "to complex modeling.\n",
      "\n",
      "2. **Data Visualization**: R excels at creating visual representations of data.\n",
      "Packages like `ggplot2` provide advanced tools for generating informative and \n",
      "aesthetically pleasing graphics.\n",
      "\n",
      "3. **Extensive Package Ecosystem**: The Comprehensive R Archive Network (CRAN) \n",
      "hosts thousands of packages that extend R's functionality, enabling users to \n",
      "perform specialized analyses and tasks.\n",
      "\n",
      "4. **Data Manipulation**: R provides robust tools for data manipulation and \n",
      "cleaning, such as the `dplyr` and `tidyr` packages, which streamline processes \n",
      "for transforming and preparing data for analysis.\n",
      "\n",
      "5. **Open Source**: R is open-source software, allowing anyone to use, modify, \n",
      "and distribute it without costs. This promotes a strong community of users who \n",
      "contribute to its development and maintenance.\n",
      "\n",
      "6. **Cross-Platform Compatibility**: R can be run on various operating systems,\n",
      "including Windows, macOS, and Linux, making it accessible to a broad audience.\n",
      "\n",
      "7. **Reproducible Research**: R supports reproducible research practices \n",
      "through tools like R Markdown, which allows users to create dynamic documents \n",
      "that include code, output, and narrative text, making it easy to share results \n",
      "and findings.\n",
      "\n",
      "8. **Integration with Other Tools**: R can be integrated with other programming\n",
      "languages and tools (such as Python, SQL, and databases), facilitating a \n",
      "versatile data analysis workflow.\n",
      "\n",
      "### Applications of R:\n",
      "\n",
      "R is widely used in various fields, including:\n",
      "\n",
      "- **Statistical Research**: Conducting rigorous statistical analyses and \n",
      "developing new statistical methodologies.\n",
      "- **Data Science**: Analyzing and modeling large datasets to extract insights \n",
      "and inform decision-making.\n",
      "- **Bioinformatics**: Analyzing genomic and biological data for research and \n",
      "healthcare applications.\n",
      "- **Social Sciences**: Performing surveys, demographic studies, and \n",
      "psychometric analyses.\n",
      "- **Finance**: Risk assessment, quantitative trading, and financial modeling.\n",
      "\n",
      "Overall, R is a powerful tool for data analysis and visualization, well-suited \n",
      "for academic research, data science, and various professional applications \n",
      "requiring statistical computing.\n"
     ]
    }
   ],
   "source": [
    "my_chatbot$chat(\"What is R?\")"
   ]
  },
  {
   "cell_type": "code",
   "execution_count": 65,
   "id": "15fe02be-b19e-4e53-82cc-c920970d60a3",
   "metadata": {},
   "outputs": [],
   "source": [
    "source(file.path(\"r_scripts\",\"my_gemini_chatGPT_function.r\"))"
   ]
  },
  {
   "cell_type": "code",
   "execution_count": 66,
   "id": "6ad44318-59fe-432f-954a-05c5173881b6",
   "metadata": {},
   "outputs": [
    {
     "name": "stdout",
     "output_type": "stream",
     "text": [
      "Python is a high-level, general-purpose programming language.  This means it's designed to be relatively easy for humans to read and write, and it can be used for a wide variety of tasks, not just one specific type of application.\n",
      "\n",
      "Here's a breakdown of key characteristics:\n",
      "\n",
      "* **High-level:**  Python abstracts away many of the low-level details of computer hardware and memory management, making it easier to focus on the logic of your program.  You don't need to worry about things like memory allocation as much as you would in a lower-level language like C or Assembly.\n",
      "\n",
      "* **General-purpose:**  Python can be used for almost anything: web development, data science, machine learning, scripting, automation, game development, and more.  Its versatility is a major strength.\n",
      "\n",
      "* **Interpreted:**  Python code is executed line by line by an interpreter, rather than being compiled into machine code before execution. This makes development faster and easier, as you can test your code incrementally.  However, it can be slightly slower than compiled languages for computationally intensive tasks.\n",
      "\n",
      "* **Object-oriented:** Python supports object-oriented programming (OOP) principles, allowing you to structure your code using classes and objects.  This promotes code reusability and maintainability.\n",
      "\n",
      "* **Dynamically typed:** You don't need to explicitly declare the data type of a variable; Python infers it at runtime. This makes coding faster but can sometimes lead to runtime errors if you're not careful.\n",
      "\n",
      "* **Large and active community:** Python has a huge and supportive community, meaning there are plenty of resources, libraries, and frameworks available to help you learn and build applications.\n",
      "\n",
      "* **Extensive libraries:**  Python boasts a vast collection of libraries (pre-written code modules) that provide ready-made functionality for various tasks, saving you significant development time.  Examples include NumPy for numerical computation, Pandas for data manipulation, and Django and Flask for web development.\n",
      "\n",
      "\n",
      "In short, Python's combination of readability, versatility, and a rich ecosystem makes it a popular choice for both beginners and experienced programmers across many domains.\n"
     ]
    }
   ],
   "source": [
    "chat_gemini_yek(prompt = 'What is Python?') |> cat()"
   ]
  },
  {
   "cell_type": "code",
   "execution_count": 71,
   "id": "0ad42a1c-103a-48d5-9885-4573ddcc4d4a",
   "metadata": {},
   "outputs": [
    {
     "name": "stdout",
     "output_type": "stream",
     "text": [
      "Python is a high-level, interpreted programming language that is widely used for a variety of programming tasks. Developed by Guido van Rossum and first released in 1991, Python is known for its simplicity and readability, making it an excellent choice for both beginners and experienced developers.\n",
      "\n",
      "### Key Features of Python:\n",
      "\n",
      "1. **Readability and Simplicity**: Python's syntax is intuitive and resembles plain English, which allows developers to write code that is easy to read and maintain.\n",
      "\n",
      "2. **Interpreted Language**: Python code is executed line by line by an interpreter, which facilitates debugging and rapid development, as there is no need for compilation.\n",
      "\n",
      "3. **Dynamic Typing**: Python is dynamically typed, meaning that you do not need to declare the type of a variable when you create it. This makes it flexible but can lead to runtime errors if types are not handled correctly.\n",
      "\n",
      "4. **Extensive Standard Library**: Python comes with a rich standard library that includes modules and packages for handling various tasks, such as file input/output, data manipulation, web services, and more.\n",
      "\n",
      "5. **Cross-Platform**: Python is compatible with multiple operating systems, including Windows, macOS, and Linux, enabling developers to write code that runs on different platforms without modification.\n",
      "\n",
      "6. **Multi-Paradigm**: Python supports multiple programming paradigms, including procedural, object-oriented, and functional programming, allowing developers to choose the most effective approach for their projects.\n",
      "\n",
      "7. **Large Ecosystem**: Python has a vast ecosystem of third-party libraries and frameworks, such as:\n",
      "   - **Web Development**: Django, Flask\n",
      "   - **Data Science and Machine Learning**: NumPy, Pandas, SciPy, TensorFlow, scikit-learn\n",
      "   - **Game Development**: Pygame\n",
      "\n",
      "8. **Strong Community**: Python has a large and active community that contributes to an extensive amount of documentation, tutorials, and forums, providing support and resources for users of all levels.\n",
      "\n",
      "### Common Applications of Python:\n",
      "\n",
      "- **Web Development**: Building server-side applications and web frameworks.\n",
      "- **Data Analysis and Visualization**: Analyzing datasets and creating visual representations of data.\n",
      "- **Machine Learning and AI**: Developing models and algorithms for predictive analytics and automation.\n",
      "- **Scripting and Automation**: Writing scripts to automate routine tasks and manage system operations.\n",
      "- **Scientific Computing**: Performing complex mathematical and scientific calculations.\n",
      "\n",
      "Overall, Python’s versatility, ease of use, and robust community make it one of the most popular programming languages today, suitable for everything from simple automation scripts to complex web applications and data science projects."
     ]
    }
   ],
   "source": [
    "chat_GPT_yek(prompt = 'What is Python?') |> cat()"
   ]
  },
  {
   "cell_type": "code",
   "execution_count": 72,
   "id": "4df8a0a0-9285-45e2-9ff9-179e3d7b4eed",
   "metadata": {},
   "outputs": [
    {
     "data": {
      "text/plain": [
       "R version 4.4.1 (2024-06-14)\n",
       "Platform: x86_64-unknown-linux-gnu\n",
       "Running under: Red Hat Enterprise Linux 9.4 (Plow)\n",
       "\n",
       "Matrix products: default\n",
       "BLAS/LAPACK: /gnu/store/mvbj21lcf387dgs04d29n0sxrydq03a6-openblas-0.3.20/lib/libopenblasp-r0.3.20.so;  LAPACK version 3.9.0\n",
       "\n",
       "locale:\n",
       " [1] LC_CTYPE=en_GB.UTF-8       LC_NUMERIC=C              \n",
       " [3] LC_TIME=en_GB.UTF-8        LC_COLLATE=en_GB.UTF-8    \n",
       " [5] LC_MONETARY=en_GB.UTF-8    LC_MESSAGES=en_GB.UTF-8   \n",
       " [7] LC_PAPER=en_GB.UTF-8       LC_NAME=C                 \n",
       " [9] LC_ADDRESS=C               LC_TELEPHONE=C            \n",
       "[11] LC_MEASUREMENT=en_GB.UTF-8 LC_IDENTIFICATION=C       \n",
       "\n",
       "time zone: Europe/Berlin\n",
       "tzcode source: system (glibc)\n",
       "\n",
       "attached base packages:\n",
       "[1] stats     graphics  grDevices utils     datasets  methods   base     \n",
       "\n",
       "other attached packages:\n",
       "[1] jsonlite_1.8.8 httr_1.4.7     ellmer_0.1.0  \n",
       "\n",
       "loaded via a namespace (and not attached):\n",
       " [1] crayon_1.5.3        vctrs_0.6.5         cli_3.6.3          \n",
       " [4] rlang_1.1.4         renv_1.0.7          S7_0.2.0           \n",
       " [7] coro_1.1.0          glue_1.7.0          htmltools_0.5.8.1  \n",
       "[10] IRdisplay_1.1       IRkernel_1.3.2      fansi_1.0.6        \n",
       "[13] rappdirs_0.3.3      evaluate_0.24.0     fastmap_1.2.0      \n",
       "[16] base64enc_0.1-3     lifecycle_1.0.4     httr2_1.1.0        \n",
       "[19] BiocManager_1.30.24 compiler_4.4.1      pbdZMQ_0.3-11      \n",
       "[22] digest_0.6.37       R6_2.5.1            repr_1.1.7         \n",
       "[25] utf8_1.2.4          curl_6.2.0          pillar_1.9.0       \n",
       "[28] magrittr_2.0.3      uuid_1.2-1          tools_4.4.1        "
      ]
     },
     "metadata": {},
     "output_type": "display_data"
    }
   ],
   "source": [
    "sessionInfo()"
   ]
  }
 ],
 "metadata": {
  "kernelspec": {
   "display_name": "R",
   "language": "R",
   "name": "ir"
  },
  "language_info": {
   "codemirror_mode": "r",
   "file_extension": ".r",
   "mimetype": "text/x-r-source",
   "name": "R",
   "pygments_lexer": "r",
   "version": "4.4.1"
  }
 },
 "nbformat": 4,
 "nbformat_minor": 5
}
