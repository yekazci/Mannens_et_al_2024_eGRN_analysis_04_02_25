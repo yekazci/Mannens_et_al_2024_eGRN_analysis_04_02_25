{
 "cells": [
  {
   "cell_type": "markdown",
   "id": "03a7654f-f6f2-4942-b7f9-cfaea186af4d",
   "metadata": {},
   "source": [
    "In this notebook, I will preprocess the Mannens et al. dataset for the application\\\n",
    "of Epiregulon package to infer eGRNs using all of the genes."
   ]
  },
  {
   "cell_type": "code",
   "execution_count": 1,
   "id": "1528812d-e9ea-49fa-834f-8f3d6731822f",
   "metadata": {},
   "outputs": [
    {
     "data": {
      "text/html": [
       "'/fast/AG_Bunina/Yusuf/Project_Endothelial_and_Stroke/Datasets/Chromatin_and_Gene_Exp/2024_C_A_Mannens_C_et_al/04_02_25'"
      ],
      "text/latex": [
       "'/fast/AG\\_Bunina/Yusuf/Project\\_Endothelial\\_and\\_Stroke/Datasets/Chromatin\\_and\\_Gene\\_Exp/2024\\_C\\_A\\_Mannens\\_C\\_et\\_al/04\\_02\\_25'"
      ],
      "text/markdown": [
       "'/fast/AG_Bunina/Yusuf/Project_Endothelial_and_Stroke/Datasets/Chromatin_and_Gene_Exp/2024_C_A_Mannens_C_et_al/04_02_25'"
      ],
      "text/plain": [
       "[1] \"/fast/AG_Bunina/Yusuf/Project_Endothelial_and_Stroke/Datasets/Chromatin_and_Gene_Exp/2024_C_A_Mannens_C_et_al/04_02_25\""
      ]
     },
     "metadata": {},
     "output_type": "display_data"
    }
   ],
   "source": [
    "getwd()"
   ]
  },
  {
   "cell_type": "code",
   "execution_count": 2,
   "id": "ed1a52ba-7dad-4541-bd6e-d8ccee5397e1",
   "metadata": {},
   "outputs": [
    {
     "data": {
      "text/html": [
       "<style>\n",
       ".list-inline {list-style: none; margin:0; padding: 0}\n",
       ".list-inline>li {display: inline-block}\n",
       ".list-inline>li:not(:last-child)::after {content: \"\\00b7\"; padding: 0 .5ex}\n",
       "</style>\n",
       "<ol class=list-inline><li>'/fast/home/y/ykazci/R/x86_64-unknown-linux-gnu-library/4.3'</li><li>'/gnu/store/mj2kqa65bbqr3155zccvm01hq7wi7fng-profile/site-library'</li><li>'/gnu/store/29x2k7i71g9xq09xmbj1lk515cl7if63-r-minimal-4.4.2/lib/R/library'</li></ol>\n"
      ],
      "text/latex": [
       "\\begin{enumerate*}\n",
       "\\item '/fast/home/y/ykazci/R/x86\\_64-unknown-linux-gnu-library/4.3'\n",
       "\\item '/gnu/store/mj2kqa65bbqr3155zccvm01hq7wi7fng-profile/site-library'\n",
       "\\item '/gnu/store/29x2k7i71g9xq09xmbj1lk515cl7if63-r-minimal-4.4.2/lib/R/library'\n",
       "\\end{enumerate*}\n"
      ],
      "text/markdown": [
       "1. '/fast/home/y/ykazci/R/x86_64-unknown-linux-gnu-library/4.3'\n",
       "2. '/gnu/store/mj2kqa65bbqr3155zccvm01hq7wi7fng-profile/site-library'\n",
       "3. '/gnu/store/29x2k7i71g9xq09xmbj1lk515cl7if63-r-minimal-4.4.2/lib/R/library'\n",
       "\n",
       "\n"
      ],
      "text/plain": [
       "[1] \"/fast/home/y/ykazci/R/x86_64-unknown-linux-gnu-library/4.3\"               \n",
       "[2] \"/gnu/store/mj2kqa65bbqr3155zccvm01hq7wi7fng-profile/site-library\"         \n",
       "[3] \"/gnu/store/29x2k7i71g9xq09xmbj1lk515cl7if63-r-minimal-4.4.2/lib/R/library\""
      ]
     },
     "metadata": {},
     "output_type": "display_data"
    }
   ],
   "source": [
    ".libPaths()"
   ]
  },
  {
   "cell_type": "code",
   "execution_count": 4,
   "id": "30814a76-cc61-4afb-8c6b-9b82b0467fcf",
   "metadata": {},
   "outputs": [],
   "source": [
    "# load the R environment with the necessary packages:\n",
    "\n",
    "renv::load()"
   ]
  },
  {
   "cell_type": "code",
   "execution_count": 5,
   "id": "42fdf26a-03cb-459b-b6dc-4f06c2e20522",
   "metadata": {},
   "outputs": [
    {
     "name": "stdout",
     "output_type": "stream",
     "text": [
      "No issues found -- the project is in a consistent state.\n"
     ]
    }
   ],
   "source": [
    "renv::status()"
   ]
  },
  {
   "cell_type": "code",
   "execution_count": 6,
   "id": "a2adc43c-4639-4625-8df4-e368be27247f",
   "metadata": {},
   "outputs": [
    {
     "name": "stderr",
     "output_type": "stream",
     "text": [
      "Loading required package: SeuratObject\n",
      "\n",
      "Loading required package: sp\n",
      "\n",
      "‘SeuratObject’ was built under R 4.4.1 but the current version is\n",
      "4.4.2; it is recomended that you reinstall ‘SeuratObject’ as the ABI\n",
      "for R may have changed\n",
      "\n",
      "\n",
      "Attaching package: ‘SeuratObject’\n",
      "\n",
      "\n",
      "The following objects are masked from ‘package:base’:\n",
      "\n",
      "    intersect, t\n",
      "\n",
      "\n"
     ]
    }
   ],
   "source": [
    "library(Seurat)"
   ]
  },
  {
   "cell_type": "code",
   "execution_count": 7,
   "id": "21e66c95-089b-4d88-a695-a6285301c5a3",
   "metadata": {},
   "outputs": [],
   "source": [
    "library(Signac)"
   ]
  },
  {
   "cell_type": "code",
   "execution_count": 8,
   "id": "66f90e96-61de-45c3-9a97-c11ef24d16e3",
   "metadata": {},
   "outputs": [],
   "source": [
    "mannens_et_al_seurat <- readRDS(here::here('r_objects', 'mannens_et_al_seurat_obj.RDS'))"
   ]
  },
  {
   "cell_type": "code",
   "execution_count": 9,
   "id": "e56ff446-5685-4572-bced-d78f4abb01ed",
   "metadata": {},
   "outputs": [
    {
     "data": {
      "text/plain": [
       "An object of class Seurat \n",
       "430192 features across 49470 samples within 2 assays \n",
       "Active assay: RNA (25071 features, 5000 variable features)\n",
       " 3 layers present: counts, data, scale.data\n",
       " 1 other assay present: peaks"
      ]
     },
     "metadata": {},
     "output_type": "display_data"
    }
   ],
   "source": [
    "mannens_et_al_seurat"
   ]
  },
  {
   "cell_type": "code",
   "execution_count": 10,
   "id": "aefdd153-d30b-4d50-969b-9bbbe116544b",
   "metadata": {},
   "outputs": [],
   "source": [
    "GeneExpressionMatrix <- as.SingleCellExperiment(mannens_et_al_seurat, assay=\"RNA\")"
   ]
  },
  {
   "cell_type": "code",
   "execution_count": 11,
   "id": "a988343a-8021-43bc-bd36-626acf2a9a2d",
   "metadata": {},
   "outputs": [
    {
     "data": {
      "text/plain": [
       "class: SingleCellExperiment \n",
       "dim: 25071 49470 \n",
       "metadata(0):\n",
       "assays(3): counts logcounts scaledata\n",
       "rownames(25071): MALAT1 AUTS2 ... APOL5 SLURP1\n",
       "rowData names(0):\n",
       "colnames(49470): 10X280_1:CAGATTCAGCAGCTCA 10X365_2:ACCAATATCAATGACC\n",
       "  ... 10X346_4:CGCTGTGCACGTAATT 10X406_4:GAGAAACGTGGTGAGA\n",
       "colData names(89): orig.ident nCount_RNA ... main_cell_types ident\n",
       "reducedDimNames(0):\n",
       "mainExpName: RNA\n",
       "altExpNames(0):"
      ]
     },
     "metadata": {},
     "output_type": "display_data"
    }
   ],
   "source": [
    "GeneExpressionMatrix"
   ]
  },
  {
   "cell_type": "code",
   "execution_count": 12,
   "id": "a049ced9-4456-433d-bc8f-ee65b8833a4d",
   "metadata": {
    "scrolled": true
   },
   "outputs": [
    {
     "name": "stderr",
     "output_type": "stream",
     "text": [
      "Loading required package: SummarizedExperiment\n",
      "\n",
      "Loading required package: MatrixGenerics\n",
      "\n",
      "Loading required package: matrixStats\n",
      "\n",
      "\n",
      "Attaching package: ‘MatrixGenerics’\n",
      "\n",
      "\n",
      "The following objects are masked from ‘package:matrixStats’:\n",
      "\n",
      "    colAlls, colAnyNAs, colAnys, colAvgsPerRowSet, colCollapse,\n",
      "    colCounts, colCummaxs, colCummins, colCumprods, colCumsums,\n",
      "    colDiffs, colIQRDiffs, colIQRs, colLogSumExps, colMadDiffs,\n",
      "    colMads, colMaxs, colMeans2, colMedians, colMins, colOrderStats,\n",
      "    colProds, colQuantiles, colRanges, colRanks, colSdDiffs, colSds,\n",
      "    colSums2, colTabulates, colVarDiffs, colVars, colWeightedMads,\n",
      "    colWeightedMeans, colWeightedMedians, colWeightedSds,\n",
      "    colWeightedVars, rowAlls, rowAnyNAs, rowAnys, rowAvgsPerColSet,\n",
      "    rowCollapse, rowCounts, rowCummaxs, rowCummins, rowCumprods,\n",
      "    rowCumsums, rowDiffs, rowIQRDiffs, rowIQRs, rowLogSumExps,\n",
      "    rowMadDiffs, rowMads, rowMaxs, rowMeans2, rowMedians, rowMins,\n",
      "    rowOrderStats, rowProds, rowQuantiles, rowRanges, rowRanks,\n",
      "    rowSdDiffs, rowSds, rowSums2, rowTabulates, rowVarDiffs, rowVars,\n",
      "    rowWeightedMads, rowWeightedMeans, rowWeightedMedians,\n",
      "    rowWeightedSds, rowWeightedVars\n",
      "\n",
      "\n",
      "Loading required package: GenomicRanges\n",
      "\n",
      "Loading required package: stats4\n",
      "\n",
      "Loading required package: BiocGenerics\n",
      "\n",
      "\n",
      "Attaching package: ‘BiocGenerics’\n",
      "\n",
      "\n",
      "The following object is masked from ‘package:SeuratObject’:\n",
      "\n",
      "    intersect\n",
      "\n",
      "\n",
      "The following objects are masked from ‘package:stats’:\n",
      "\n",
      "    IQR, mad, sd, var, xtabs\n",
      "\n",
      "\n",
      "The following objects are masked from ‘package:base’:\n",
      "\n",
      "    Filter, Find, Map, Position, Reduce, anyDuplicated, aperm, append,\n",
      "    as.data.frame, basename, cbind, colnames, dirname, do.call,\n",
      "    duplicated, eval, evalq, get, grep, grepl, intersect, is.unsorted,\n",
      "    lapply, mapply, match, mget, order, paste, pmax, pmax.int, pmin,\n",
      "    pmin.int, rank, rbind, rownames, sapply, setdiff, table, tapply,\n",
      "    union, unique, unsplit, which.max, which.min\n",
      "\n",
      "\n",
      "Loading required package: S4Vectors\n",
      "\n",
      "\n",
      "Attaching package: ‘S4Vectors’\n",
      "\n",
      "\n",
      "The following object is masked from ‘package:utils’:\n",
      "\n",
      "    findMatches\n",
      "\n",
      "\n",
      "The following objects are masked from ‘package:base’:\n",
      "\n",
      "    I, expand.grid, unname\n",
      "\n",
      "\n",
      "Loading required package: IRanges\n",
      "\n",
      "\n",
      "Attaching package: ‘IRanges’\n",
      "\n",
      "\n",
      "The following object is masked from ‘package:sp’:\n",
      "\n",
      "    %over%\n",
      "\n",
      "\n",
      "Loading required package: GenomeInfoDb\n",
      "\n",
      "Loading required package: Biobase\n",
      "\n",
      "Welcome to Bioconductor\n",
      "\n",
      "    Vignettes contain introductory material; view with\n",
      "    'browseVignettes()'. To cite Bioconductor, see\n",
      "    'citation(\"Biobase\")', and for packages 'citation(\"pkgname\")'.\n",
      "\n",
      "\n",
      "\n",
      "Attaching package: ‘Biobase’\n",
      "\n",
      "\n",
      "The following object is masked from ‘package:MatrixGenerics’:\n",
      "\n",
      "    rowMedians\n",
      "\n",
      "\n",
      "The following objects are masked from ‘package:matrixStats’:\n",
      "\n",
      "    anyMissing, rowMedians\n",
      "\n",
      "\n",
      "\n",
      "Attaching package: ‘SummarizedExperiment’\n",
      "\n",
      "\n",
      "The following object is masked from ‘package:Seurat’:\n",
      "\n",
      "    Assays\n",
      "\n",
      "\n",
      "The following object is masked from ‘package:SeuratObject’:\n",
      "\n",
      "    Assays\n",
      "\n",
      "\n"
     ]
    }
   ],
   "source": [
    "library(SingleCellExperiment)"
   ]
  },
  {
   "cell_type": "code",
   "execution_count": 13,
   "id": "c289fd34-6fd0-41c8-a926-d6ec636fd45d",
   "metadata": {},
   "outputs": [
    {
     "data": {
      "text/plain": [
       "GRangesList object of length 25071:\n",
       "$MALAT1\n",
       "GRanges object with 0 ranges and 0 metadata columns:\n",
       "   seqnames    ranges strand\n",
       "      <Rle> <IRanges>  <Rle>\n",
       "  -------\n",
       "  seqinfo: no sequences\n",
       "\n",
       "$AUTS2\n",
       "GRanges object with 0 ranges and 0 metadata columns:\n",
       "   seqnames    ranges strand\n",
       "      <Rle> <IRanges>  <Rle>\n",
       "  -------\n",
       "  seqinfo: no sequences\n",
       "\n",
       "$NRXN1\n",
       "GRanges object with 0 ranges and 0 metadata columns:\n",
       "   seqnames    ranges strand\n",
       "      <Rle> <IRanges>  <Rle>\n",
       "  -------\n",
       "  seqinfo: no sequences\n",
       "\n",
       "...\n",
       "<25068 more elements>"
      ]
     },
     "metadata": {},
     "output_type": "display_data"
    }
   ],
   "source": [
    "GeneExpressionMatrix |> rowRanges()"
   ]
  },
  {
   "cell_type": "code",
   "execution_count": 14,
   "id": "8f486208-b767-4d1e-90f0-e061d60f8dce",
   "metadata": {},
   "outputs": [
    {
     "name": "stderr",
     "output_type": "stream",
     "text": [
      "Loading required package: BiocFileCache\n",
      "\n",
      "Loading required package: dbplyr\n",
      "\n",
      "\n",
      "Attaching package: ‘AnnotationHub’\n",
      "\n",
      "\n",
      "The following object is masked from ‘package:Biobase’:\n",
      "\n",
      "    cache\n",
      "\n",
      "\n"
     ]
    }
   ],
   "source": [
    "# I need to retrieve genome region info of genes:\n",
    "\n",
    "library(AnnotationHub)"
   ]
  },
  {
   "cell_type": "code",
   "execution_count": 15,
   "id": "61dbd59f-8695-4045-bab3-62656241e1f4",
   "metadata": {},
   "outputs": [],
   "source": [
    "ah <- AnnotationHub()"
   ]
  },
  {
   "cell_type": "code",
   "execution_count": 16,
   "id": "7bafb003-cb4b-44b0-9358-4f60489be5e3",
   "metadata": {},
   "outputs": [
    {
     "name": "stderr",
     "output_type": "stream",
     "text": [
      "downloading 1 resources\n",
      "\n",
      "retrieving 1 resource\n",
      "\n",
      "loading from cache\n",
      "\n",
      "require(“ensembldb”)\n",
      "\n"
     ]
    }
   ],
   "source": [
    "edb <- ah[[\"AH98047\"]]  #\"EnsDb.Hsapiens.v105\""
   ]
  },
  {
   "cell_type": "code",
   "execution_count": 17,
   "id": "986a854c-b082-4376-ad76-44f37a60537c",
   "metadata": {},
   "outputs": [],
   "source": [
    "gr <- genes(edb, columns = c(\"gene_id\", \"gene_name\"))"
   ]
  },
  {
   "cell_type": "code",
   "execution_count": 18,
   "id": "c9be4ab8-65e5-49cf-9551-636350127078",
   "metadata": {},
   "outputs": [],
   "source": [
    "common_genes <- na.omit(intersect(gr$gene_name, rownames(GeneExpressionMatrix)))"
   ]
  },
  {
   "cell_type": "code",
   "execution_count": 19,
   "id": "d12ad2a0-ad66-4351-9f0a-0fd5422d1cc7",
   "metadata": {},
   "outputs": [],
   "source": [
    "GeneExpressionMatrix <- GeneExpressionMatrix[common_genes,]"
   ]
  },
  {
   "cell_type": "code",
   "execution_count": 20,
   "id": "66a68347-a07f-46c8-847c-6dbdfcf56a6b",
   "metadata": {},
   "outputs": [],
   "source": [
    "rowRanges(GeneExpressionMatrix) <- gr[match(common_genes, gr$gene_name)]"
   ]
  },
  {
   "cell_type": "code",
   "execution_count": 21,
   "id": "73921a1c-1b2a-47a3-8863-9db7f39fe136",
   "metadata": {},
   "outputs": [
    {
     "data": {
      "text/plain": [
       "GRanges object with 20667 ranges and 2 metadata columns:\n",
       "                  seqnames            ranges strand |         gene_id\n",
       "                     <Rle>         <IRanges>  <Rle> |     <character>\n",
       "  ENSG00000279457        1     185217-195411      - | ENSG00000279457\n",
       "  ENSG00000237491        1     778747-810065      + | ENSG00000237491\n",
       "  ENSG00000177757        1     817371-819837      + | ENSG00000177757\n",
       "  ENSG00000230368        1     868071-876903      - | ENSG00000230368\n",
       "  ENSG00000223764        1     916865-921016      - | ENSG00000223764\n",
       "              ...      ...               ...    ... .             ...\n",
       "  ENSG00000198692        Y 20575776-20593154      + | ENSG00000198692\n",
       "  ENSG00000280969        Y 20756108-20781032      + | ENSG00000280969\n",
       "  ENSG00000169789        Y 22490397-22514637      + | ENSG00000169789\n",
       "  ENSG00000188120        Y 23129355-23199010      - | ENSG00000188120\n",
       "  ENSG00000205944        Y 23219447-23291356      + | ENSG00000205944\n",
       "                    gene_name\n",
       "                  <character>\n",
       "  ENSG00000279457      WASH9P\n",
       "  ENSG00000237491   LINC01409\n",
       "  ENSG00000177757      FAM87B\n",
       "  ENSG00000230368      FAM41C\n",
       "  ENSG00000223764   LINC02593\n",
       "              ...         ...\n",
       "  ENSG00000198692      EIF1AY\n",
       "  ENSG00000280969      RPS4Y2\n",
       "  ENSG00000169789         PRY\n",
       "  ENSG00000188120        DAZ1\n",
       "  ENSG00000205944        DAZ2\n",
       "  -------\n",
       "  seqinfo: 456 sequences (1 circular) from GRCh38 genome"
      ]
     },
     "metadata": {},
     "output_type": "display_data"
    }
   ],
   "source": [
    "rowRanges(GeneExpressionMatrix)"
   ]
  },
  {
   "cell_type": "code",
   "execution_count": 22,
   "id": "fb3cc327-2eb2-4236-b426-6c97ad241ac8",
   "metadata": {},
   "outputs": [
    {
     "data": {
      "text/plain": [
       "class: SingleCellExperiment \n",
       "dim: 20667 49470 \n",
       "metadata(0):\n",
       "assays(3): counts logcounts scaledata\n",
       "rownames(20667): ENSG00000279457 ENSG00000237491 ... ENSG00000188120\n",
       "  ENSG00000205944\n",
       "rowData names(2): gene_id gene_name\n",
       "colnames(49470): 10X280_1:CAGATTCAGCAGCTCA 10X365_2:ACCAATATCAATGACC\n",
       "  ... 10X346_4:CGCTGTGCACGTAATT 10X406_4:GAGAAACGTGGTGAGA\n",
       "colData names(89): orig.ident nCount_RNA ... main_cell_types ident\n",
       "reducedDimNames(0):\n",
       "mainExpName: RNA\n",
       "altExpNames(0):"
      ]
     },
     "metadata": {},
     "output_type": "display_data"
    }
   ],
   "source": [
    "GeneExpressionMatrix"
   ]
  },
  {
   "cell_type": "code",
   "execution_count": 23,
   "id": "7b6c504f-67a2-4b8b-b8bf-e1a2a0b7305e",
   "metadata": {},
   "outputs": [],
   "source": [
    "# We then convert ATAC matrix to PeakMatrix. After conversion to SingleCellExperiment, \n",
    "# the peak positions appear as rownames and must be converted to GRanges."
   ]
  },
  {
   "cell_type": "code",
   "execution_count": 24,
   "id": "743c3328-c498-4f28-851f-e2693f139f67",
   "metadata": {},
   "outputs": [
    {
     "data": {
      "text/plain": [
       "An object of class Seurat \n",
       "430192 features across 49470 samples within 2 assays \n",
       "Active assay: RNA (25071 features, 5000 variable features)\n",
       " 3 layers present: counts, data, scale.data\n",
       " 1 other assay present: peaks"
      ]
     },
     "metadata": {},
     "output_type": "display_data"
    }
   ],
   "source": [
    "mannens_et_al_seurat"
   ]
  },
  {
   "cell_type": "code",
   "execution_count": 25,
   "id": "5f4b1271-0004-4037-9245-e24325432c5e",
   "metadata": {},
   "outputs": [],
   "source": [
    "PeakMatrix <- as.SingleCellExperiment(mannens_et_al_seurat, assay=\"peaks\")"
   ]
  },
  {
   "cell_type": "code",
   "execution_count": 26,
   "id": "e6d64561-a098-411b-b536-351862cc61b1",
   "metadata": {},
   "outputs": [
    {
     "data": {
      "text/plain": [
       "class: SingleCellExperiment \n",
       "dim: 405121 49470 \n",
       "metadata(0):\n",
       "assays(2): counts logcounts\n",
       "rownames(405121): chr10-100006329-100006730 chr10-100009751-100010152\n",
       "  ... chrY-7725786-7726187 chrY-7729552-7729953\n",
       "rowData names(0):\n",
       "colnames(49470): 10X280_1:CAGATTCAGCAGCTCA 10X365_2:ACCAATATCAATGACC\n",
       "  ... 10X346_4:CGCTGTGCACGTAATT 10X406_4:GAGAAACGTGGTGAGA\n",
       "colData names(89): orig.ident nCount_RNA ... main_cell_types ident\n",
       "reducedDimNames(0):\n",
       "mainExpName: peaks\n",
       "altExpNames(0):"
      ]
     },
     "metadata": {},
     "output_type": "display_data"
    }
   ],
   "source": [
    "PeakMatrix"
   ]
  },
  {
   "cell_type": "code",
   "execution_count": 27,
   "id": "3d28a2c7-5f24-4437-9ac5-218cf066d21f",
   "metadata": {},
   "outputs": [
    {
     "data": {
      "text/plain": [
       "GRangesList object of length 405121:\n",
       "$`chr10-100006329-100006730`\n",
       "GRanges object with 0 ranges and 0 metadata columns:\n",
       "   seqnames    ranges strand\n",
       "      <Rle> <IRanges>  <Rle>\n",
       "  -------\n",
       "  seqinfo: no sequences\n",
       "\n",
       "$`chr10-100009751-100010152`\n",
       "GRanges object with 0 ranges and 0 metadata columns:\n",
       "   seqnames    ranges strand\n",
       "      <Rle> <IRanges>  <Rle>\n",
       "  -------\n",
       "  seqinfo: no sequences\n",
       "\n",
       "$`chr10-100016741-100017142`\n",
       "GRanges object with 0 ranges and 0 metadata columns:\n",
       "   seqnames    ranges strand\n",
       "      <Rle> <IRanges>  <Rle>\n",
       "  -------\n",
       "  seqinfo: no sequences\n",
       "\n",
       "...\n",
       "<405118 more elements>"
      ]
     },
     "metadata": {},
     "output_type": "display_data"
    }
   ],
   "source": [
    "PeakMatrix |> rowRanges()"
   ]
  },
  {
   "cell_type": "code",
   "execution_count": 28,
   "id": "c5180c92-ccfb-4ec6-aab0-c2a6bc2f0e6f",
   "metadata": {},
   "outputs": [],
   "source": [
    "peak_position <- strsplit(rownames(PeakMatrix), split = \"-\")"
   ]
  },
  {
   "cell_type": "code",
   "execution_count": 29,
   "id": "a0fbb41c-0b46-4339-aea7-23c3975e7371",
   "metadata": {},
   "outputs": [
    {
     "data": {
      "text/html": [
       "<ol>\n",
       "\t<li><style>\n",
       ".list-inline {list-style: none; margin:0; padding: 0}\n",
       ".list-inline>li {display: inline-block}\n",
       ".list-inline>li:not(:last-child)::after {content: \"\\00b7\"; padding: 0 .5ex}\n",
       "</style>\n",
       "<ol class=list-inline><li>'chr10'</li><li>'100006329'</li><li>'100006730'</li></ol>\n",
       "</li>\n",
       "\t<li><style>\n",
       ".list-inline {list-style: none; margin:0; padding: 0}\n",
       ".list-inline>li {display: inline-block}\n",
       ".list-inline>li:not(:last-child)::after {content: \"\\00b7\"; padding: 0 .5ex}\n",
       "</style>\n",
       "<ol class=list-inline><li>'chr10'</li><li>'100009751'</li><li>'100010152'</li></ol>\n",
       "</li>\n",
       "\t<li><style>\n",
       ".list-inline {list-style: none; margin:0; padding: 0}\n",
       ".list-inline>li {display: inline-block}\n",
       ".list-inline>li:not(:last-child)::after {content: \"\\00b7\"; padding: 0 .5ex}\n",
       "</style>\n",
       "<ol class=list-inline><li>'chr10'</li><li>'100016741'</li><li>'100017142'</li></ol>\n",
       "</li>\n",
       "\t<li><style>\n",
       ".list-inline {list-style: none; margin:0; padding: 0}\n",
       ".list-inline>li {display: inline-block}\n",
       ".list-inline>li:not(:last-child)::after {content: \"\\00b7\"; padding: 0 .5ex}\n",
       "</style>\n",
       "<ol class=list-inline><li>'chr10'</li><li>'100019766'</li><li>'100020167'</li></ol>\n",
       "</li>\n",
       "\t<li><style>\n",
       ".list-inline {list-style: none; margin:0; padding: 0}\n",
       ".list-inline>li {display: inline-block}\n",
       ".list-inline>li:not(:last-child)::after {content: \"\\00b7\"; padding: 0 .5ex}\n",
       "</style>\n",
       "<ol class=list-inline><li>'chr10'</li><li>'100020276'</li><li>'100020677'</li></ol>\n",
       "</li>\n",
       "\t<li><style>\n",
       ".list-inline {list-style: none; margin:0; padding: 0}\n",
       ".list-inline>li {display: inline-block}\n",
       ".list-inline>li:not(:last-child)::after {content: \"\\00b7\"; padding: 0 .5ex}\n",
       "</style>\n",
       "<ol class=list-inline><li>'chr10'</li><li>'100020877'</li><li>'100021278'</li></ol>\n",
       "</li>\n",
       "</ol>\n"
      ],
      "text/latex": [
       "\\begin{enumerate}\n",
       "\\item \\begin{enumerate*}\n",
       "\\item 'chr10'\n",
       "\\item '100006329'\n",
       "\\item '100006730'\n",
       "\\end{enumerate*}\n",
       "\n",
       "\\item \\begin{enumerate*}\n",
       "\\item 'chr10'\n",
       "\\item '100009751'\n",
       "\\item '100010152'\n",
       "\\end{enumerate*}\n",
       "\n",
       "\\item \\begin{enumerate*}\n",
       "\\item 'chr10'\n",
       "\\item '100016741'\n",
       "\\item '100017142'\n",
       "\\end{enumerate*}\n",
       "\n",
       "\\item \\begin{enumerate*}\n",
       "\\item 'chr10'\n",
       "\\item '100019766'\n",
       "\\item '100020167'\n",
       "\\end{enumerate*}\n",
       "\n",
       "\\item \\begin{enumerate*}\n",
       "\\item 'chr10'\n",
       "\\item '100020276'\n",
       "\\item '100020677'\n",
       "\\end{enumerate*}\n",
       "\n",
       "\\item \\begin{enumerate*}\n",
       "\\item 'chr10'\n",
       "\\item '100020877'\n",
       "\\item '100021278'\n",
       "\\end{enumerate*}\n",
       "\n",
       "\\end{enumerate}\n"
      ],
      "text/markdown": [
       "1. 1. 'chr10'\n",
       "2. '100006329'\n",
       "3. '100006730'\n",
       "\n",
       "\n",
       "\n",
       "2. 1. 'chr10'\n",
       "2. '100009751'\n",
       "3. '100010152'\n",
       "\n",
       "\n",
       "\n",
       "3. 1. 'chr10'\n",
       "2. '100016741'\n",
       "3. '100017142'\n",
       "\n",
       "\n",
       "\n",
       "4. 1. 'chr10'\n",
       "2. '100019766'\n",
       "3. '100020167'\n",
       "\n",
       "\n",
       "\n",
       "5. 1. 'chr10'\n",
       "2. '100020276'\n",
       "3. '100020677'\n",
       "\n",
       "\n",
       "\n",
       "6. 1. 'chr10'\n",
       "2. '100020877'\n",
       "3. '100021278'\n",
       "\n",
       "\n",
       "\n",
       "\n",
       "\n"
      ],
      "text/plain": [
       "[[1]]\n",
       "[1] \"chr10\"     \"100006329\" \"100006730\"\n",
       "\n",
       "[[2]]\n",
       "[1] \"chr10\"     \"100009751\" \"100010152\"\n",
       "\n",
       "[[3]]\n",
       "[1] \"chr10\"     \"100016741\" \"100017142\"\n",
       "\n",
       "[[4]]\n",
       "[1] \"chr10\"     \"100019766\" \"100020167\"\n",
       "\n",
       "[[5]]\n",
       "[1] \"chr10\"     \"100020276\" \"100020677\"\n",
       "\n",
       "[[6]]\n",
       "[1] \"chr10\"     \"100020877\" \"100021278\"\n"
      ]
     },
     "metadata": {},
     "output_type": "display_data"
    }
   ],
   "source": [
    "peak_position |> head()"
   ]
  },
  {
   "cell_type": "code",
   "execution_count": 35,
   "id": "bd1039b3-3d54-4b05-874c-5b9c5a89a6ae",
   "metadata": {},
   "outputs": [
    {
     "data": {
      "text/html": [
       "<style>\n",
       ".list-inline {list-style: none; margin:0; padding: 0}\n",
       ".list-inline>li {display: inline-block}\n",
       ".list-inline>li:not(:last-child)::after {content: \"\\00b7\"; padding: 0 .5ex}\n",
       "</style>\n",
       "<ol class=list-inline><li>'chr10'</li><li>'chr10'</li><li>'chr10'</li><li>'chr10'</li><li>'chr10'</li><li>'chr10'</li></ol>\n"
      ],
      "text/latex": [
       "\\begin{enumerate*}\n",
       "\\item 'chr10'\n",
       "\\item 'chr10'\n",
       "\\item 'chr10'\n",
       "\\item 'chr10'\n",
       "\\item 'chr10'\n",
       "\\item 'chr10'\n",
       "\\end{enumerate*}\n"
      ],
      "text/markdown": [
       "1. 'chr10'\n",
       "2. 'chr10'\n",
       "3. 'chr10'\n",
       "4. 'chr10'\n",
       "5. 'chr10'\n",
       "6. 'chr10'\n",
       "\n",
       "\n"
      ],
      "text/plain": [
       "[1] \"chr10\" \"chr10\" \"chr10\" \"chr10\" \"chr10\" \"chr10\""
      ]
     },
     "metadata": {},
     "output_type": "display_data"
    }
   ],
   "source": [
    "sapply(peak_position,\"[\",1) |> head()"
   ]
  },
  {
   "cell_type": "code",
   "execution_count": 36,
   "id": "cd4e21e9-89cc-4511-99ec-d05a330e1574",
   "metadata": {},
   "outputs": [
    {
     "data": {
      "text/html": [
       "<style>\n",
       ".list-inline {list-style: none; margin:0; padding: 0}\n",
       ".list-inline>li {display: inline-block}\n",
       ".list-inline>li:not(:last-child)::after {content: \"\\00b7\"; padding: 0 .5ex}\n",
       "</style>\n",
       "<ol class=list-inline><li>'100006329'</li><li>'100009751'</li><li>'100016741'</li><li>'100019766'</li><li>'100020276'</li><li>'100020877'</li></ol>\n"
      ],
      "text/latex": [
       "\\begin{enumerate*}\n",
       "\\item '100006329'\n",
       "\\item '100009751'\n",
       "\\item '100016741'\n",
       "\\item '100019766'\n",
       "\\item '100020276'\n",
       "\\item '100020877'\n",
       "\\end{enumerate*}\n"
      ],
      "text/markdown": [
       "1. '100006329'\n",
       "2. '100009751'\n",
       "3. '100016741'\n",
       "4. '100019766'\n",
       "5. '100020276'\n",
       "6. '100020877'\n",
       "\n",
       "\n"
      ],
      "text/plain": [
       "[1] \"100006329\" \"100009751\" \"100016741\" \"100019766\" \"100020276\" \"100020877\""
      ]
     },
     "metadata": {},
     "output_type": "display_data"
    }
   ],
   "source": [
    "sapply(peak_position,\"[\",2) |> head()"
   ]
  },
  {
   "cell_type": "code",
   "execution_count": 37,
   "id": "2b54a13f-90de-4f11-9d24-9ca0c261af7a",
   "metadata": {},
   "outputs": [],
   "source": [
    "gr <- GRanges(\n",
    "    seqnames = sapply(peak_position,\"[\",1),\n",
    "    ranges = IRanges(start = as.numeric(sapply(peak_position,\"[\",2)), \n",
    "                     end = as.numeric(sapply(peak_position,\"[\",3)))\n",
    ")"
   ]
  },
  {
   "cell_type": "code",
   "execution_count": 38,
   "id": "8cba67a8-56b9-480b-b87a-85cd69dae779",
   "metadata": {},
   "outputs": [],
   "source": [
    "rowRanges(PeakMatrix) <- gr"
   ]
  },
  {
   "cell_type": "code",
   "execution_count": 39,
   "id": "ab24b6a4-cc06-4776-96c5-8ccc9b0b6112",
   "metadata": {},
   "outputs": [
    {
     "data": {
      "text/plain": [
       "class: SingleCellExperiment \n",
       "dim: 405121 49470 \n",
       "metadata(0):\n",
       "assays(2): counts logcounts\n",
       "rownames: NULL\n",
       "rowData names(0):\n",
       "colnames(49470): 10X280_1:CAGATTCAGCAGCTCA 10X365_2:ACCAATATCAATGACC\n",
       "  ... 10X346_4:CGCTGTGCACGTAATT 10X406_4:GAGAAACGTGGTGAGA\n",
       "colData names(89): orig.ident nCount_RNA ... main_cell_types ident\n",
       "reducedDimNames(0):\n",
       "mainExpName: peaks\n",
       "altExpNames(0):"
      ]
     },
     "metadata": {},
     "output_type": "display_data"
    }
   ],
   "source": [
    "PeakMatrix"
   ]
  },
  {
   "cell_type": "code",
   "execution_count": 40,
   "id": "4debcd1e-af91-4db6-aef3-7eeb04b3a858",
   "metadata": {},
   "outputs": [
    {
     "data": {
      "text/plain": [
       "GRanges object with 405121 ranges and 0 metadata columns:\n",
       "           seqnames              ranges strand\n",
       "              <Rle>           <IRanges>  <Rle>\n",
       "       [1]    chr10 100006329-100006730      *\n",
       "       [2]    chr10 100009751-100010152      *\n",
       "       [3]    chr10 100016741-100017142      *\n",
       "       [4]    chr10 100019766-100020167      *\n",
       "       [5]    chr10 100020276-100020677      *\n",
       "       ...      ...                 ...    ...\n",
       "  [405117]     chrY     7703790-7704191      *\n",
       "  [405118]     chrY     7714477-7714878      *\n",
       "  [405119]     chrY     7724233-7724634      *\n",
       "  [405120]     chrY     7725786-7726187      *\n",
       "  [405121]     chrY     7729552-7729953      *\n",
       "  -------\n",
       "  seqinfo: 24 sequences from an unspecified genome; no seqlengths"
      ]
     },
     "metadata": {},
     "output_type": "display_data"
    }
   ],
   "source": [
    "PeakMatrix |> rowRanges()"
   ]
  },
  {
   "cell_type": "code",
   "execution_count": 41,
   "id": "0d39787c-09cf-41e9-a140-e6707425d763",
   "metadata": {},
   "outputs": [
    {
     "data": {
      "text/html": [
       "'/fast/AG_Bunina/Yusuf/Project_Endothelial_and_Stroke/Datasets/Chromatin_and_Gene_Exp/2024_C_A_Mannens_C_et_al/04_02_25'"
      ],
      "text/latex": [
       "'/fast/AG\\_Bunina/Yusuf/Project\\_Endothelial\\_and\\_Stroke/Datasets/Chromatin\\_and\\_Gene\\_Exp/2024\\_C\\_A\\_Mannens\\_C\\_et\\_al/04\\_02\\_25'"
      ],
      "text/markdown": [
       "'/fast/AG_Bunina/Yusuf/Project_Endothelial_and_Stroke/Datasets/Chromatin_and_Gene_Exp/2024_C_A_Mannens_C_et_al/04_02_25'"
      ],
      "text/plain": [
       "[1] \"/fast/AG_Bunina/Yusuf/Project_Endothelial_and_Stroke/Datasets/Chromatin_and_Gene_Exp/2024_C_A_Mannens_C_et_al/04_02_25\""
      ]
     },
     "metadata": {},
     "output_type": "display_data"
    }
   ],
   "source": [
    "here::here()"
   ]
  },
  {
   "cell_type": "code",
   "execution_count": 42,
   "id": "80b98374-2d5f-442d-af3f-666cfa92da61",
   "metadata": {},
   "outputs": [],
   "source": [
    "GeneExpressionMatrix |> saveRDS(here::here('r_objects', 'GeneExpressionMatrix.RDS'))"
   ]
  },
  {
   "cell_type": "code",
   "execution_count": 43,
   "id": "dc99d2fa-4690-4ac7-a2b2-0601c443200a",
   "metadata": {},
   "outputs": [],
   "source": [
    "PeakMatrix |> saveRDS(here::here('r_objects', 'PeakMatrix.RDS'))"
   ]
  },
  {
   "cell_type": "code",
   "execution_count": 50,
   "id": "370cc889-45f1-411f-962f-933d16c78469",
   "metadata": {},
   "outputs": [
    {
     "data": {
      "text/html": [
       "<style>\n",
       ".list-inline {list-style: none; margin:0; padding: 0}\n",
       ".list-inline>li {display: inline-block}\n",
       ".list-inline>li:not(:last-child)::after {content: \"\\00b7\"; padding: 0 .5ex}\n",
       "</style>\n",
       "<ol class=list-inline><li>'bayestestR'</li><li>'beachmat'</li><li>'beeswarm'</li><li>'bit'</li><li>'bit64'</li><li>'bitops'</li><li>'blob'</li><li>'bluster'</li><li>'boot'</li><li>'broom'</li><li>'broom.helpers'</li><li>'bslib'</li><li>'caTools'</li><li>'cachem'</li><li>'callr'</li><li>'car'</li><li>'carData'</li><li>'cards'</li><li>'caret'</li><li>'cellranger'</li><li>'checkmate'</li><li>'chromVAR'</li><li>'circlize'</li><li>'class'</li><li>'cli'</li><li>'clipr'</li><li>'clock'</li><li>'clue'</li><li>'cluster'</li><li>'clusterProfiler'</li><li>'coda'</li><li>'codetools'</li><li>'colorspace'</li><li>'commonmark'</li><li>'compiler'</li><li>'conflicted'</li><li>'coro'</li><li>'corrplot'</li><li>'cowplot'</li><li>'cpp11'</li><li>'crayon'</li><li>'crosstalk'</li><li>'curl'</li><li>'data.table'</li><li>'datasets'</li><li>'datawizard'</li><li>'dbplyr'</li><li>'deldir'</li><li>'diagram'</li><li>'dichromat'</li><li>'digest'</li><li>'doBy'</li><li>'doParallel'</li><li>'dotCall64'</li><li>'downloader'</li><li>'dplyr'</li><li>'dqrng'</li><li>'dtplyr'</li><li>'e1071'</li><li>'edgeR'</li><li>'ellmer'</li><li>'enrichplot'</li><li>'ensembldb'</li><li>'entropy'</li><li>'epiregulon'</li><li>'epiregulon.extra'</li><li>'evaluate'</li><li>'fansi'</li><li>'farver'</li><li>'fastDummies'</li><li>'fastmap'</li><li>'fastmatch'</li><li>'fgsea'</li><li>'filelock'</li><li>'fitdistrplus'</li><li>'fontawesome'</li><li>'forcats'</li><li>'foreach'</li><li>'formatR'</li><li>'fs'</li><li>'futile.logger'</li><li>'futile.options'</li><li>'future'</li><li>'future.apply'</li><li>'gargle'</li><li>'gdsfmt'</li><li>'generics'</li><li>'ggbeeswarm'</li><li>'ggforce'</li><li>'ggformula'</li><li>'ggfun'</li><li>'ggnewscale'</li><li>'ggplot2'</li><li>'ggplotify'</li><li>'ggpointdensity'</li><li>'ggprism'</li><li>'ggpubr'</li><li>'ggraph'</li><li>'ggrastr'</li><li>'ggrepel'</li><li>'ggridges'</li><li>'ggsci'</li><li>'ggsignif'</li><li>'ggstats'</li><li>'ggtree'</li><li>'glmnet'</li><li>'glmnetUtils'</li><li>'globals'</li><li>'glue'</li><li>'goftest'</li><li>'googledrive'</li><li>'googlesheets4'</li><li>'gower'</li><li>'gplots'</li><li>'grDevices'</li><li>'graph'</li><li>'graphics'</li><li>'graphlayouts'</li><li>'grid'</li><li>'gridExtra'</li><li>'gridGraphics'</li><li>'grr'</li><li>'gson'</li><li>'gtable'</li><li>'gtools'</li><li>'hardhat'</li><li>'haven'</li><li>'hdf5r'</li><li>'here'</li><li>'highr'</li><li>'hms'</li><li>'htmltools'</li><li>'htmlwidgets'</li><li>'httpuv'</li><li>'httr'</li><li>'httr2'</li><li>'ica'</li><li>'ids'</li><li>'igraph'</li><li>'insight'</li><li>'ipred'</li><li>'irlba'</li><li>'isoband'</li><li>'iterators'</li><li>'janitor'</li><li>'jose'</li><li>'jquerylib'</li><li>'jsonlite'</li><li>'kernlab'</li><li>'knitr'</li><li>'labeling'</li><li>'labelled'</li><li>'lambda.r'</li><li>'later'</li><li>'lattice'</li><li>'lava'</li><li>'lazyeval'</li><li>'leiden'</li><li>'leidenbase'</li><li>'lifecycle'</li><li>'limma'</li><li>'listenv'</li><li>'lme4'</li><li>'lmtest'</li><li>'locfit'</li><li>'lubridate'</li><li>'magrittr'</li><li>'mapproj'</li><li>'maps'</li><li>'matrixStats'</li><li>'memoise'</li><li>'metapod'</li><li>'methods'</li><li>'mgcv'</li><li>'microbenchmark'</li><li>'mime'</li><li>'miniUI'</li><li>'minqa'</li><li>'mixtools'</li><li>'modelr'</li><li>'mosaic'</li></ol>\n"
      ],
      "text/latex": [
       "\\begin{enumerate*}\n",
       "\\item 'bayestestR'\n",
       "\\item 'beachmat'\n",
       "\\item 'beeswarm'\n",
       "\\item 'bit'\n",
       "\\item 'bit64'\n",
       "\\item 'bitops'\n",
       "\\item 'blob'\n",
       "\\item 'bluster'\n",
       "\\item 'boot'\n",
       "\\item 'broom'\n",
       "\\item 'broom.helpers'\n",
       "\\item 'bslib'\n",
       "\\item 'caTools'\n",
       "\\item 'cachem'\n",
       "\\item 'callr'\n",
       "\\item 'car'\n",
       "\\item 'carData'\n",
       "\\item 'cards'\n",
       "\\item 'caret'\n",
       "\\item 'cellranger'\n",
       "\\item 'checkmate'\n",
       "\\item 'chromVAR'\n",
       "\\item 'circlize'\n",
       "\\item 'class'\n",
       "\\item 'cli'\n",
       "\\item 'clipr'\n",
       "\\item 'clock'\n",
       "\\item 'clue'\n",
       "\\item 'cluster'\n",
       "\\item 'clusterProfiler'\n",
       "\\item 'coda'\n",
       "\\item 'codetools'\n",
       "\\item 'colorspace'\n",
       "\\item 'commonmark'\n",
       "\\item 'compiler'\n",
       "\\item 'conflicted'\n",
       "\\item 'coro'\n",
       "\\item 'corrplot'\n",
       "\\item 'cowplot'\n",
       "\\item 'cpp11'\n",
       "\\item 'crayon'\n",
       "\\item 'crosstalk'\n",
       "\\item 'curl'\n",
       "\\item 'data.table'\n",
       "\\item 'datasets'\n",
       "\\item 'datawizard'\n",
       "\\item 'dbplyr'\n",
       "\\item 'deldir'\n",
       "\\item 'diagram'\n",
       "\\item 'dichromat'\n",
       "\\item 'digest'\n",
       "\\item 'doBy'\n",
       "\\item 'doParallel'\n",
       "\\item 'dotCall64'\n",
       "\\item 'downloader'\n",
       "\\item 'dplyr'\n",
       "\\item 'dqrng'\n",
       "\\item 'dtplyr'\n",
       "\\item 'e1071'\n",
       "\\item 'edgeR'\n",
       "\\item 'ellmer'\n",
       "\\item 'enrichplot'\n",
       "\\item 'ensembldb'\n",
       "\\item 'entropy'\n",
       "\\item 'epiregulon'\n",
       "\\item 'epiregulon.extra'\n",
       "\\item 'evaluate'\n",
       "\\item 'fansi'\n",
       "\\item 'farver'\n",
       "\\item 'fastDummies'\n",
       "\\item 'fastmap'\n",
       "\\item 'fastmatch'\n",
       "\\item 'fgsea'\n",
       "\\item 'filelock'\n",
       "\\item 'fitdistrplus'\n",
       "\\item 'fontawesome'\n",
       "\\item 'forcats'\n",
       "\\item 'foreach'\n",
       "\\item 'formatR'\n",
       "\\item 'fs'\n",
       "\\item 'futile.logger'\n",
       "\\item 'futile.options'\n",
       "\\item 'future'\n",
       "\\item 'future.apply'\n",
       "\\item 'gargle'\n",
       "\\item 'gdsfmt'\n",
       "\\item 'generics'\n",
       "\\item 'ggbeeswarm'\n",
       "\\item 'ggforce'\n",
       "\\item 'ggformula'\n",
       "\\item 'ggfun'\n",
       "\\item 'ggnewscale'\n",
       "\\item 'ggplot2'\n",
       "\\item 'ggplotify'\n",
       "\\item 'ggpointdensity'\n",
       "\\item 'ggprism'\n",
       "\\item 'ggpubr'\n",
       "\\item 'ggraph'\n",
       "\\item 'ggrastr'\n",
       "\\item 'ggrepel'\n",
       "\\item 'ggridges'\n",
       "\\item 'ggsci'\n",
       "\\item 'ggsignif'\n",
       "\\item 'ggstats'\n",
       "\\item 'ggtree'\n",
       "\\item 'glmnet'\n",
       "\\item 'glmnetUtils'\n",
       "\\item 'globals'\n",
       "\\item 'glue'\n",
       "\\item 'goftest'\n",
       "\\item 'googledrive'\n",
       "\\item 'googlesheets4'\n",
       "\\item 'gower'\n",
       "\\item 'gplots'\n",
       "\\item 'grDevices'\n",
       "\\item 'graph'\n",
       "\\item 'graphics'\n",
       "\\item 'graphlayouts'\n",
       "\\item 'grid'\n",
       "\\item 'gridExtra'\n",
       "\\item 'gridGraphics'\n",
       "\\item 'grr'\n",
       "\\item 'gson'\n",
       "\\item 'gtable'\n",
       "\\item 'gtools'\n",
       "\\item 'hardhat'\n",
       "\\item 'haven'\n",
       "\\item 'hdf5r'\n",
       "\\item 'here'\n",
       "\\item 'highr'\n",
       "\\item 'hms'\n",
       "\\item 'htmltools'\n",
       "\\item 'htmlwidgets'\n",
       "\\item 'httpuv'\n",
       "\\item 'httr'\n",
       "\\item 'httr2'\n",
       "\\item 'ica'\n",
       "\\item 'ids'\n",
       "\\item 'igraph'\n",
       "\\item 'insight'\n",
       "\\item 'ipred'\n",
       "\\item 'irlba'\n",
       "\\item 'isoband'\n",
       "\\item 'iterators'\n",
       "\\item 'janitor'\n",
       "\\item 'jose'\n",
       "\\item 'jquerylib'\n",
       "\\item 'jsonlite'\n",
       "\\item 'kernlab'\n",
       "\\item 'knitr'\n",
       "\\item 'labeling'\n",
       "\\item 'labelled'\n",
       "\\item 'lambda.r'\n",
       "\\item 'later'\n",
       "\\item 'lattice'\n",
       "\\item 'lava'\n",
       "\\item 'lazyeval'\n",
       "\\item 'leiden'\n",
       "\\item 'leidenbase'\n",
       "\\item 'lifecycle'\n",
       "\\item 'limma'\n",
       "\\item 'listenv'\n",
       "\\item 'lme4'\n",
       "\\item 'lmtest'\n",
       "\\item 'locfit'\n",
       "\\item 'lubridate'\n",
       "\\item 'magrittr'\n",
       "\\item 'mapproj'\n",
       "\\item 'maps'\n",
       "\\item 'matrixStats'\n",
       "\\item 'memoise'\n",
       "\\item 'metapod'\n",
       "\\item 'methods'\n",
       "\\item 'mgcv'\n",
       "\\item 'microbenchmark'\n",
       "\\item 'mime'\n",
       "\\item 'miniUI'\n",
       "\\item 'minqa'\n",
       "\\item 'mixtools'\n",
       "\\item 'modelr'\n",
       "\\item 'mosaic'\n",
       "\\end{enumerate*}\n"
      ],
      "text/markdown": [
       "1. 'bayestestR'\n",
       "2. 'beachmat'\n",
       "3. 'beeswarm'\n",
       "4. 'bit'\n",
       "5. 'bit64'\n",
       "6. 'bitops'\n",
       "7. 'blob'\n",
       "8. 'bluster'\n",
       "9. 'boot'\n",
       "10. 'broom'\n",
       "11. 'broom.helpers'\n",
       "12. 'bslib'\n",
       "13. 'caTools'\n",
       "14. 'cachem'\n",
       "15. 'callr'\n",
       "16. 'car'\n",
       "17. 'carData'\n",
       "18. 'cards'\n",
       "19. 'caret'\n",
       "20. 'cellranger'\n",
       "21. 'checkmate'\n",
       "22. 'chromVAR'\n",
       "23. 'circlize'\n",
       "24. 'class'\n",
       "25. 'cli'\n",
       "26. 'clipr'\n",
       "27. 'clock'\n",
       "28. 'clue'\n",
       "29. 'cluster'\n",
       "30. 'clusterProfiler'\n",
       "31. 'coda'\n",
       "32. 'codetools'\n",
       "33. 'colorspace'\n",
       "34. 'commonmark'\n",
       "35. 'compiler'\n",
       "36. 'conflicted'\n",
       "37. 'coro'\n",
       "38. 'corrplot'\n",
       "39. 'cowplot'\n",
       "40. 'cpp11'\n",
       "41. 'crayon'\n",
       "42. 'crosstalk'\n",
       "43. 'curl'\n",
       "44. 'data.table'\n",
       "45. 'datasets'\n",
       "46. 'datawizard'\n",
       "47. 'dbplyr'\n",
       "48. 'deldir'\n",
       "49. 'diagram'\n",
       "50. 'dichromat'\n",
       "51. 'digest'\n",
       "52. 'doBy'\n",
       "53. 'doParallel'\n",
       "54. 'dotCall64'\n",
       "55. 'downloader'\n",
       "56. 'dplyr'\n",
       "57. 'dqrng'\n",
       "58. 'dtplyr'\n",
       "59. 'e1071'\n",
       "60. 'edgeR'\n",
       "61. 'ellmer'\n",
       "62. 'enrichplot'\n",
       "63. 'ensembldb'\n",
       "64. 'entropy'\n",
       "65. 'epiregulon'\n",
       "66. 'epiregulon.extra'\n",
       "67. 'evaluate'\n",
       "68. 'fansi'\n",
       "69. 'farver'\n",
       "70. 'fastDummies'\n",
       "71. 'fastmap'\n",
       "72. 'fastmatch'\n",
       "73. 'fgsea'\n",
       "74. 'filelock'\n",
       "75. 'fitdistrplus'\n",
       "76. 'fontawesome'\n",
       "77. 'forcats'\n",
       "78. 'foreach'\n",
       "79. 'formatR'\n",
       "80. 'fs'\n",
       "81. 'futile.logger'\n",
       "82. 'futile.options'\n",
       "83. 'future'\n",
       "84. 'future.apply'\n",
       "85. 'gargle'\n",
       "86. 'gdsfmt'\n",
       "87. 'generics'\n",
       "88. 'ggbeeswarm'\n",
       "89. 'ggforce'\n",
       "90. 'ggformula'\n",
       "91. 'ggfun'\n",
       "92. 'ggnewscale'\n",
       "93. 'ggplot2'\n",
       "94. 'ggplotify'\n",
       "95. 'ggpointdensity'\n",
       "96. 'ggprism'\n",
       "97. 'ggpubr'\n",
       "98. 'ggraph'\n",
       "99. 'ggrastr'\n",
       "100. 'ggrepel'\n",
       "101. 'ggridges'\n",
       "102. 'ggsci'\n",
       "103. 'ggsignif'\n",
       "104. 'ggstats'\n",
       "105. 'ggtree'\n",
       "106. 'glmnet'\n",
       "107. 'glmnetUtils'\n",
       "108. 'globals'\n",
       "109. 'glue'\n",
       "110. 'goftest'\n",
       "111. 'googledrive'\n",
       "112. 'googlesheets4'\n",
       "113. 'gower'\n",
       "114. 'gplots'\n",
       "115. 'grDevices'\n",
       "116. 'graph'\n",
       "117. 'graphics'\n",
       "118. 'graphlayouts'\n",
       "119. 'grid'\n",
       "120. 'gridExtra'\n",
       "121. 'gridGraphics'\n",
       "122. 'grr'\n",
       "123. 'gson'\n",
       "124. 'gtable'\n",
       "125. 'gtools'\n",
       "126. 'hardhat'\n",
       "127. 'haven'\n",
       "128. 'hdf5r'\n",
       "129. 'here'\n",
       "130. 'highr'\n",
       "131. 'hms'\n",
       "132. 'htmltools'\n",
       "133. 'htmlwidgets'\n",
       "134. 'httpuv'\n",
       "135. 'httr'\n",
       "136. 'httr2'\n",
       "137. 'ica'\n",
       "138. 'ids'\n",
       "139. 'igraph'\n",
       "140. 'insight'\n",
       "141. 'ipred'\n",
       "142. 'irlba'\n",
       "143. 'isoband'\n",
       "144. 'iterators'\n",
       "145. 'janitor'\n",
       "146. 'jose'\n",
       "147. 'jquerylib'\n",
       "148. 'jsonlite'\n",
       "149. 'kernlab'\n",
       "150. 'knitr'\n",
       "151. 'labeling'\n",
       "152. 'labelled'\n",
       "153. 'lambda.r'\n",
       "154. 'later'\n",
       "155. 'lattice'\n",
       "156. 'lava'\n",
       "157. 'lazyeval'\n",
       "158. 'leiden'\n",
       "159. 'leidenbase'\n",
       "160. 'lifecycle'\n",
       "161. 'limma'\n",
       "162. 'listenv'\n",
       "163. 'lme4'\n",
       "164. 'lmtest'\n",
       "165. 'locfit'\n",
       "166. 'lubridate'\n",
       "167. 'magrittr'\n",
       "168. 'mapproj'\n",
       "169. 'maps'\n",
       "170. 'matrixStats'\n",
       "171. 'memoise'\n",
       "172. 'metapod'\n",
       "173. 'methods'\n",
       "174. 'mgcv'\n",
       "175. 'microbenchmark'\n",
       "176. 'mime'\n",
       "177. 'miniUI'\n",
       "178. 'minqa'\n",
       "179. 'mixtools'\n",
       "180. 'modelr'\n",
       "181. 'mosaic'\n",
       "\n",
       "\n"
      ],
      "text/plain": [
       "  [1] \"bayestestR\"       \"beachmat\"         \"beeswarm\"        \n",
       "  [4] \"bit\"              \"bit64\"            \"bitops\"          \n",
       "  [7] \"blob\"             \"bluster\"          \"boot\"            \n",
       " [10] \"broom\"            \"broom.helpers\"    \"bslib\"           \n",
       " [13] \"caTools\"          \"cachem\"           \"callr\"           \n",
       " [16] \"car\"              \"carData\"          \"cards\"           \n",
       " [19] \"caret\"            \"cellranger\"       \"checkmate\"       \n",
       " [22] \"chromVAR\"         \"circlize\"         \"class\"           \n",
       " [25] \"cli\"              \"clipr\"            \"clock\"           \n",
       " [28] \"clue\"             \"cluster\"          \"clusterProfiler\" \n",
       " [31] \"coda\"             \"codetools\"        \"colorspace\"      \n",
       " [34] \"commonmark\"       \"compiler\"         \"conflicted\"      \n",
       " [37] \"coro\"             \"corrplot\"         \"cowplot\"         \n",
       " [40] \"cpp11\"            \"crayon\"           \"crosstalk\"       \n",
       " [43] \"curl\"             \"data.table\"       \"datasets\"        \n",
       " [46] \"datawizard\"       \"dbplyr\"           \"deldir\"          \n",
       " [49] \"diagram\"          \"dichromat\"        \"digest\"          \n",
       " [52] \"doBy\"             \"doParallel\"       \"dotCall64\"       \n",
       " [55] \"downloader\"       \"dplyr\"            \"dqrng\"           \n",
       " [58] \"dtplyr\"           \"e1071\"            \"edgeR\"           \n",
       " [61] \"ellmer\"           \"enrichplot\"       \"ensembldb\"       \n",
       " [64] \"entropy\"          \"epiregulon\"       \"epiregulon.extra\"\n",
       " [67] \"evaluate\"         \"fansi\"            \"farver\"          \n",
       " [70] \"fastDummies\"      \"fastmap\"          \"fastmatch\"       \n",
       " [73] \"fgsea\"            \"filelock\"         \"fitdistrplus\"    \n",
       " [76] \"fontawesome\"      \"forcats\"          \"foreach\"         \n",
       " [79] \"formatR\"          \"fs\"               \"futile.logger\"   \n",
       " [82] \"futile.options\"   \"future\"           \"future.apply\"    \n",
       " [85] \"gargle\"           \"gdsfmt\"           \"generics\"        \n",
       " [88] \"ggbeeswarm\"       \"ggforce\"          \"ggformula\"       \n",
       " [91] \"ggfun\"            \"ggnewscale\"       \"ggplot2\"         \n",
       " [94] \"ggplotify\"        \"ggpointdensity\"   \"ggprism\"         \n",
       " [97] \"ggpubr\"           \"ggraph\"           \"ggrastr\"         \n",
       "[100] \"ggrepel\"          \"ggridges\"         \"ggsci\"           \n",
       "[103] \"ggsignif\"         \"ggstats\"          \"ggtree\"          \n",
       "[106] \"glmnet\"           \"glmnetUtils\"      \"globals\"         \n",
       "[109] \"glue\"             \"goftest\"          \"googledrive\"     \n",
       "[112] \"googlesheets4\"    \"gower\"            \"gplots\"          \n",
       "[115] \"grDevices\"        \"graph\"            \"graphics\"        \n",
       "[118] \"graphlayouts\"     \"grid\"             \"gridExtra\"       \n",
       "[121] \"gridGraphics\"     \"grr\"              \"gson\"            \n",
       "[124] \"gtable\"           \"gtools\"           \"hardhat\"         \n",
       "[127] \"haven\"            \"hdf5r\"            \"here\"            \n",
       "[130] \"highr\"            \"hms\"              \"htmltools\"       \n",
       "[133] \"htmlwidgets\"      \"httpuv\"           \"httr\"            \n",
       "[136] \"httr2\"            \"ica\"              \"ids\"             \n",
       "[139] \"igraph\"           \"insight\"          \"ipred\"           \n",
       "[142] \"irlba\"            \"isoband\"          \"iterators\"       \n",
       "[145] \"janitor\"          \"jose\"             \"jquerylib\"       \n",
       "[148] \"jsonlite\"         \"kernlab\"          \"knitr\"           \n",
       "[151] \"labeling\"         \"labelled\"         \"lambda.r\"        \n",
       "[154] \"later\"            \"lattice\"          \"lava\"            \n",
       "[157] \"lazyeval\"         \"leiden\"           \"leidenbase\"      \n",
       "[160] \"lifecycle\"        \"limma\"            \"listenv\"         \n",
       "[163] \"lme4\"             \"lmtest\"           \"locfit\"          \n",
       "[166] \"lubridate\"        \"magrittr\"         \"mapproj\"         \n",
       "[169] \"maps\"             \"matrixStats\"      \"memoise\"         \n",
       "[172] \"metapod\"          \"methods\"          \"mgcv\"            \n",
       "[175] \"microbenchmark\"   \"mime\"             \"miniUI\"          \n",
       "[178] \"minqa\"            \"mixtools\"         \"modelr\"          \n",
       "[181] \"mosaic\"          "
      ]
     },
     "metadata": {},
     "output_type": "display_data"
    }
   ],
   "source": [
    ".libPaths() |> list.files() |> _[120:300] |> sort()"
   ]
  },
  {
   "cell_type": "code",
   "execution_count": 51,
   "id": "1a6f6c19-d9e7-4a0b-aafc-724c6528f7cd",
   "metadata": {},
   "outputs": [
    {
     "data": {
      "text/html": [
       "<style>\n",
       ".list-inline {list-style: none; margin:0; padding: 0}\n",
       ".list-inline>li {display: inline-block}\n",
       ".list-inline>li:not(:last-child)::after {content: \"\\00b7\"; padding: 0 .5ex}\n",
       "</style>\n",
       "<ol class=list-inline><li>TRUE</li><li>TRUE</li><li>TRUE</li><li>TRUE</li><li>TRUE</li><li>TRUE</li><li>TRUE</li></ol>\n"
      ],
      "text/latex": [
       "\\begin{enumerate*}\n",
       "\\item TRUE\n",
       "\\item TRUE\n",
       "\\item TRUE\n",
       "\\item TRUE\n",
       "\\item TRUE\n",
       "\\item TRUE\n",
       "\\item TRUE\n",
       "\\end{enumerate*}\n"
      ],
      "text/markdown": [
       "1. TRUE\n",
       "2. TRUE\n",
       "3. TRUE\n",
       "4. TRUE\n",
       "5. TRUE\n",
       "6. TRUE\n",
       "7. TRUE\n",
       "\n",
       "\n"
      ],
      "text/plain": [
       "[1] TRUE TRUE TRUE TRUE TRUE TRUE TRUE"
      ]
     },
     "metadata": {},
     "output_type": "display_data"
    }
   ],
   "source": [
    "c(\"irlba\", \"uwot\", \"RcppHNSW\", \"igraph\", \"BiocManager\", \"remotes\", \"ggplot2\") %in% list.files(.libPaths())"
   ]
  },
  {
   "cell_type": "code",
   "execution_count": 52,
   "id": "95d2d9aa-5ea2-400e-b755-4547ee88d8e6",
   "metadata": {},
   "outputs": [
    {
     "data": {
      "text/html": [
       "TRUE"
      ],
      "text/latex": [
       "TRUE"
      ],
      "text/markdown": [
       "TRUE"
      ],
      "text/plain": [
       "[1] TRUE"
      ]
     },
     "metadata": {},
     "output_type": "display_data"
    }
   ],
   "source": [
    "c(\"BSgenome.Hsapiens.UCSC.hg38\") %in% list.files(.libPaths())"
   ]
  },
  {
   "cell_type": "code",
   "execution_count": 53,
   "id": "9ebf94cb-1dcf-4330-b8cd-50a9954e1c37",
   "metadata": {},
   "outputs": [
    {
     "data": {
      "text/html": [
       "TRUE"
      ],
      "text/latex": [
       "TRUE"
      ],
      "text/markdown": [
       "TRUE"
      ],
      "text/plain": [
       "[1] TRUE"
      ]
     },
     "metadata": {},
     "output_type": "display_data"
    }
   ],
   "source": [
    "c(\"motifmatchr\") %in% list.files(.libPaths())"
   ]
  },
  {
   "cell_type": "code",
   "execution_count": 54,
   "id": "2eb67e27-8641-4156-9edc-0eef5b4d4b3b",
   "metadata": {},
   "outputs": [
    {
     "data": {
      "text/html": [
       "FALSE"
      ],
      "text/latex": [
       "FALSE"
      ],
      "text/markdown": [
       "FALSE"
      ],
      "text/plain": [
       "[1] FALSE"
      ]
     },
     "metadata": {},
     "output_type": "display_data"
    }
   ],
   "source": [
    "c(\"chromVARmotifs\") %in% list.files(.libPaths())"
   ]
  },
  {
   "cell_type": "code",
   "execution_count": 55,
   "id": "df97638c-cb72-4ed2-ab68-c17b4ec2914a",
   "metadata": {},
   "outputs": [
    {
     "name": "stderr",
     "output_type": "stream",
     "text": [
      "Downloading GitHub repo GreenleafLab/chromVARmotifs@HEAD\n",
      "\n",
      "'getOption(\"repos\")' replaces Bioconductor standard repositories, see\n",
      "'help(\"repositories\", package = \"BiocManager\")' for details.\n",
      "Replacement repositories:\n",
      "    BioCsoft: https://bioconductor.org/packages/3.19/bioc\n",
      "    BioCann: https://bioconductor.org/packages/3.19/data/annotation\n",
      "    BioCexp: https://bioconductor.org/packages/3.19/data/experiment\n",
      "    BioCworkflows: https://bioconductor.org/packages/3.19/workflows\n",
      "    BioCbooks: https://bioconductor.org/packages/3.19/books\n",
      "    CRAN: https://cran.r-project.org\n",
      "\n"
     ]
    },
    {
     "name": "stdout",
     "output_type": "stream",
     "text": [
      "rjson        (0.2.22    -> 0.2.23   ) [CRAN]\n",
      "XML          (3.99-0.17 -> 3.99-0.18) [CRAN]\n",
      "GenomicRa... (1.56.1    -> 1.56.2   ) [CRAN]\n",
      "R.oo         (1.26.0    -> 1.27.0   ) [CRAN]\n",
      "poweRlaw     (0.80.0    -> 1.0.0    ) [CRAN]\n",
      "RSQLite      (2.3.7     -> 2.3.9    ) [CRAN]\n"
     ]
    },
    {
     "name": "stderr",
     "output_type": "stream",
     "text": [
      "Installing 6 packages: rjson, XML, GenomicRanges, R.oo, poweRlaw, RSQLite\n",
      "\n",
      "Installing packages into '/fast/AG_Bunina/Yusuf/Project_Endothelial_and_Stroke/Datasets/Chromatin_and_Gene_Exp/2024_C_A_Mannens_C_et_al/04_02_25/renv/library/linux-rhel-9.4/R-4.4/x86_64-unknown-linux-gnu'\n",
      "(as 'lib' is unspecified)\n",
      "\n",
      "Warning message in i.p(...):\n",
      "\"installation of package 'XML' had non-zero exit status\"\n",
      "Running `R CMD build`...\n",
      "\n"
     ]
    },
    {
     "name": "stdout",
     "output_type": "stream",
     "text": [
      "* checking for file ‘/tmp/RtmpBMJ5D3/remotes37818e2ad30784/GreenleafLab-chromVARmotifs-38bed55/DESCRIPTION’ ... OK\n",
      "* preparing ‘chromVARmotifs’:\n",
      "* checking DESCRIPTION meta-information ... OK\n",
      "* checking for LF line-endings in source and make files and shell scripts\n",
      "* checking for empty or unneeded directories\n",
      "* building ‘chromVARmotifs_0.2.0.tar.gz’\n"
     ]
    },
    {
     "name": "stderr",
     "output_type": "stream",
     "text": [
      "Installing package into '/fast/AG_Bunina/Yusuf/Project_Endothelial_and_Stroke/Datasets/Chromatin_and_Gene_Exp/2024_C_A_Mannens_C_et_al/04_02_25/renv/library/linux-rhel-9.4/R-4.4/x86_64-unknown-linux-gnu'\n",
      "(as 'lib' is unspecified)\n",
      "\n"
     ]
    }
   ],
   "source": [
    "remotes::install_github(c(\"GreenleafLab/chromVARmotifs\"), repos=BiocManager::repositories())"
   ]
  },
  {
   "cell_type": "code",
   "execution_count": 61,
   "id": "9288db84-76c8-400c-8c18-1b748cdb6a09",
   "metadata": {},
   "outputs": [
    {
     "data": {
      "text/plain": [
       "An object of class Seurat \n",
       "430192 features across 49470 samples within 2 assays \n",
       "Active assay: RNA (25071 features, 5000 variable features)\n",
       " 3 layers present: counts, data, scale.data\n",
       " 1 other assay present: peaks"
      ]
     },
     "metadata": {},
     "output_type": "display_data"
    }
   ],
   "source": [
    "mannens_et_al_seurat"
   ]
  },
  {
   "cell_type": "code",
   "execution_count": 62,
   "id": "2455bbd4-26e9-4fd0-9954-ede963144652",
   "metadata": {},
   "outputs": [
    {
     "data": {
      "text/plain": [
       "ChromatinAssay data with 405121 features for 49470 cells\n",
       "Variable features: 101285 \n",
       "Genome: \n",
       "Annotation present: TRUE \n",
       "Motifs present: FALSE \n",
       "Fragment files: 0 "
      ]
     },
     "metadata": {},
     "output_type": "display_data"
    }
   ],
   "source": [
    "mannens_et_al_seurat@assays$peaks"
   ]
  },
  {
   "cell_type": "code",
   "execution_count": 63,
   "id": "28fd0e3c-6510-40a1-8fd7-d37cc0b0473a",
   "metadata": {},
   "outputs": [
    {
     "name": "stderr",
     "output_type": "stream",
     "text": [
      "  [[ suppressing 34 column names '10X280_1:CAGATTCAGCAGCTCA', '10X365_2:ACCAATATCAATGACC', '10X365_2:ATGGTGCGTCACCTAT' ... ]]\n",
      "\n"
     ]
    },
    {
     "data": {
      "text/plain": [
       "6 x 49470 sparse Matrix of class \"dgCMatrix\"\n",
       "                                                                      \n",
       "chr10-100006329-100006730 . . . . . . . . .         . . . . . .       \n",
       "chr10-100009751-100010152 . . . . . . . . 0.8201684 . . . . . 1.070958\n",
       "chr10-100016741-100017142 . . . . . . . . .         . . . . . .       \n",
       "chr10-100019766-100020167 . . . . . . . . .         . . . . . .       \n",
       "chr10-100020276-100020677 . . . . . . . . .         . . . . . .       \n",
       "chr10-100020877-100021278 . . . . . . . . .         . . . . . .       \n",
       "                                                                         \n",
       "chr10-100006329-100006730 .         . . .         .        .        . . .\n",
       "chr10-100009751-100010152 0.7369955 . . 0.7147449 1.023804 .        . . .\n",
       "chr10-100016741-100017142 .         . . .         .        .        . . .\n",
       "chr10-100019766-100020167 .         . . .         .        .        . . .\n",
       "chr10-100020276-100020677 .         . . .         .        .        . . .\n",
       "chr10-100020877-100021278 .         . . .         .        3.210967 . . .\n",
       "                                                                    \n",
       "chr10-100006329-100006730 .         . . . . .         . . . . ......\n",
       "chr10-100009751-100010152 0.6317188 . . . . 0.7442173 . . . . ......\n",
       "chr10-100016741-100017142 .         . . . . .         . . . . ......\n",
       "chr10-100019766-100020167 .         . . . . .         . . . . ......\n",
       "chr10-100020276-100020677 .         . . . . .         . . . . ......\n",
       "chr10-100020877-100021278 .         . . . . .         . . . . ......\n",
       "\n",
       " .....suppressing 49436 columns in show(); maybe adjust options(max.print=, width=)\n",
       " .............................."
      ]
     },
     "metadata": {},
     "output_type": "display_data"
    }
   ],
   "source": [
    "mannens_et_al_seurat@assays$peaks$data |> head()"
   ]
  },
  {
   "cell_type": "markdown",
   "id": "fed5197a-6ca9-4697-8b06-4030c371059b",
   "metadata": {},
   "source": [
    "IMPPORTANT !! Signac runs SVD on the default assay if not explicitly stated !!!\n",
    "Always set the the default assay to \"peaks\" or set the assay parameter explicitly !!!!"
   ]
  },
  {
   "cell_type": "markdown",
   "id": "f78e6953-aa93-4bc1-a3ff-e9564ca3e399",
   "metadata": {},
   "source": [
    "==============================================\n",
    "\n",
    "RunSVD function crashed during runon the peaks assay."
   ]
  },
  {
   "cell_type": "code",
   "execution_count": null,
   "id": "3bb846d2-33f8-4d15-b267-fec6f598791a",
   "metadata": {},
   "outputs": [],
   "source": []
  }
 ],
 "metadata": {
  "kernelspec": {
   "display_name": "R",
   "language": "R",
   "name": "ir"
  },
  "language_info": {
   "codemirror_mode": "r",
   "file_extension": ".r",
   "mimetype": "text/x-r-source",
   "name": "R",
   "pygments_lexer": "r",
   "version": "4.4.2"
  }
 },
 "nbformat": 4,
 "nbformat_minor": 5
}
