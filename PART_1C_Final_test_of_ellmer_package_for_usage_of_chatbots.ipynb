{
 "cells": [
  {
   "cell_type": "code",
   "execution_count": 1,
   "id": "e4a269c5-36b3-4850-aa16-0f4d07a4e4ca",
   "metadata": {},
   "outputs": [
    {
     "data": {
      "text/html": [
       "'/fast/AG_Bunina/Yusuf/Project_Endothelial_and_Stroke/Datasets/Chromatin_and_Gene_Exp/2024_C_A_Mannens_C_et_al/04_02_25'"
      ],
      "text/latex": [
       "'/fast/AG\\_Bunina/Yusuf/Project\\_Endothelial\\_and\\_Stroke/Datasets/Chromatin\\_and\\_Gene\\_Exp/2024\\_C\\_A\\_Mannens\\_C\\_et\\_al/04\\_02\\_25'"
      ],
      "text/markdown": [
       "'/fast/AG_Bunina/Yusuf/Project_Endothelial_and_Stroke/Datasets/Chromatin_and_Gene_Exp/2024_C_A_Mannens_C_et_al/04_02_25'"
      ],
      "text/plain": [
       "[1] \"/fast/AG_Bunina/Yusuf/Project_Endothelial_and_Stroke/Datasets/Chromatin_and_Gene_Exp/2024_C_A_Mannens_C_et_al/04_02_25\""
      ]
     },
     "metadata": {},
     "output_type": "display_data"
    }
   ],
   "source": [
    "getwd()"
   ]
  },
  {
   "cell_type": "code",
   "execution_count": 2,
   "id": "b1706148-059e-4d2f-a266-642d5887698b",
   "metadata": {},
   "outputs": [],
   "source": [
    "renv::load()"
   ]
  },
  {
   "cell_type": "code",
   "execution_count": 3,
   "id": "8bc58882-7352-4075-bacf-589582ffa345",
   "metadata": {},
   "outputs": [
    {
     "name": "stdout",
     "output_type": "stream",
     "text": [
      "No issues found -- the project is in a consistent state.\n"
     ]
    }
   ],
   "source": [
    "renv::status()"
   ]
  },
  {
   "cell_type": "code",
   "execution_count": 4,
   "id": "cac248e3-c062-4ee6-a087-9678dddbbcd0",
   "metadata": {},
   "outputs": [],
   "source": [
    "library(ellmer)"
   ]
  },
  {
   "cell_type": "code",
   "execution_count": 5,
   "id": "3d0c3042-1eb3-4324-b00e-0bc4c5d09fa4",
   "metadata": {},
   "outputs": [
    {
     "name": "stderr",
     "output_type": "stream",
     "text": [
      "\u001b[1m\u001b[22mUsing \u001b[32mmodel\u001b[39m = \u001b[34m\"gemini-1.5-flash\"\u001b[39m.\n"
     ]
    }
   ],
   "source": [
    "my_chatbot <- chat_gemini()"
   ]
  },
  {
   "cell_type": "code",
   "execution_count": 6,
   "id": "631ccafa-2624-4cef-8d5d-897ee318566a",
   "metadata": {},
   "outputs": [
    {
     "name": "stdout",
     "output_type": "stream",
     "text": [
      "TIMP1 (Tissue Inhibitor of Metalloproteinases 1) is a gene that encodes a \n",
      "protein of the same name, TIMP-1.  This protein is a member of the tissue \n",
      "inhibitor of metalloproteinases (TIMP) family.  TIMPs are naturally occurring \n",
      "inhibitors of matrix metalloproteinases (MMPs).\n",
      "\n",
      "Here's a breakdown of its key functions and significance:\n",
      "\n",
      "* **Role in regulating MMP activity:** MMPs are enzymes that break down the \n",
      "extracellular matrix (ECM), a network of proteins and other molecules \n",
      "surrounding cells.  This breakdown is crucial for processes like wound healing,\n",
      "tissue remodeling, and angiogenesis (formation of new blood vessels).  However,\n",
      "uncontrolled MMP activity can lead to tissue damage and contribute to diseases.\n",
      "TIMP-1 acts as a \"brake\" on MMP activity, preventing excessive degradation of \n",
      "the ECM.\n",
      "\n",
      "* **Influence on various biological processes:** Because of its role in \n",
      "regulating ECM breakdown, TIMP-1 influences a wide range of biological \n",
      "processes, including:\n",
      "    * **Wound healing:**  Proper balance of MMPs and TIMPs is essential for \n",
      "effective wound healing.  Too much MMP activity can hinder healing, while too \n",
      "much TIMP-1 can slow it down.\n",
      "    * **Cancer:** TIMP-1 expression is often altered in cancer.  It can act as \n",
      "a tumor suppressor in some contexts, inhibiting tumor growth and metastasis, \n",
      "while in others it can promote tumor progression. The role of TIMP-1 in cancer \n",
      "is complex and context-dependent.\n",
      "    * **Atherosclerosis:**  TIMP-1 plays a role in the development of \n",
      "atherosclerosis (hardening of the arteries) by influencing plaque formation and\n",
      "stability.\n",
      "    * **Inflammation:**  TIMP-1 is involved in inflammatory processes, and its \n",
      "levels can be altered in various inflammatory diseases.\n",
      "    * **Development:** TIMP-1 plays a role during embryonic development by \n",
      "regulating tissue remodeling.\n",
      "\n",
      "\n",
      "* **Potential therapeutic target:** Due to its involvement in diverse diseases,\n",
      "TIMP-1 has been explored as a potential therapeutic target.  Research focuses \n",
      "on modulating TIMP-1 levels or activity to treat conditions like cancer and \n",
      "cardiovascular disease.  However, the complexities of its actions make targeted\n",
      "therapies challenging.\n",
      "\n",
      "\n",
      "In summary, the TIMP1 gene encodes a crucial protein that plays a vital role in\n",
      "regulating tissue remodeling and various biological processes. Its involvement \n",
      "in both the suppression and promotion of diseases highlights the complexity of \n",
      "its functions and makes it an area of ongoing research.\n",
      "\n"
     ]
    }
   ],
   "source": [
    "my_chatbot$chat('What is TIMP1 gene?')"
   ]
  },
  {
   "cell_type": "code",
   "execution_count": 7,
   "id": "51145fe7-87e8-4635-b033-a730b158617f",
   "metadata": {},
   "outputs": [
    {
     "name": "stdout",
     "output_type": "stream",
     "text": [
      "The relationship between the TIMP1 gene and ischemia is complex and not fully \n",
      "understood, but there's evidence suggesting involvement.  Ischemia, a reduction\n",
      "in blood supply to a tissue, leads to a cascade of events including hypoxia \n",
      "(oxygen deprivation) and cell death.  TIMP-1's role in this context isn't \n",
      "straightforward; its effects can be both beneficial and detrimental depending \n",
      "on the specific tissue, the severity and duration of ischemia, and the \n",
      "interplay with other factors.\n",
      "\n",
      "Here's what we know:\n",
      "\n",
      "* **Potential Protective Effects:**  Some studies suggest that TIMP-1 can have \n",
      "a protective effect against ischemic injury.  This might be through:\n",
      "    * **Inhibition of MMP activity:**  Ischemia triggers the release of MMPs, \n",
      "which can further damage tissue by degrading the extracellular matrix. TIMP-1's\n",
      "inhibition of MMPs could limit this secondary damage.\n",
      "    * **Anti-inflammatory effects:**  TIMP-1 has been shown to possess \n",
      "anti-inflammatory properties, which could be beneficial in reducing the \n",
      "inflammation associated with ischemic injury.\n",
      "    * **Angiogenesis regulation:**  In some contexts, TIMP-1 may promote \n",
      "angiogenesis (formation of new blood vessels), which could help restore blood \n",
      "flow to ischemic tissues.\n",
      "\n",
      "* **Potential Detrimental Effects:** Conversely, other studies suggest that \n",
      "TIMP-1 can exacerbate ischemic injury.  This could be because:\n",
      "    * **Excessive inhibition of MMPs:**  While MMPs can be damaging, some MMPs \n",
      "are also involved in tissue repair and remodeling. Excessive inhibition by \n",
      "TIMP-1 could hinder this process.\n",
      "    * **Influence on cell survival and apoptosis:**  The effects of TIMP-1 on \n",
      "cell survival and apoptosis (programmed cell death) appear to be \n",
      "context-dependent and might contribute to detrimental effects in certain \n",
      "ischemic settings.\n",
      "\n",
      "* **Context-Dependent Role:**  The overall effect of TIMP-1 in ischemia depends\n",
      "heavily on factors such as the:\n",
      "    * **Tissue type:**  TIMP-1's role may differ significantly between tissues \n",
      "(e.g., heart, brain, kidney).\n",
      "    * **Severity and duration of ischemia:**  The response may vary depending \n",
      "on the extent and duration of the ischemic event.\n",
      "    * **Presence of other factors:**  The effects of TIMP-1 can be modulated by\n",
      "other molecules and signaling pathways involved in the ischemic response.\n",
      "\n",
      "In conclusion, the relationship between TIMP1 and ischemia isn't simple.  While\n",
      "it may offer some protection against ischemic damage by regulating MMP activity\n",
      "and inflammation, it could also negatively impact tissue repair and survival \n",
      "under certain conditions.  Further research is needed to fully elucidate its \n",
      "complex role in ischemic injury and to determine whether it can be a viable \n",
      "therapeutic target.\n",
      "\n"
     ]
    }
   ],
   "source": [
    "my_chatbot$chat('Is TIMP1 gene related to ischemia?')"
   ]
  },
  {
   "cell_type": "code",
   "execution_count": 9,
   "id": "0bfa8df2-fffc-4881-8903-1220e8391342",
   "metadata": {},
   "outputs": [],
   "source": [
    "my_chatbot <- chat_openai(model = 'gpt-4o-mini')"
   ]
  },
  {
   "cell_type": "code",
   "execution_count": 10,
   "id": "2e5616ae-ece1-4392-97a1-8a3ec113b191",
   "metadata": {},
   "outputs": [
    {
     "name": "stdout",
     "output_type": "stream",
     "text": [
      "As of my last knowledge update in October 2023, there has been growing interest\n",
      "in the role of epigenetic modifications in various neurological conditions, \n",
      "including ischemic stroke. Research indicates that ischemia can lead to changes\n",
      "in the expression of various epigenetic enzymes, which play crucial roles in \n",
      "regulating gene expression through modifications such as methylation and \n",
      "acetylation of histones.\n",
      "\n",
      "In the context of post-ischemic endothelial cells in the human brain, studies \n",
      "have generally focused on the following aspects:\n",
      "\n",
      "1. **Histone Modifications**: Ischemic conditions can alter histone acetylation\n",
      "and methylation, impacting the expression of genes involved in inflammation, \n",
      "apoptosis, and vascular repair.\n",
      "\n",
      "2. **DNA Methylation**: Changes in DNA methyltransferase (DNMT) expression have\n",
      "been observed post-ischemia, which can lead to altered gene expression patterns\n",
      "that affect endothelial function and vascular integrity.\n",
      "\n",
      "3. **Non-coding RNAs**: Epigenetic changes in non-coding RNAs, such as \n",
      "microRNAs, have also been implicated in the response of endothelial cells to \n",
      "ischemia, affecting their proliferation, migration, and survival.\n",
      "\n",
      "4. **Specific Enzymes of Interest**: Researchers have identified particular \n",
      "enzymes, such as SIRT1 (a sirtuin involved in deacetylation) and various \n",
      "histone deacetylases (HDACs), that may be altered in response to ischemic \n",
      "injury, influencing endothelial cell behavior.\n",
      "\n",
      "While there are studies on animal models and some on human tissues affected by \n",
      "stroke, direct data on human brain post-ischemic endothelial cells may be more \n",
      "limited. Therefore, it is crucial to consult recent literature and reviews that\n",
      "focus on cerebrovascular pathophysiology and epigenetics, as new findings \n",
      "continue to emerge in this rapidly evolving field. If you're seeking very \n",
      "specific studies or reviews, checking databases like PubMed or specialized \n",
      "journals in neurology and molecular biology might provide the latest data.\n"
     ]
    }
   ],
   "source": [
    "my_chatbot$chat('Is there any information in literature regarding changes in the epigenetic enzyme expression levels in post-ischemic endothelial cells in human brain? ')"
   ]
  },
  {
   "cell_type": "code",
   "execution_count": 11,
   "id": "237286db-1ae1-4040-aa9c-9e66f34bba7b",
   "metadata": {},
   "outputs": [
    {
     "name": "stdout",
     "output_type": "stream",
     "text": [
      "Ischemia, which refers to a deficiency of blood flow and oxygen to tissues, \n",
      "triggers a cascade of cellular responses that can lead to epigenetic changes. \n",
      "Here are some mechanisms through which ischemia can induce alterations in the \n",
      "expression of epigenetic enzymes and overall epigenetic modifications in \n",
      "endothelial cells, particularly in the context of the human brain:\n",
      "\n",
      "1. **Hypoxia**: Ischemia creates a hypoxic environment (low oxygen levels), \n",
      "which can activate hypoxia-inducible factors (HIFs). HIFs play a key role in \n",
      "cellular responses to low oxygen and can recruit various epigenetic regulators \n",
      "to specific gene promoters, leading to changes in gene expression that promote \n",
      "survival in hypoxic conditions.\n",
      "\n",
      "2. **Oxidative Stress**: Ischemia often results in increased production of \n",
      "reactive oxygen species (ROS). Elevated ROS levels can damage cellular \n",
      "components and induce signaling pathways that alter the expression of \n",
      "epigenetic enzymes. For example, oxidative stress can affect the activity of \n",
      "lysine demethylases and histone acetyltransferases, leading to changes in \n",
      "histone marks and DNA accessibility.\n",
      "\n",
      "3. **Inflammatory Responses**: Ischemic events typically activate inflammatory \n",
      "pathways, leading to the release of pro-inflammatory cytokines and chemokines. \n",
      "These inflammatory mediators can affect gene expression by altering the \n",
      "epigenetic landscape. For instance, tumor necrosis factor-alpha (TNF-α) and \n",
      "interleukin-1 beta (IL-1β) can regulate histone modifications and recruit \n",
      "epigenetic modifiers to specific gene loci.\n",
      "\n",
      "4. **Metabolic Changes**: Ischemia changes cellular metabolism, often leading \n",
      "to an accumulation of metabolites such as succinate and fumarate, which can \n",
      "inhibit dioxygenases responsible for removing specific epigenetic marks. This \n",
      "can result in altered histone methylation and other epigenetic changes that \n",
      "affect endothelial cell function.\n",
      "\n",
      "5. **Cellular Signaling Pathways**: Ischemia can activate various signaling \n",
      "pathways, such as the mitogen-activated protein kinase (MAPK) pathway and the \n",
      "phosphatidylinositol 3-kinase (PI3K)/Akt pathway. These pathways can influence \n",
      "the expression or activity of epigenetic enzymes, contributing to changes in \n",
      "gene expression profiles that support cell survival, proliferation, or \n",
      "apoptosis.\n",
      "\n",
      "6. **Endothelial Dysfunction**: Ischemia can result in endothelial cell \n",
      "dysfunction, characterized by impaired barrier function, increased \n",
      "permeability, and altered angiogenesis. These changes can further influence the\n",
      "expression of epigenetic regulators, leading to a feedback loop that \n",
      "perpetuates the dysfunction.\n",
      "\n",
      "7. **Nutrient Availability**: The availability of essential nutrients, such as \n",
      "folate and other one-carbon metabolism products, can be altered during ischemic\n",
      "conditions. Nutritional changes influence DNA and histone methylation processes\n",
      "because these pathways depend on adequate levels of substrates and cofactors.\n",
      "\n",
      "Overall, ischemia instigates a series of biochemical and molecular events that \n",
      "converge to induce significant epigenetic changes in endothelial cells. These \n",
      "changes may have profound implications for the long-term outcomes after \n",
      "ischemic injuries, influencing inflammation, repair processes, and potentially \n",
      "the development of conditions like post-stroke complications or vascular \n",
      "remodeling.\n"
     ]
    }
   ],
   "source": [
    "my_chatbot$chat(\"Interesting, how might ischemia bring in those changes?\")"
   ]
  },
  {
   "cell_type": "code",
   "execution_count": 12,
   "id": "e07ee681-643c-4299-ad3c-625cc0563d1d",
   "metadata": {},
   "outputs": [
    {
     "data": {
      "text/plain": [
       "R version 4.4.1 (2024-06-14)\n",
       "Platform: x86_64-unknown-linux-gnu\n",
       "Running under: Red Hat Enterprise Linux 9.4 (Plow)\n",
       "\n",
       "Matrix products: default\n",
       "BLAS/LAPACK: /gnu/store/mvbj21lcf387dgs04d29n0sxrydq03a6-openblas-0.3.20/lib/libopenblasp-r0.3.20.so;  LAPACK version 3.9.0\n",
       "\n",
       "locale:\n",
       " [1] LC_CTYPE=en_GB.UTF-8       LC_NUMERIC=C              \n",
       " [3] LC_TIME=en_GB.UTF-8        LC_COLLATE=en_GB.UTF-8    \n",
       " [5] LC_MONETARY=en_GB.UTF-8    LC_MESSAGES=en_GB.UTF-8   \n",
       " [7] LC_PAPER=en_GB.UTF-8       LC_NAME=C                 \n",
       " [9] LC_ADDRESS=C               LC_TELEPHONE=C            \n",
       "[11] LC_MEASUREMENT=en_GB.UTF-8 LC_IDENTIFICATION=C       \n",
       "\n",
       "time zone: Europe/Berlin\n",
       "tzcode source: system (glibc)\n",
       "\n",
       "attached base packages:\n",
       "[1] stats     graphics  grDevices utils     datasets  methods   base     \n",
       "\n",
       "other attached packages:\n",
       "[1] ellmer_0.1.0\n",
       "\n",
       "loaded via a namespace (and not attached):\n",
       " [1] crayon_1.5.3        vctrs_0.6.5         cli_3.6.3          \n",
       " [4] rlang_1.1.4         renv_1.0.7          S7_0.2.0           \n",
       " [7] coro_1.1.0          jsonlite_1.8.8      glue_1.7.0         \n",
       "[10] htmltools_0.5.8.1   IRdisplay_1.1       IRkernel_1.3.2     \n",
       "[13] fansi_1.0.6         rappdirs_0.3.3      evaluate_0.24.0    \n",
       "[16] fastmap_1.2.0       base64enc_0.1-3     lifecycle_1.0.4    \n",
       "[19] httr2_1.1.0         BiocManager_1.30.24 compiler_4.4.1     \n",
       "[22] pbdZMQ_0.3-11       digest_0.6.37       R6_2.5.1           \n",
       "[25] repr_1.1.7          utf8_1.2.4          curl_6.2.0         \n",
       "[28] pillar_1.9.0        magrittr_2.0.3      uuid_1.2-1         \n",
       "[31] tools_4.4.1        "
      ]
     },
     "metadata": {},
     "output_type": "display_data"
    }
   ],
   "source": [
    "sessionInfo()"
   ]
  },
  {
   "cell_type": "code",
   "execution_count": null,
   "id": "7b186db4-232a-4aff-8ba1-e1390921e3b0",
   "metadata": {},
   "outputs": [],
   "source": []
  }
 ],
 "metadata": {
  "kernelspec": {
   "display_name": "R",
   "language": "R",
   "name": "ir"
  },
  "language_info": {
   "codemirror_mode": "r",
   "file_extension": ".r",
   "mimetype": "text/x-r-source",
   "name": "R",
   "pygments_lexer": "r",
   "version": "4.4.1"
  }
 },
 "nbformat": 4,
 "nbformat_minor": 5
}
